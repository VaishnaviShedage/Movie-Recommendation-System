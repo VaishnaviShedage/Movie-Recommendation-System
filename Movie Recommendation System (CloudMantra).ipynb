{
 "cells": [
  {
   "cell_type": "markdown",
   "id": "681c0be8",
   "metadata": {
    "papermill": {
     "duration": 0.030217,
     "end_time": "2022-06-20T14:46:25.972401",
     "exception": false,
     "start_time": "2022-06-20T14:46:25.942184",
     "status": "completed"
    },
    "tags": []
   },
   "source": [
    "### Importing Libraries"
   ]
  },
  {
   "cell_type": "code",
   "execution_count": 104,
   "id": "00e5a32c",
   "metadata": {
    "execution": {
     "iopub.execute_input": "2022-06-20T14:46:26.030108Z",
     "iopub.status.busy": "2022-06-20T14:46:26.029252Z",
     "iopub.status.idle": "2022-06-20T14:46:28.455074Z",
     "shell.execute_reply": "2022-06-20T14:46:28.453900Z"
    },
    "papermill": {
     "duration": 2.457981,
     "end_time": "2022-06-20T14:46:28.457958",
     "exception": false,
     "start_time": "2022-06-20T14:46:25.999977",
     "status": "completed"
    },
    "tags": []
   },
   "outputs": [],
   "source": [
    "import pandas as pd \n",
    "import numpy as np \n",
    "import matplotlib.pyplot as plt \n",
    "import seaborn as sns \n",
    "import plotly.express as px \n",
    "import warnings \n",
    "warnings.simplefilter('ignore')"
   ]
  },
  {
   "cell_type": "code",
   "execution_count": 105,
   "id": "70bb3588",
   "metadata": {
    "execution": {
     "iopub.execute_input": "2022-06-20T14:46:28.514864Z",
     "iopub.status.busy": "2022-06-20T14:46:28.514006Z",
     "iopub.status.idle": "2022-06-20T14:46:29.492028Z",
     "shell.execute_reply": "2022-06-20T14:46:29.490859Z"
    },
    "papermill": {
     "duration": 1.009441,
     "end_time": "2022-06-20T14:46:29.494718",
     "exception": false,
     "start_time": "2022-06-20T14:46:28.485277",
     "status": "completed"
    },
    "tags": []
   },
   "outputs": [],
   "source": [
    "movies = pd.read_csv('D:/Summer internship/Cloud mantra/Movie recommendation system/tmdb_5000_movies.csv')\n",
    "credits = pd.read_csv('D:/Summer internship/Cloud mantra/Movie recommendation system/tmdb_5000_credits.csv')"
   ]
  },
  {
   "cell_type": "code",
   "execution_count": 106,
   "id": "d79ae1ed",
   "metadata": {
    "execution": {
     "iopub.execute_input": "2022-06-20T14:46:29.552805Z",
     "iopub.status.busy": "2022-06-20T14:46:29.552355Z",
     "iopub.status.idle": "2022-06-20T14:46:29.583306Z",
     "shell.execute_reply": "2022-06-20T14:46:29.582053Z"
    },
    "papermill": {
     "duration": 0.063309,
     "end_time": "2022-06-20T14:46:29.586005",
     "exception": false,
     "start_time": "2022-06-20T14:46:29.522696",
     "status": "completed"
    },
    "tags": []
   },
   "outputs": [
    {
     "data": {
      "text/html": [
       "<div>\n",
       "<style scoped>\n",
       "    .dataframe tbody tr th:only-of-type {\n",
       "        vertical-align: middle;\n",
       "    }\n",
       "\n",
       "    .dataframe tbody tr th {\n",
       "        vertical-align: top;\n",
       "    }\n",
       "\n",
       "    .dataframe thead th {\n",
       "        text-align: right;\n",
       "    }\n",
       "</style>\n",
       "<table border=\"1\" class=\"dataframe\">\n",
       "  <thead>\n",
       "    <tr style=\"text-align: right;\">\n",
       "      <th></th>\n",
       "      <th>budget</th>\n",
       "      <th>genres</th>\n",
       "      <th>homepage</th>\n",
       "      <th>id</th>\n",
       "      <th>keywords</th>\n",
       "      <th>original_language</th>\n",
       "      <th>original_title</th>\n",
       "      <th>overview</th>\n",
       "      <th>popularity</th>\n",
       "      <th>production_companies</th>\n",
       "      <th>production_countries</th>\n",
       "      <th>release_date</th>\n",
       "      <th>revenue</th>\n",
       "      <th>runtime</th>\n",
       "      <th>spoken_languages</th>\n",
       "      <th>status</th>\n",
       "      <th>tagline</th>\n",
       "      <th>title</th>\n",
       "      <th>vote_average</th>\n",
       "      <th>vote_count</th>\n",
       "    </tr>\n",
       "  </thead>\n",
       "  <tbody>\n",
       "    <tr>\n",
       "      <th>0</th>\n",
       "      <td>237000000</td>\n",
       "      <td>[{\"id\": 28, \"name\": \"Action\"}, {\"id\": 12, \"nam...</td>\n",
       "      <td>http://www.avatarmovie.com/</td>\n",
       "      <td>19995</td>\n",
       "      <td>[{\"id\": 1463, \"name\": \"culture clash\"}, {\"id\":...</td>\n",
       "      <td>en</td>\n",
       "      <td>Avatar</td>\n",
       "      <td>In the 22nd century, a paraplegic Marine is di...</td>\n",
       "      <td>150.437577</td>\n",
       "      <td>[{\"name\": \"Ingenious Film Partners\", \"id\": 289...</td>\n",
       "      <td>[{\"iso_3166_1\": \"US\", \"name\": \"United States o...</td>\n",
       "      <td>2009-12-10</td>\n",
       "      <td>2787965087</td>\n",
       "      <td>162.0</td>\n",
       "      <td>[{\"iso_639_1\": \"en\", \"name\": \"English\"}, {\"iso...</td>\n",
       "      <td>Released</td>\n",
       "      <td>Enter the World of Pandora.</td>\n",
       "      <td>Avatar</td>\n",
       "      <td>7.2</td>\n",
       "      <td>11800</td>\n",
       "    </tr>\n",
       "    <tr>\n",
       "      <th>1</th>\n",
       "      <td>300000000</td>\n",
       "      <td>[{\"id\": 12, \"name\": \"Adventure\"}, {\"id\": 14, \"...</td>\n",
       "      <td>http://disney.go.com/disneypictures/pirates/</td>\n",
       "      <td>285</td>\n",
       "      <td>[{\"id\": 270, \"name\": \"ocean\"}, {\"id\": 726, \"na...</td>\n",
       "      <td>en</td>\n",
       "      <td>Pirates of the Caribbean: At World's End</td>\n",
       "      <td>Captain Barbossa, long believed to be dead, ha...</td>\n",
       "      <td>139.082615</td>\n",
       "      <td>[{\"name\": \"Walt Disney Pictures\", \"id\": 2}, {\"...</td>\n",
       "      <td>[{\"iso_3166_1\": \"US\", \"name\": \"United States o...</td>\n",
       "      <td>2007-05-19</td>\n",
       "      <td>961000000</td>\n",
       "      <td>169.0</td>\n",
       "      <td>[{\"iso_639_1\": \"en\", \"name\": \"English\"}]</td>\n",
       "      <td>Released</td>\n",
       "      <td>At the end of the world, the adventure begins.</td>\n",
       "      <td>Pirates of the Caribbean: At World's End</td>\n",
       "      <td>6.9</td>\n",
       "      <td>4500</td>\n",
       "    </tr>\n",
       "    <tr>\n",
       "      <th>2</th>\n",
       "      <td>245000000</td>\n",
       "      <td>[{\"id\": 28, \"name\": \"Action\"}, {\"id\": 12, \"nam...</td>\n",
       "      <td>http://www.sonypictures.com/movies/spectre/</td>\n",
       "      <td>206647</td>\n",
       "      <td>[{\"id\": 470, \"name\": \"spy\"}, {\"id\": 818, \"name...</td>\n",
       "      <td>en</td>\n",
       "      <td>Spectre</td>\n",
       "      <td>A cryptic message from Bond’s past sends him o...</td>\n",
       "      <td>107.376788</td>\n",
       "      <td>[{\"name\": \"Columbia Pictures\", \"id\": 5}, {\"nam...</td>\n",
       "      <td>[{\"iso_3166_1\": \"GB\", \"name\": \"United Kingdom\"...</td>\n",
       "      <td>2015-10-26</td>\n",
       "      <td>880674609</td>\n",
       "      <td>148.0</td>\n",
       "      <td>[{\"iso_639_1\": \"fr\", \"name\": \"Fran\\u00e7ais\"},...</td>\n",
       "      <td>Released</td>\n",
       "      <td>A Plan No One Escapes</td>\n",
       "      <td>Spectre</td>\n",
       "      <td>6.3</td>\n",
       "      <td>4466</td>\n",
       "    </tr>\n",
       "    <tr>\n",
       "      <th>3</th>\n",
       "      <td>250000000</td>\n",
       "      <td>[{\"id\": 28, \"name\": \"Action\"}, {\"id\": 80, \"nam...</td>\n",
       "      <td>http://www.thedarkknightrises.com/</td>\n",
       "      <td>49026</td>\n",
       "      <td>[{\"id\": 849, \"name\": \"dc comics\"}, {\"id\": 853,...</td>\n",
       "      <td>en</td>\n",
       "      <td>The Dark Knight Rises</td>\n",
       "      <td>Following the death of District Attorney Harve...</td>\n",
       "      <td>112.312950</td>\n",
       "      <td>[{\"name\": \"Legendary Pictures\", \"id\": 923}, {\"...</td>\n",
       "      <td>[{\"iso_3166_1\": \"US\", \"name\": \"United States o...</td>\n",
       "      <td>2012-07-16</td>\n",
       "      <td>1084939099</td>\n",
       "      <td>165.0</td>\n",
       "      <td>[{\"iso_639_1\": \"en\", \"name\": \"English\"}]</td>\n",
       "      <td>Released</td>\n",
       "      <td>The Legend Ends</td>\n",
       "      <td>The Dark Knight Rises</td>\n",
       "      <td>7.6</td>\n",
       "      <td>9106</td>\n",
       "    </tr>\n",
       "    <tr>\n",
       "      <th>4</th>\n",
       "      <td>260000000</td>\n",
       "      <td>[{\"id\": 28, \"name\": \"Action\"}, {\"id\": 12, \"nam...</td>\n",
       "      <td>http://movies.disney.com/john-carter</td>\n",
       "      <td>49529</td>\n",
       "      <td>[{\"id\": 818, \"name\": \"based on novel\"}, {\"id\":...</td>\n",
       "      <td>en</td>\n",
       "      <td>John Carter</td>\n",
       "      <td>John Carter is a war-weary, former military ca...</td>\n",
       "      <td>43.926995</td>\n",
       "      <td>[{\"name\": \"Walt Disney Pictures\", \"id\": 2}]</td>\n",
       "      <td>[{\"iso_3166_1\": \"US\", \"name\": \"United States o...</td>\n",
       "      <td>2012-03-07</td>\n",
       "      <td>284139100</td>\n",
       "      <td>132.0</td>\n",
       "      <td>[{\"iso_639_1\": \"en\", \"name\": \"English\"}]</td>\n",
       "      <td>Released</td>\n",
       "      <td>Lost in our world, found in another.</td>\n",
       "      <td>John Carter</td>\n",
       "      <td>6.1</td>\n",
       "      <td>2124</td>\n",
       "    </tr>\n",
       "  </tbody>\n",
       "</table>\n",
       "</div>"
      ],
      "text/plain": [
       "      budget                                             genres  \\\n",
       "0  237000000  [{\"id\": 28, \"name\": \"Action\"}, {\"id\": 12, \"nam...   \n",
       "1  300000000  [{\"id\": 12, \"name\": \"Adventure\"}, {\"id\": 14, \"...   \n",
       "2  245000000  [{\"id\": 28, \"name\": \"Action\"}, {\"id\": 12, \"nam...   \n",
       "3  250000000  [{\"id\": 28, \"name\": \"Action\"}, {\"id\": 80, \"nam...   \n",
       "4  260000000  [{\"id\": 28, \"name\": \"Action\"}, {\"id\": 12, \"nam...   \n",
       "\n",
       "                                       homepage      id  \\\n",
       "0                   http://www.avatarmovie.com/   19995   \n",
       "1  http://disney.go.com/disneypictures/pirates/     285   \n",
       "2   http://www.sonypictures.com/movies/spectre/  206647   \n",
       "3            http://www.thedarkknightrises.com/   49026   \n",
       "4          http://movies.disney.com/john-carter   49529   \n",
       "\n",
       "                                            keywords original_language  \\\n",
       "0  [{\"id\": 1463, \"name\": \"culture clash\"}, {\"id\":...                en   \n",
       "1  [{\"id\": 270, \"name\": \"ocean\"}, {\"id\": 726, \"na...                en   \n",
       "2  [{\"id\": 470, \"name\": \"spy\"}, {\"id\": 818, \"name...                en   \n",
       "3  [{\"id\": 849, \"name\": \"dc comics\"}, {\"id\": 853,...                en   \n",
       "4  [{\"id\": 818, \"name\": \"based on novel\"}, {\"id\":...                en   \n",
       "\n",
       "                             original_title  \\\n",
       "0                                    Avatar   \n",
       "1  Pirates of the Caribbean: At World's End   \n",
       "2                                   Spectre   \n",
       "3                     The Dark Knight Rises   \n",
       "4                               John Carter   \n",
       "\n",
       "                                            overview  popularity  \\\n",
       "0  In the 22nd century, a paraplegic Marine is di...  150.437577   \n",
       "1  Captain Barbossa, long believed to be dead, ha...  139.082615   \n",
       "2  A cryptic message from Bond’s past sends him o...  107.376788   \n",
       "3  Following the death of District Attorney Harve...  112.312950   \n",
       "4  John Carter is a war-weary, former military ca...   43.926995   \n",
       "\n",
       "                                production_companies  \\\n",
       "0  [{\"name\": \"Ingenious Film Partners\", \"id\": 289...   \n",
       "1  [{\"name\": \"Walt Disney Pictures\", \"id\": 2}, {\"...   \n",
       "2  [{\"name\": \"Columbia Pictures\", \"id\": 5}, {\"nam...   \n",
       "3  [{\"name\": \"Legendary Pictures\", \"id\": 923}, {\"...   \n",
       "4        [{\"name\": \"Walt Disney Pictures\", \"id\": 2}]   \n",
       "\n",
       "                                production_countries release_date     revenue  \\\n",
       "0  [{\"iso_3166_1\": \"US\", \"name\": \"United States o...   2009-12-10  2787965087   \n",
       "1  [{\"iso_3166_1\": \"US\", \"name\": \"United States o...   2007-05-19   961000000   \n",
       "2  [{\"iso_3166_1\": \"GB\", \"name\": \"United Kingdom\"...   2015-10-26   880674609   \n",
       "3  [{\"iso_3166_1\": \"US\", \"name\": \"United States o...   2012-07-16  1084939099   \n",
       "4  [{\"iso_3166_1\": \"US\", \"name\": \"United States o...   2012-03-07   284139100   \n",
       "\n",
       "   runtime                                   spoken_languages    status  \\\n",
       "0    162.0  [{\"iso_639_1\": \"en\", \"name\": \"English\"}, {\"iso...  Released   \n",
       "1    169.0           [{\"iso_639_1\": \"en\", \"name\": \"English\"}]  Released   \n",
       "2    148.0  [{\"iso_639_1\": \"fr\", \"name\": \"Fran\\u00e7ais\"},...  Released   \n",
       "3    165.0           [{\"iso_639_1\": \"en\", \"name\": \"English\"}]  Released   \n",
       "4    132.0           [{\"iso_639_1\": \"en\", \"name\": \"English\"}]  Released   \n",
       "\n",
       "                                          tagline  \\\n",
       "0                     Enter the World of Pandora.   \n",
       "1  At the end of the world, the adventure begins.   \n",
       "2                           A Plan No One Escapes   \n",
       "3                                 The Legend Ends   \n",
       "4            Lost in our world, found in another.   \n",
       "\n",
       "                                      title  vote_average  vote_count  \n",
       "0                                    Avatar           7.2       11800  \n",
       "1  Pirates of the Caribbean: At World's End           6.9        4500  \n",
       "2                                   Spectre           6.3        4466  \n",
       "3                     The Dark Knight Rises           7.6        9106  \n",
       "4                               John Carter           6.1        2124  "
      ]
     },
     "execution_count": 106,
     "metadata": {},
     "output_type": "execute_result"
    }
   ],
   "source": [
    "movies.head()"
   ]
  },
  {
   "cell_type": "code",
   "execution_count": 107,
   "id": "33eb624e",
   "metadata": {
    "execution": {
     "iopub.execute_input": "2022-06-20T14:46:29.644273Z",
     "iopub.status.busy": "2022-06-20T14:46:29.643454Z",
     "iopub.status.idle": "2022-06-20T14:46:29.656335Z",
     "shell.execute_reply": "2022-06-20T14:46:29.655545Z"
    },
    "papermill": {
     "duration": 0.044281,
     "end_time": "2022-06-20T14:46:29.658457",
     "exception": false,
     "start_time": "2022-06-20T14:46:29.614176",
     "status": "completed"
    },
    "tags": []
   },
   "outputs": [
    {
     "data": {
      "text/html": [
       "<div>\n",
       "<style scoped>\n",
       "    .dataframe tbody tr th:only-of-type {\n",
       "        vertical-align: middle;\n",
       "    }\n",
       "\n",
       "    .dataframe tbody tr th {\n",
       "        vertical-align: top;\n",
       "    }\n",
       "\n",
       "    .dataframe thead th {\n",
       "        text-align: right;\n",
       "    }\n",
       "</style>\n",
       "<table border=\"1\" class=\"dataframe\">\n",
       "  <thead>\n",
       "    <tr style=\"text-align: right;\">\n",
       "      <th></th>\n",
       "      <th>movie_id</th>\n",
       "      <th>title</th>\n",
       "      <th>cast</th>\n",
       "      <th>crew</th>\n",
       "    </tr>\n",
       "  </thead>\n",
       "  <tbody>\n",
       "    <tr>\n",
       "      <th>0</th>\n",
       "      <td>19995</td>\n",
       "      <td>Avatar</td>\n",
       "      <td>[{\"cast_id\": 242, \"character\": \"Jake Sully\", \"...</td>\n",
       "      <td>[{\"credit_id\": \"52fe48009251416c750aca23\", \"de...</td>\n",
       "    </tr>\n",
       "    <tr>\n",
       "      <th>1</th>\n",
       "      <td>285</td>\n",
       "      <td>Pirates of the Caribbean: At World's End</td>\n",
       "      <td>[{\"cast_id\": 4, \"character\": \"Captain Jack Spa...</td>\n",
       "      <td>[{\"credit_id\": \"52fe4232c3a36847f800b579\", \"de...</td>\n",
       "    </tr>\n",
       "    <tr>\n",
       "      <th>2</th>\n",
       "      <td>206647</td>\n",
       "      <td>Spectre</td>\n",
       "      <td>[{\"cast_id\": 1, \"character\": \"James Bond\", \"cr...</td>\n",
       "      <td>[{\"credit_id\": \"54805967c3a36829b5002c41\", \"de...</td>\n",
       "    </tr>\n",
       "    <tr>\n",
       "      <th>3</th>\n",
       "      <td>49026</td>\n",
       "      <td>The Dark Knight Rises</td>\n",
       "      <td>[{\"cast_id\": 2, \"character\": \"Bruce Wayne / Ba...</td>\n",
       "      <td>[{\"credit_id\": \"52fe4781c3a36847f81398c3\", \"de...</td>\n",
       "    </tr>\n",
       "    <tr>\n",
       "      <th>4</th>\n",
       "      <td>49529</td>\n",
       "      <td>John Carter</td>\n",
       "      <td>[{\"cast_id\": 5, \"character\": \"John Carter\", \"c...</td>\n",
       "      <td>[{\"credit_id\": \"52fe479ac3a36847f813eaa3\", \"de...</td>\n",
       "    </tr>\n",
       "  </tbody>\n",
       "</table>\n",
       "</div>"
      ],
      "text/plain": [
       "   movie_id                                     title  \\\n",
       "0     19995                                    Avatar   \n",
       "1       285  Pirates of the Caribbean: At World's End   \n",
       "2    206647                                   Spectre   \n",
       "3     49026                     The Dark Knight Rises   \n",
       "4     49529                               John Carter   \n",
       "\n",
       "                                                cast  \\\n",
       "0  [{\"cast_id\": 242, \"character\": \"Jake Sully\", \"...   \n",
       "1  [{\"cast_id\": 4, \"character\": \"Captain Jack Spa...   \n",
       "2  [{\"cast_id\": 1, \"character\": \"James Bond\", \"cr...   \n",
       "3  [{\"cast_id\": 2, \"character\": \"Bruce Wayne / Ba...   \n",
       "4  [{\"cast_id\": 5, \"character\": \"John Carter\", \"c...   \n",
       "\n",
       "                                                crew  \n",
       "0  [{\"credit_id\": \"52fe48009251416c750aca23\", \"de...  \n",
       "1  [{\"credit_id\": \"52fe4232c3a36847f800b579\", \"de...  \n",
       "2  [{\"credit_id\": \"54805967c3a36829b5002c41\", \"de...  \n",
       "3  [{\"credit_id\": \"52fe4781c3a36847f81398c3\", \"de...  \n",
       "4  [{\"credit_id\": \"52fe479ac3a36847f813eaa3\", \"de...  "
      ]
     },
     "execution_count": 107,
     "metadata": {},
     "output_type": "execute_result"
    }
   ],
   "source": [
    "credits.head()"
   ]
  },
  {
   "cell_type": "markdown",
   "id": "2d0179f3",
   "metadata": {
    "papermill": {
     "duration": 0.028262,
     "end_time": "2022-06-20T14:46:29.714629",
     "exception": false,
     "start_time": "2022-06-20T14:46:29.686367",
     "status": "completed"
    },
    "tags": []
   },
   "source": [
    "**find out Common columns between movies and credits dataset so that we can merge them.**"
   ]
  },
  {
   "cell_type": "code",
   "execution_count": 108,
   "id": "4b132187",
   "metadata": {
    "execution": {
     "iopub.execute_input": "2022-06-20T14:46:29.773146Z",
     "iopub.status.busy": "2022-06-20T14:46:29.772357Z",
     "iopub.status.idle": "2022-06-20T14:46:29.778468Z",
     "shell.execute_reply": "2022-06-20T14:46:29.777748Z"
    },
    "papermill": {
     "duration": 0.037429,
     "end_time": "2022-06-20T14:46:29.780475",
     "exception": false,
     "start_time": "2022-06-20T14:46:29.743046",
     "status": "completed"
    },
    "tags": []
   },
   "outputs": [
    {
     "data": {
      "text/plain": [
       "['title']"
      ]
     },
     "execution_count": 108,
     "metadata": {},
     "output_type": "execute_result"
    }
   ],
   "source": [
    "cm_cols = [col for col in movies if col in credits]\n",
    "cm_cols"
   ]
  },
  {
   "cell_type": "code",
   "execution_count": 109,
   "id": "4e99f227",
   "metadata": {
    "execution": {
     "iopub.execute_input": "2022-06-20T14:46:29.841520Z",
     "iopub.status.busy": "2022-06-20T14:46:29.840908Z",
     "iopub.status.idle": "2022-06-20T14:46:29.897295Z",
     "shell.execute_reply": "2022-06-20T14:46:29.896199Z"
    },
    "papermill": {
     "duration": 0.090233,
     "end_time": "2022-06-20T14:46:29.899891",
     "exception": false,
     "start_time": "2022-06-20T14:46:29.809658",
     "status": "completed"
    },
    "tags": []
   },
   "outputs": [
    {
     "data": {
      "text/html": [
       "<div>\n",
       "<style scoped>\n",
       "    .dataframe tbody tr th:only-of-type {\n",
       "        vertical-align: middle;\n",
       "    }\n",
       "\n",
       "    .dataframe tbody tr th {\n",
       "        vertical-align: top;\n",
       "    }\n",
       "\n",
       "    .dataframe thead th {\n",
       "        text-align: right;\n",
       "    }\n",
       "</style>\n",
       "<table border=\"1\" class=\"dataframe\">\n",
       "  <thead>\n",
       "    <tr style=\"text-align: right;\">\n",
       "      <th></th>\n",
       "      <th>budget</th>\n",
       "      <th>genres</th>\n",
       "      <th>homepage</th>\n",
       "      <th>id</th>\n",
       "      <th>keywords</th>\n",
       "      <th>original_language</th>\n",
       "      <th>original_title</th>\n",
       "      <th>overview</th>\n",
       "      <th>popularity</th>\n",
       "      <th>production_companies</th>\n",
       "      <th>...</th>\n",
       "      <th>runtime</th>\n",
       "      <th>spoken_languages</th>\n",
       "      <th>status</th>\n",
       "      <th>tagline</th>\n",
       "      <th>title</th>\n",
       "      <th>vote_average</th>\n",
       "      <th>vote_count</th>\n",
       "      <th>movie_id</th>\n",
       "      <th>cast</th>\n",
       "      <th>crew</th>\n",
       "    </tr>\n",
       "  </thead>\n",
       "  <tbody>\n",
       "    <tr>\n",
       "      <th>0</th>\n",
       "      <td>237000000</td>\n",
       "      <td>[{\"id\": 28, \"name\": \"Action\"}, {\"id\": 12, \"nam...</td>\n",
       "      <td>http://www.avatarmovie.com/</td>\n",
       "      <td>19995</td>\n",
       "      <td>[{\"id\": 1463, \"name\": \"culture clash\"}, {\"id\":...</td>\n",
       "      <td>en</td>\n",
       "      <td>Avatar</td>\n",
       "      <td>In the 22nd century, a paraplegic Marine is di...</td>\n",
       "      <td>150.437577</td>\n",
       "      <td>[{\"name\": \"Ingenious Film Partners\", \"id\": 289...</td>\n",
       "      <td>...</td>\n",
       "      <td>162.0</td>\n",
       "      <td>[{\"iso_639_1\": \"en\", \"name\": \"English\"}, {\"iso...</td>\n",
       "      <td>Released</td>\n",
       "      <td>Enter the World of Pandora.</td>\n",
       "      <td>Avatar</td>\n",
       "      <td>7.2</td>\n",
       "      <td>11800</td>\n",
       "      <td>19995</td>\n",
       "      <td>[{\"cast_id\": 242, \"character\": \"Jake Sully\", \"...</td>\n",
       "      <td>[{\"credit_id\": \"52fe48009251416c750aca23\", \"de...</td>\n",
       "    </tr>\n",
       "    <tr>\n",
       "      <th>1</th>\n",
       "      <td>300000000</td>\n",
       "      <td>[{\"id\": 12, \"name\": \"Adventure\"}, {\"id\": 14, \"...</td>\n",
       "      <td>http://disney.go.com/disneypictures/pirates/</td>\n",
       "      <td>285</td>\n",
       "      <td>[{\"id\": 270, \"name\": \"ocean\"}, {\"id\": 726, \"na...</td>\n",
       "      <td>en</td>\n",
       "      <td>Pirates of the Caribbean: At World's End</td>\n",
       "      <td>Captain Barbossa, long believed to be dead, ha...</td>\n",
       "      <td>139.082615</td>\n",
       "      <td>[{\"name\": \"Walt Disney Pictures\", \"id\": 2}, {\"...</td>\n",
       "      <td>...</td>\n",
       "      <td>169.0</td>\n",
       "      <td>[{\"iso_639_1\": \"en\", \"name\": \"English\"}]</td>\n",
       "      <td>Released</td>\n",
       "      <td>At the end of the world, the adventure begins.</td>\n",
       "      <td>Pirates of the Caribbean: At World's End</td>\n",
       "      <td>6.9</td>\n",
       "      <td>4500</td>\n",
       "      <td>285</td>\n",
       "      <td>[{\"cast_id\": 4, \"character\": \"Captain Jack Spa...</td>\n",
       "      <td>[{\"credit_id\": \"52fe4232c3a36847f800b579\", \"de...</td>\n",
       "    </tr>\n",
       "    <tr>\n",
       "      <th>2</th>\n",
       "      <td>245000000</td>\n",
       "      <td>[{\"id\": 28, \"name\": \"Action\"}, {\"id\": 12, \"nam...</td>\n",
       "      <td>http://www.sonypictures.com/movies/spectre/</td>\n",
       "      <td>206647</td>\n",
       "      <td>[{\"id\": 470, \"name\": \"spy\"}, {\"id\": 818, \"name...</td>\n",
       "      <td>en</td>\n",
       "      <td>Spectre</td>\n",
       "      <td>A cryptic message from Bond’s past sends him o...</td>\n",
       "      <td>107.376788</td>\n",
       "      <td>[{\"name\": \"Columbia Pictures\", \"id\": 5}, {\"nam...</td>\n",
       "      <td>...</td>\n",
       "      <td>148.0</td>\n",
       "      <td>[{\"iso_639_1\": \"fr\", \"name\": \"Fran\\u00e7ais\"},...</td>\n",
       "      <td>Released</td>\n",
       "      <td>A Plan No One Escapes</td>\n",
       "      <td>Spectre</td>\n",
       "      <td>6.3</td>\n",
       "      <td>4466</td>\n",
       "      <td>206647</td>\n",
       "      <td>[{\"cast_id\": 1, \"character\": \"James Bond\", \"cr...</td>\n",
       "      <td>[{\"credit_id\": \"54805967c3a36829b5002c41\", \"de...</td>\n",
       "    </tr>\n",
       "    <tr>\n",
       "      <th>3</th>\n",
       "      <td>250000000</td>\n",
       "      <td>[{\"id\": 28, \"name\": \"Action\"}, {\"id\": 80, \"nam...</td>\n",
       "      <td>http://www.thedarkknightrises.com/</td>\n",
       "      <td>49026</td>\n",
       "      <td>[{\"id\": 849, \"name\": \"dc comics\"}, {\"id\": 853,...</td>\n",
       "      <td>en</td>\n",
       "      <td>The Dark Knight Rises</td>\n",
       "      <td>Following the death of District Attorney Harve...</td>\n",
       "      <td>112.312950</td>\n",
       "      <td>[{\"name\": \"Legendary Pictures\", \"id\": 923}, {\"...</td>\n",
       "      <td>...</td>\n",
       "      <td>165.0</td>\n",
       "      <td>[{\"iso_639_1\": \"en\", \"name\": \"English\"}]</td>\n",
       "      <td>Released</td>\n",
       "      <td>The Legend Ends</td>\n",
       "      <td>The Dark Knight Rises</td>\n",
       "      <td>7.6</td>\n",
       "      <td>9106</td>\n",
       "      <td>49026</td>\n",
       "      <td>[{\"cast_id\": 2, \"character\": \"Bruce Wayne / Ba...</td>\n",
       "      <td>[{\"credit_id\": \"52fe4781c3a36847f81398c3\", \"de...</td>\n",
       "    </tr>\n",
       "    <tr>\n",
       "      <th>4</th>\n",
       "      <td>260000000</td>\n",
       "      <td>[{\"id\": 28, \"name\": \"Action\"}, {\"id\": 12, \"nam...</td>\n",
       "      <td>http://movies.disney.com/john-carter</td>\n",
       "      <td>49529</td>\n",
       "      <td>[{\"id\": 818, \"name\": \"based on novel\"}, {\"id\":...</td>\n",
       "      <td>en</td>\n",
       "      <td>John Carter</td>\n",
       "      <td>John Carter is a war-weary, former military ca...</td>\n",
       "      <td>43.926995</td>\n",
       "      <td>[{\"name\": \"Walt Disney Pictures\", \"id\": 2}]</td>\n",
       "      <td>...</td>\n",
       "      <td>132.0</td>\n",
       "      <td>[{\"iso_639_1\": \"en\", \"name\": \"English\"}]</td>\n",
       "      <td>Released</td>\n",
       "      <td>Lost in our world, found in another.</td>\n",
       "      <td>John Carter</td>\n",
       "      <td>6.1</td>\n",
       "      <td>2124</td>\n",
       "      <td>49529</td>\n",
       "      <td>[{\"cast_id\": 5, \"character\": \"John Carter\", \"c...</td>\n",
       "      <td>[{\"credit_id\": \"52fe479ac3a36847f813eaa3\", \"de...</td>\n",
       "    </tr>\n",
       "  </tbody>\n",
       "</table>\n",
       "<p>5 rows × 23 columns</p>\n",
       "</div>"
      ],
      "text/plain": [
       "      budget                                             genres  \\\n",
       "0  237000000  [{\"id\": 28, \"name\": \"Action\"}, {\"id\": 12, \"nam...   \n",
       "1  300000000  [{\"id\": 12, \"name\": \"Adventure\"}, {\"id\": 14, \"...   \n",
       "2  245000000  [{\"id\": 28, \"name\": \"Action\"}, {\"id\": 12, \"nam...   \n",
       "3  250000000  [{\"id\": 28, \"name\": \"Action\"}, {\"id\": 80, \"nam...   \n",
       "4  260000000  [{\"id\": 28, \"name\": \"Action\"}, {\"id\": 12, \"nam...   \n",
       "\n",
       "                                       homepage      id  \\\n",
       "0                   http://www.avatarmovie.com/   19995   \n",
       "1  http://disney.go.com/disneypictures/pirates/     285   \n",
       "2   http://www.sonypictures.com/movies/spectre/  206647   \n",
       "3            http://www.thedarkknightrises.com/   49026   \n",
       "4          http://movies.disney.com/john-carter   49529   \n",
       "\n",
       "                                            keywords original_language  \\\n",
       "0  [{\"id\": 1463, \"name\": \"culture clash\"}, {\"id\":...                en   \n",
       "1  [{\"id\": 270, \"name\": \"ocean\"}, {\"id\": 726, \"na...                en   \n",
       "2  [{\"id\": 470, \"name\": \"spy\"}, {\"id\": 818, \"name...                en   \n",
       "3  [{\"id\": 849, \"name\": \"dc comics\"}, {\"id\": 853,...                en   \n",
       "4  [{\"id\": 818, \"name\": \"based on novel\"}, {\"id\":...                en   \n",
       "\n",
       "                             original_title  \\\n",
       "0                                    Avatar   \n",
       "1  Pirates of the Caribbean: At World's End   \n",
       "2                                   Spectre   \n",
       "3                     The Dark Knight Rises   \n",
       "4                               John Carter   \n",
       "\n",
       "                                            overview  popularity  \\\n",
       "0  In the 22nd century, a paraplegic Marine is di...  150.437577   \n",
       "1  Captain Barbossa, long believed to be dead, ha...  139.082615   \n",
       "2  A cryptic message from Bond’s past sends him o...  107.376788   \n",
       "3  Following the death of District Attorney Harve...  112.312950   \n",
       "4  John Carter is a war-weary, former military ca...   43.926995   \n",
       "\n",
       "                                production_companies  ... runtime  \\\n",
       "0  [{\"name\": \"Ingenious Film Partners\", \"id\": 289...  ...   162.0   \n",
       "1  [{\"name\": \"Walt Disney Pictures\", \"id\": 2}, {\"...  ...   169.0   \n",
       "2  [{\"name\": \"Columbia Pictures\", \"id\": 5}, {\"nam...  ...   148.0   \n",
       "3  [{\"name\": \"Legendary Pictures\", \"id\": 923}, {\"...  ...   165.0   \n",
       "4        [{\"name\": \"Walt Disney Pictures\", \"id\": 2}]  ...   132.0   \n",
       "\n",
       "                                    spoken_languages    status  \\\n",
       "0  [{\"iso_639_1\": \"en\", \"name\": \"English\"}, {\"iso...  Released   \n",
       "1           [{\"iso_639_1\": \"en\", \"name\": \"English\"}]  Released   \n",
       "2  [{\"iso_639_1\": \"fr\", \"name\": \"Fran\\u00e7ais\"},...  Released   \n",
       "3           [{\"iso_639_1\": \"en\", \"name\": \"English\"}]  Released   \n",
       "4           [{\"iso_639_1\": \"en\", \"name\": \"English\"}]  Released   \n",
       "\n",
       "                                          tagline  \\\n",
       "0                     Enter the World of Pandora.   \n",
       "1  At the end of the world, the adventure begins.   \n",
       "2                           A Plan No One Escapes   \n",
       "3                                 The Legend Ends   \n",
       "4            Lost in our world, found in another.   \n",
       "\n",
       "                                      title vote_average vote_count movie_id  \\\n",
       "0                                    Avatar          7.2      11800    19995   \n",
       "1  Pirates of the Caribbean: At World's End          6.9       4500      285   \n",
       "2                                   Spectre          6.3       4466   206647   \n",
       "3                     The Dark Knight Rises          7.6       9106    49026   \n",
       "4                               John Carter          6.1       2124    49529   \n",
       "\n",
       "                                                cast  \\\n",
       "0  [{\"cast_id\": 242, \"character\": \"Jake Sully\", \"...   \n",
       "1  [{\"cast_id\": 4, \"character\": \"Captain Jack Spa...   \n",
       "2  [{\"cast_id\": 1, \"character\": \"James Bond\", \"cr...   \n",
       "3  [{\"cast_id\": 2, \"character\": \"Bruce Wayne / Ba...   \n",
       "4  [{\"cast_id\": 5, \"character\": \"John Carter\", \"c...   \n",
       "\n",
       "                                                crew  \n",
       "0  [{\"credit_id\": \"52fe48009251416c750aca23\", \"de...  \n",
       "1  [{\"credit_id\": \"52fe4232c3a36847f800b579\", \"de...  \n",
       "2  [{\"credit_id\": \"54805967c3a36829b5002c41\", \"de...  \n",
       "3  [{\"credit_id\": \"52fe4781c3a36847f81398c3\", \"de...  \n",
       "4  [{\"credit_id\": \"52fe479ac3a36847f813eaa3\", \"de...  \n",
       "\n",
       "[5 rows x 23 columns]"
      ]
     },
     "execution_count": 109,
     "metadata": {},
     "output_type": "execute_result"
    }
   ],
   "source": [
    "original_df = pd.merge(movies , credits , on = 'title')\n",
    "original_df.head()"
   ]
  },
  {
   "cell_type": "code",
   "execution_count": 110,
   "id": "5680d4fa",
   "metadata": {
    "execution": {
     "iopub.execute_input": "2022-06-20T14:46:29.960570Z",
     "iopub.status.busy": "2022-06-20T14:46:29.959237Z",
     "iopub.status.idle": "2022-06-20T14:46:29.972841Z",
     "shell.execute_reply": "2022-06-20T14:46:29.971528Z"
    },
    "papermill": {
     "duration": 0.046164,
     "end_time": "2022-06-20T14:46:29.975480",
     "exception": false,
     "start_time": "2022-06-20T14:46:29.929316",
     "status": "completed"
    },
    "tags": []
   },
   "outputs": [],
   "source": [
    "df = original_df.copy()"
   ]
  },
  {
   "cell_type": "code",
   "execution_count": 111,
   "id": "bf509d3c",
   "metadata": {
    "execution": {
     "iopub.execute_input": "2022-06-20T14:46:30.036018Z",
     "iopub.status.busy": "2022-06-20T14:46:30.035483Z",
     "iopub.status.idle": "2022-06-20T14:46:30.064618Z",
     "shell.execute_reply": "2022-06-20T14:46:30.063532Z"
    },
    "papermill": {
     "duration": 0.06271,
     "end_time": "2022-06-20T14:46:30.067381",
     "exception": false,
     "start_time": "2022-06-20T14:46:30.004671",
     "status": "completed"
    },
    "tags": []
   },
   "outputs": [
    {
     "name": "stdout",
     "output_type": "stream",
     "text": [
      "<class 'pandas.core.frame.DataFrame'>\n",
      "Int64Index: 4809 entries, 0 to 4808\n",
      "Data columns (total 23 columns):\n",
      " #   Column                Non-Null Count  Dtype  \n",
      "---  ------                --------------  -----  \n",
      " 0   budget                4809 non-null   int64  \n",
      " 1   genres                4809 non-null   object \n",
      " 2   homepage              1713 non-null   object \n",
      " 3   id                    4809 non-null   int64  \n",
      " 4   keywords              4809 non-null   object \n",
      " 5   original_language     4809 non-null   object \n",
      " 6   original_title        4809 non-null   object \n",
      " 7   overview              4806 non-null   object \n",
      " 8   popularity            4809 non-null   float64\n",
      " 9   production_companies  4809 non-null   object \n",
      " 10  production_countries  4809 non-null   object \n",
      " 11  release_date          4808 non-null   object \n",
      " 12  revenue               4809 non-null   int64  \n",
      " 13  runtime               4807 non-null   float64\n",
      " 14  spoken_languages      4809 non-null   object \n",
      " 15  status                4809 non-null   object \n",
      " 16  tagline               3965 non-null   object \n",
      " 17  title                 4809 non-null   object \n",
      " 18  vote_average          4809 non-null   float64\n",
      " 19  vote_count            4809 non-null   int64  \n",
      " 20  movie_id              4809 non-null   int64  \n",
      " 21  cast                  4809 non-null   object \n",
      " 22  crew                  4809 non-null   object \n",
      "dtypes: float64(3), int64(5), object(15)\n",
      "memory usage: 901.7+ KB\n"
     ]
    }
   ],
   "source": [
    "df.info()"
   ]
  },
  {
   "cell_type": "code",
   "execution_count": 112,
   "id": "29c7b58f",
   "metadata": {
    "execution": {
     "iopub.execute_input": "2022-06-20T14:46:30.126861Z",
     "iopub.status.busy": "2022-06-20T14:46:30.126390Z",
     "iopub.status.idle": "2022-06-20T14:46:30.134147Z",
     "shell.execute_reply": "2022-06-20T14:46:30.133041Z"
    },
    "papermill": {
     "duration": 0.039942,
     "end_time": "2022-06-20T14:46:30.136159",
     "exception": false,
     "start_time": "2022-06-20T14:46:30.096217",
     "status": "completed"
    },
    "tags": []
   },
   "outputs": [
    {
     "data": {
      "text/plain": [
       "((4803, 20), (4803, 4))"
      ]
     },
     "execution_count": 112,
     "metadata": {},
     "output_type": "execute_result"
    }
   ],
   "source": [
    "movies.shape , credits.shape"
   ]
  },
  {
   "cell_type": "code",
   "execution_count": 113,
   "id": "53ef2cce",
   "metadata": {
    "execution": {
     "iopub.execute_input": "2022-06-20T14:46:30.197580Z",
     "iopub.status.busy": "2022-06-20T14:46:30.196775Z",
     "iopub.status.idle": "2022-06-20T14:46:30.203724Z",
     "shell.execute_reply": "2022-06-20T14:46:30.202856Z"
    },
    "papermill": {
     "duration": 0.040761,
     "end_time": "2022-06-20T14:46:30.205658",
     "exception": false,
     "start_time": "2022-06-20T14:46:30.164897",
     "status": "completed"
    },
    "tags": []
   },
   "outputs": [
    {
     "data": {
      "text/plain": [
       "(4809, 23)"
      ]
     },
     "execution_count": 113,
     "metadata": {},
     "output_type": "execute_result"
    }
   ],
   "source": [
    "df.shape"
   ]
  },
  {
   "cell_type": "markdown",
   "id": "76d076ee",
   "metadata": {
    "papermill": {
     "duration": 0.02848,
     "end_time": "2022-06-20T14:46:30.262792",
     "exception": false,
     "start_time": "2022-06-20T14:46:30.234312",
     "status": "completed"
    },
    "tags": []
   },
   "source": [
    "### Handling Json columns"
   ]
  },
  {
   "cell_type": "code",
   "execution_count": 114,
   "id": "f895c3a7",
   "metadata": {
    "execution": {
     "iopub.execute_input": "2022-06-20T14:46:30.322987Z",
     "iopub.status.busy": "2022-06-20T14:46:30.322053Z",
     "iopub.status.idle": "2022-06-20T14:46:30.340141Z",
     "shell.execute_reply": "2022-06-20T14:46:30.339144Z"
    },
    "papermill": {
     "duration": 0.050656,
     "end_time": "2022-06-20T14:46:30.342379",
     "exception": false,
     "start_time": "2022-06-20T14:46:30.291723",
     "status": "completed"
    },
    "tags": []
   },
   "outputs": [
    {
     "data": {
      "text/html": [
       "<div>\n",
       "<style scoped>\n",
       "    .dataframe tbody tr th:only-of-type {\n",
       "        vertical-align: middle;\n",
       "    }\n",
       "\n",
       "    .dataframe tbody tr th {\n",
       "        vertical-align: top;\n",
       "    }\n",
       "\n",
       "    .dataframe thead th {\n",
       "        text-align: right;\n",
       "    }\n",
       "</style>\n",
       "<table border=\"1\" class=\"dataframe\">\n",
       "  <thead>\n",
       "    <tr style=\"text-align: right;\">\n",
       "      <th></th>\n",
       "      <th>genres</th>\n",
       "      <th>keywords</th>\n",
       "      <th>production_companies</th>\n",
       "      <th>production_countries</th>\n",
       "      <th>spoken_languages</th>\n",
       "      <th>cast</th>\n",
       "      <th>crew</th>\n",
       "    </tr>\n",
       "  </thead>\n",
       "  <tbody>\n",
       "    <tr>\n",
       "      <th>0</th>\n",
       "      <td>[{\"id\": 28, \"name\": \"Action\"}, {\"id\": 12, \"nam...</td>\n",
       "      <td>[{\"id\": 1463, \"name\": \"culture clash\"}, {\"id\":...</td>\n",
       "      <td>[{\"name\": \"Ingenious Film Partners\", \"id\": 289...</td>\n",
       "      <td>[{\"iso_3166_1\": \"US\", \"name\": \"United States o...</td>\n",
       "      <td>[{\"iso_639_1\": \"en\", \"name\": \"English\"}, {\"iso...</td>\n",
       "      <td>[{\"cast_id\": 242, \"character\": \"Jake Sully\", \"...</td>\n",
       "      <td>[{\"credit_id\": \"52fe48009251416c750aca23\", \"de...</td>\n",
       "    </tr>\n",
       "    <tr>\n",
       "      <th>1</th>\n",
       "      <td>[{\"id\": 12, \"name\": \"Adventure\"}, {\"id\": 14, \"...</td>\n",
       "      <td>[{\"id\": 270, \"name\": \"ocean\"}, {\"id\": 726, \"na...</td>\n",
       "      <td>[{\"name\": \"Walt Disney Pictures\", \"id\": 2}, {\"...</td>\n",
       "      <td>[{\"iso_3166_1\": \"US\", \"name\": \"United States o...</td>\n",
       "      <td>[{\"iso_639_1\": \"en\", \"name\": \"English\"}]</td>\n",
       "      <td>[{\"cast_id\": 4, \"character\": \"Captain Jack Spa...</td>\n",
       "      <td>[{\"credit_id\": \"52fe4232c3a36847f800b579\", \"de...</td>\n",
       "    </tr>\n",
       "    <tr>\n",
       "      <th>2</th>\n",
       "      <td>[{\"id\": 28, \"name\": \"Action\"}, {\"id\": 12, \"nam...</td>\n",
       "      <td>[{\"id\": 470, \"name\": \"spy\"}, {\"id\": 818, \"name...</td>\n",
       "      <td>[{\"name\": \"Columbia Pictures\", \"id\": 5}, {\"nam...</td>\n",
       "      <td>[{\"iso_3166_1\": \"GB\", \"name\": \"United Kingdom\"...</td>\n",
       "      <td>[{\"iso_639_1\": \"fr\", \"name\": \"Fran\\u00e7ais\"},...</td>\n",
       "      <td>[{\"cast_id\": 1, \"character\": \"James Bond\", \"cr...</td>\n",
       "      <td>[{\"credit_id\": \"54805967c3a36829b5002c41\", \"de...</td>\n",
       "    </tr>\n",
       "    <tr>\n",
       "      <th>3</th>\n",
       "      <td>[{\"id\": 28, \"name\": \"Action\"}, {\"id\": 80, \"nam...</td>\n",
       "      <td>[{\"id\": 849, \"name\": \"dc comics\"}, {\"id\": 853,...</td>\n",
       "      <td>[{\"name\": \"Legendary Pictures\", \"id\": 923}, {\"...</td>\n",
       "      <td>[{\"iso_3166_1\": \"US\", \"name\": \"United States o...</td>\n",
       "      <td>[{\"iso_639_1\": \"en\", \"name\": \"English\"}]</td>\n",
       "      <td>[{\"cast_id\": 2, \"character\": \"Bruce Wayne / Ba...</td>\n",
       "      <td>[{\"credit_id\": \"52fe4781c3a36847f81398c3\", \"de...</td>\n",
       "    </tr>\n",
       "    <tr>\n",
       "      <th>4</th>\n",
       "      <td>[{\"id\": 28, \"name\": \"Action\"}, {\"id\": 12, \"nam...</td>\n",
       "      <td>[{\"id\": 818, \"name\": \"based on novel\"}, {\"id\":...</td>\n",
       "      <td>[{\"name\": \"Walt Disney Pictures\", \"id\": 2}]</td>\n",
       "      <td>[{\"iso_3166_1\": \"US\", \"name\": \"United States o...</td>\n",
       "      <td>[{\"iso_639_1\": \"en\", \"name\": \"English\"}]</td>\n",
       "      <td>[{\"cast_id\": 5, \"character\": \"John Carter\", \"c...</td>\n",
       "      <td>[{\"credit_id\": \"52fe479ac3a36847f813eaa3\", \"de...</td>\n",
       "    </tr>\n",
       "  </tbody>\n",
       "</table>\n",
       "</div>"
      ],
      "text/plain": [
       "                                              genres  \\\n",
       "0  [{\"id\": 28, \"name\": \"Action\"}, {\"id\": 12, \"nam...   \n",
       "1  [{\"id\": 12, \"name\": \"Adventure\"}, {\"id\": 14, \"...   \n",
       "2  [{\"id\": 28, \"name\": \"Action\"}, {\"id\": 12, \"nam...   \n",
       "3  [{\"id\": 28, \"name\": \"Action\"}, {\"id\": 80, \"nam...   \n",
       "4  [{\"id\": 28, \"name\": \"Action\"}, {\"id\": 12, \"nam...   \n",
       "\n",
       "                                            keywords  \\\n",
       "0  [{\"id\": 1463, \"name\": \"culture clash\"}, {\"id\":...   \n",
       "1  [{\"id\": 270, \"name\": \"ocean\"}, {\"id\": 726, \"na...   \n",
       "2  [{\"id\": 470, \"name\": \"spy\"}, {\"id\": 818, \"name...   \n",
       "3  [{\"id\": 849, \"name\": \"dc comics\"}, {\"id\": 853,...   \n",
       "4  [{\"id\": 818, \"name\": \"based on novel\"}, {\"id\":...   \n",
       "\n",
       "                                production_companies  \\\n",
       "0  [{\"name\": \"Ingenious Film Partners\", \"id\": 289...   \n",
       "1  [{\"name\": \"Walt Disney Pictures\", \"id\": 2}, {\"...   \n",
       "2  [{\"name\": \"Columbia Pictures\", \"id\": 5}, {\"nam...   \n",
       "3  [{\"name\": \"Legendary Pictures\", \"id\": 923}, {\"...   \n",
       "4        [{\"name\": \"Walt Disney Pictures\", \"id\": 2}]   \n",
       "\n",
       "                                production_countries  \\\n",
       "0  [{\"iso_3166_1\": \"US\", \"name\": \"United States o...   \n",
       "1  [{\"iso_3166_1\": \"US\", \"name\": \"United States o...   \n",
       "2  [{\"iso_3166_1\": \"GB\", \"name\": \"United Kingdom\"...   \n",
       "3  [{\"iso_3166_1\": \"US\", \"name\": \"United States o...   \n",
       "4  [{\"iso_3166_1\": \"US\", \"name\": \"United States o...   \n",
       "\n",
       "                                    spoken_languages  \\\n",
       "0  [{\"iso_639_1\": \"en\", \"name\": \"English\"}, {\"iso...   \n",
       "1           [{\"iso_639_1\": \"en\", \"name\": \"English\"}]   \n",
       "2  [{\"iso_639_1\": \"fr\", \"name\": \"Fran\\u00e7ais\"},...   \n",
       "3           [{\"iso_639_1\": \"en\", \"name\": \"English\"}]   \n",
       "4           [{\"iso_639_1\": \"en\", \"name\": \"English\"}]   \n",
       "\n",
       "                                                cast  \\\n",
       "0  [{\"cast_id\": 242, \"character\": \"Jake Sully\", \"...   \n",
       "1  [{\"cast_id\": 4, \"character\": \"Captain Jack Spa...   \n",
       "2  [{\"cast_id\": 1, \"character\": \"James Bond\", \"cr...   \n",
       "3  [{\"cast_id\": 2, \"character\": \"Bruce Wayne / Ba...   \n",
       "4  [{\"cast_id\": 5, \"character\": \"John Carter\", \"c...   \n",
       "\n",
       "                                                crew  \n",
       "0  [{\"credit_id\": \"52fe48009251416c750aca23\", \"de...  \n",
       "1  [{\"credit_id\": \"52fe4232c3a36847f800b579\", \"de...  \n",
       "2  [{\"credit_id\": \"54805967c3a36829b5002c41\", \"de...  \n",
       "3  [{\"credit_id\": \"52fe4781c3a36847f81398c3\", \"de...  \n",
       "4  [{\"credit_id\": \"52fe479ac3a36847f813eaa3\", \"de...  "
      ]
     },
     "execution_count": 114,
     "metadata": {},
     "output_type": "execute_result"
    }
   ],
   "source": [
    "json_cols = ['genres' , 'keywords' , 'production_companies' , 'production_countries' , 'spoken_languages' , 'cast' , 'crew']\n",
    "df[json_cols].head()"
   ]
  },
  {
   "cell_type": "code",
   "execution_count": 115,
   "id": "956d7ae4",
   "metadata": {
    "execution": {
     "iopub.execute_input": "2022-06-20T14:46:30.402793Z",
     "iopub.status.busy": "2022-06-20T14:46:30.401942Z",
     "iopub.status.idle": "2022-06-20T14:46:30.406813Z",
     "shell.execute_reply": "2022-06-20T14:46:30.405822Z"
    },
    "papermill": {
     "duration": 0.037487,
     "end_time": "2022-06-20T14:46:30.408944",
     "exception": false,
     "start_time": "2022-06-20T14:46:30.371457",
     "status": "completed"
    },
    "tags": []
   },
   "outputs": [],
   "source": [
    "import ast "
   ]
  },
  {
   "cell_type": "code",
   "execution_count": 116,
   "id": "dca389e3",
   "metadata": {
    "execution": {
     "iopub.execute_input": "2022-06-20T14:46:30.468708Z",
     "iopub.status.busy": "2022-06-20T14:46:30.468273Z",
     "iopub.status.idle": "2022-06-20T14:46:30.475951Z",
     "shell.execute_reply": "2022-06-20T14:46:30.475060Z"
    },
    "papermill": {
     "duration": 0.040327,
     "end_time": "2022-06-20T14:46:30.477971",
     "exception": false,
     "start_time": "2022-06-20T14:46:30.437644",
     "status": "completed"
    },
    "tags": []
   },
   "outputs": [
    {
     "data": {
      "text/plain": [
       "'[{\"id\": 28, \"name\": \"Action\"}, {\"id\": 12, \"name\": \"Adventure\"}, {\"id\": 14, \"name\": \"Fantasy\"}, {\"id\": 878, \"name\": \"Science Fiction\"}]'"
      ]
     },
     "execution_count": 116,
     "metadata": {},
     "output_type": "execute_result"
    }
   ],
   "source": [
    "df.genres[0] "
   ]
  },
  {
   "cell_type": "markdown",
   "id": "74ea0a57",
   "metadata": {
    "papermill": {
     "duration": 0.028923,
     "end_time": "2022-06-20T14:46:30.535966",
     "exception": false,
     "start_time": "2022-06-20T14:46:30.507043",
     "status": "completed"
    },
    "tags": []
   },
   "source": [
    "This fucntion will return a list of genres from genres columns."
   ]
  },
  {
   "cell_type": "code",
   "execution_count": 117,
   "id": "2c3f631e",
   "metadata": {
    "execution": {
     "iopub.execute_input": "2022-06-20T14:46:30.597411Z",
     "iopub.status.busy": "2022-06-20T14:46:30.596859Z",
     "iopub.status.idle": "2022-06-20T14:46:30.602877Z",
     "shell.execute_reply": "2022-06-20T14:46:30.602017Z"
    },
    "papermill": {
     "duration": 0.039358,
     "end_time": "2022-06-20T14:46:30.605146",
     "exception": false,
     "start_time": "2022-06-20T14:46:30.565788",
     "status": "completed"
    },
    "tags": []
   },
   "outputs": [],
   "source": [
    "def convert(data):\n",
    "    genres_list = []\n",
    "    for i in ast.literal_eval(data ):\n",
    "        genres_list.append(i['name'])\n",
    "    return genres_list"
   ]
  },
  {
   "cell_type": "code",
   "execution_count": 118,
   "id": "047e2c92",
   "metadata": {
    "execution": {
     "iopub.execute_input": "2022-06-20T14:46:30.666604Z",
     "iopub.status.busy": "2022-06-20T14:46:30.665838Z",
     "iopub.status.idle": "2022-06-20T14:46:30.804491Z",
     "shell.execute_reply": "2022-06-20T14:46:30.803375Z"
    },
    "papermill": {
     "duration": 0.172378,
     "end_time": "2022-06-20T14:46:30.807036",
     "exception": false,
     "start_time": "2022-06-20T14:46:30.634658",
     "status": "completed"
    },
    "tags": []
   },
   "outputs": [],
   "source": [
    "df['genres'] = df['genres'].apply(convert)   "
   ]
  },
  {
   "cell_type": "markdown",
   "id": "5df91aea",
   "metadata": {
    "papermill": {
     "duration": 0.030638,
     "end_time": "2022-06-20T14:46:30.868276",
     "exception": false,
     "start_time": "2022-06-20T14:46:30.837638",
     "status": "completed"
    },
    "tags": []
   },
   "source": [
    "Previosuly genres:[{\"id\": 28, \"name\": \"Action\"}, {\"id\": 12, \"name\": \"Adventure\"}, {\"id\": 14, \"name\": \"Fantasy\"}, {\"id\": 878, \"name\": \"Science Fiction\"}]\n",
    "\n",
    "Now: ['Action', 'Adventure', 'Fantasy', 'Science Fiction']\n"
   ]
  },
  {
   "cell_type": "code",
   "execution_count": 119,
   "id": "0db0a624",
   "metadata": {
    "execution": {
     "iopub.execute_input": "2022-06-20T14:46:30.931223Z",
     "iopub.status.busy": "2022-06-20T14:46:30.929902Z",
     "iopub.status.idle": "2022-06-20T14:46:30.940240Z",
     "shell.execute_reply": "2022-06-20T14:46:30.939080Z"
    },
    "papermill": {
     "duration": 0.043214,
     "end_time": "2022-06-20T14:46:30.942556",
     "exception": false,
     "start_time": "2022-06-20T14:46:30.899342",
     "status": "completed"
    },
    "tags": []
   },
   "outputs": [
    {
     "data": {
      "text/plain": [
       "0    [Action, Adventure, Fantasy, Science Fiction]\n",
       "1                     [Adventure, Fantasy, Action]\n",
       "2                       [Action, Adventure, Crime]\n",
       "3                 [Action, Crime, Drama, Thriller]\n",
       "4             [Action, Adventure, Science Fiction]\n",
       "Name: genres, dtype: object"
      ]
     },
     "execution_count": 119,
     "metadata": {},
     "output_type": "execute_result"
    }
   ],
   "source": [
    "df['genres'][0:5] "
   ]
  },
  {
   "cell_type": "code",
   "execution_count": 120,
   "id": "001c312d",
   "metadata": {
    "execution": {
     "iopub.execute_input": "2022-06-20T14:46:31.008597Z",
     "iopub.status.busy": "2022-06-20T14:46:31.008128Z",
     "iopub.status.idle": "2022-06-20T14:46:31.595192Z",
     "shell.execute_reply": "2022-06-20T14:46:31.593917Z"
    },
    "papermill": {
     "duration": 0.625087,
     "end_time": "2022-06-20T14:46:31.597937",
     "exception": false,
     "start_time": "2022-06-20T14:46:30.972850",
     "status": "completed"
    },
    "tags": []
   },
   "outputs": [],
   "source": [
    "df['keywords'] = df['keywords'].apply(convert) \n",
    "df['production_companies'] =df['production_companies'].apply(convert)\n",
    "df['production_countries'] =df['production_countries'].apply(convert)"
   ]
  },
  {
   "cell_type": "markdown",
   "id": "74fca8da",
   "metadata": {
    "papermill": {
     "duration": 0.029087,
     "end_time": "2022-06-20T14:46:31.656984",
     "exception": false,
     "start_time": "2022-06-20T14:46:31.627897",
     "status": "completed"
    },
    "tags": []
   },
   "source": [
    "#### from cast columns we will only select first 4 cast "
   ]
  },
  {
   "cell_type": "code",
   "execution_count": 121,
   "id": "61ca52aa",
   "metadata": {
    "execution": {
     "iopub.execute_input": "2022-06-20T14:46:31.718670Z",
     "iopub.status.busy": "2022-06-20T14:46:31.717575Z",
     "iopub.status.idle": "2022-06-20T14:46:31.723415Z",
     "shell.execute_reply": "2022-06-20T14:46:31.722433Z"
    },
    "papermill": {
     "duration": 0.038884,
     "end_time": "2022-06-20T14:46:31.725662",
     "exception": false,
     "start_time": "2022-06-20T14:46:31.686778",
     "status": "completed"
    },
    "tags": []
   },
   "outputs": [],
   "source": [
    "def fetch_casts(data):\n",
    "    cnt = 0 \n",
    "    genres_list = []\n",
    "    for i in ast.literal_eval(data ):\n",
    "        if cnt<4:\n",
    "            genres_list.append(i['name'])\n",
    "        cnt = cnt + 1\n",
    "        if cnt>3:\n",
    "            break\n",
    "        \n",
    "        \n",
    "    return genres_list"
   ]
  },
  {
   "cell_type": "code",
   "execution_count": 122,
   "id": "928468a6",
   "metadata": {
    "execution": {
     "iopub.execute_input": "2022-06-20T14:46:31.786383Z",
     "iopub.status.busy": "2022-06-20T14:46:31.785688Z",
     "iopub.status.idle": "2022-06-20T14:46:34.736843Z",
     "shell.execute_reply": "2022-06-20T14:46:34.735582Z"
    },
    "papermill": {
     "duration": 2.98465,
     "end_time": "2022-06-20T14:46:34.739547",
     "exception": false,
     "start_time": "2022-06-20T14:46:31.754897",
     "status": "completed"
    },
    "tags": []
   },
   "outputs": [],
   "source": [
    "df['cast'] = df['cast'].apply(fetch_casts)"
   ]
  },
  {
   "cell_type": "code",
   "execution_count": 123,
   "id": "f6ceed25",
   "metadata": {
    "execution": {
     "iopub.execute_input": "2022-06-20T14:46:34.802129Z",
     "iopub.status.busy": "2022-06-20T14:46:34.801579Z",
     "iopub.status.idle": "2022-06-20T14:46:34.808167Z",
     "shell.execute_reply": "2022-06-20T14:46:34.807327Z"
    },
    "papermill": {
     "duration": 0.040246,
     "end_time": "2022-06-20T14:46:34.810155",
     "exception": false,
     "start_time": "2022-06-20T14:46:34.769909",
     "status": "completed"
    },
    "tags": []
   },
   "outputs": [
    {
     "data": {
      "text/plain": [
       "['Sam Worthington', 'Zoe Saldana', 'Sigourney Weaver', 'Stephen Lang']"
      ]
     },
     "execution_count": 123,
     "metadata": {},
     "output_type": "execute_result"
    }
   ],
   "source": [
    "df['cast'][0]"
   ]
  },
  {
   "cell_type": "markdown",
   "id": "b3cde1d1",
   "metadata": {
    "papermill": {
     "duration": 0.029303,
     "end_time": "2022-06-20T14:46:34.868724",
     "exception": false,
     "start_time": "2022-06-20T14:46:34.839421",
     "status": "completed"
    },
    "tags": []
   },
   "source": [
    "#### From crew columns extracting director name"
   ]
  },
  {
   "cell_type": "code",
   "execution_count": 124,
   "id": "ae42561f",
   "metadata": {
    "execution": {
     "iopub.execute_input": "2022-06-20T14:46:34.930500Z",
     "iopub.status.busy": "2022-06-20T14:46:34.929484Z",
     "iopub.status.idle": "2022-06-20T14:46:34.935758Z",
     "shell.execute_reply": "2022-06-20T14:46:34.934472Z"
    },
    "papermill": {
     "duration": 0.039411,
     "end_time": "2022-06-20T14:46:34.938428",
     "exception": false,
     "start_time": "2022-06-20T14:46:34.899017",
     "status": "completed"
    },
    "tags": []
   },
   "outputs": [],
   "source": [
    "def fetch_director(data):\n",
    "    for i in ast.literal_eval(data):\n",
    "        if i['job']=='Director':   #there are mulitple key in crew colulmns from those key we will select key job ==Director\n",
    "            return i['name'] \n",
    "    "
   ]
  },
  {
   "cell_type": "code",
   "execution_count": 125,
   "id": "4ddda4b9",
   "metadata": {
    "execution": {
     "iopub.execute_input": "2022-06-20T14:46:34.998928Z",
     "iopub.status.busy": "2022-06-20T14:46:34.997806Z",
     "iopub.status.idle": "2022-06-20T14:46:38.393252Z",
     "shell.execute_reply": "2022-06-20T14:46:38.392408Z"
    },
    "papermill": {
     "duration": 3.428239,
     "end_time": "2022-06-20T14:46:38.395566",
     "exception": false,
     "start_time": "2022-06-20T14:46:34.967327",
     "status": "completed"
    },
    "tags": []
   },
   "outputs": [
    {
     "data": {
      "text/plain": [
       "0        James Cameron\n",
       "1       Gore Verbinski\n",
       "2           Sam Mendes\n",
       "3    Christopher Nolan\n",
       "4       Andrew Stanton\n",
       "Name: Director, dtype: object"
      ]
     },
     "execution_count": 125,
     "metadata": {},
     "output_type": "execute_result"
    }
   ],
   "source": [
    "df['Director' ] =  df['crew'].apply(fetch_director)\n",
    "df['Director'].head()"
   ]
  },
  {
   "cell_type": "code",
   "execution_count": 126,
   "id": "8fae9650",
   "metadata": {
    "execution": {
     "iopub.execute_input": "2022-06-20T14:46:38.458852Z",
     "iopub.status.busy": "2022-06-20T14:46:38.457655Z",
     "iopub.status.idle": "2022-06-20T14:46:38.492332Z",
     "shell.execute_reply": "2022-06-20T14:46:38.491194Z"
    },
    "papermill": {
     "duration": 0.068512,
     "end_time": "2022-06-20T14:46:38.494876",
     "exception": false,
     "start_time": "2022-06-20T14:46:38.426364",
     "status": "completed"
    },
    "scrolled": true,
    "tags": []
   },
   "outputs": [
    {
     "data": {
      "text/html": [
       "<div>\n",
       "<style scoped>\n",
       "    .dataframe tbody tr th:only-of-type {\n",
       "        vertical-align: middle;\n",
       "    }\n",
       "\n",
       "    .dataframe tbody tr th {\n",
       "        vertical-align: top;\n",
       "    }\n",
       "\n",
       "    .dataframe thead th {\n",
       "        text-align: right;\n",
       "    }\n",
       "</style>\n",
       "<table border=\"1\" class=\"dataframe\">\n",
       "  <thead>\n",
       "    <tr style=\"text-align: right;\">\n",
       "      <th></th>\n",
       "      <th>budget</th>\n",
       "      <th>genres</th>\n",
       "      <th>homepage</th>\n",
       "      <th>id</th>\n",
       "      <th>keywords</th>\n",
       "      <th>original_language</th>\n",
       "      <th>original_title</th>\n",
       "      <th>overview</th>\n",
       "      <th>popularity</th>\n",
       "      <th>production_companies</th>\n",
       "      <th>...</th>\n",
       "      <th>spoken_languages</th>\n",
       "      <th>status</th>\n",
       "      <th>tagline</th>\n",
       "      <th>title</th>\n",
       "      <th>vote_average</th>\n",
       "      <th>vote_count</th>\n",
       "      <th>movie_id</th>\n",
       "      <th>cast</th>\n",
       "      <th>crew</th>\n",
       "      <th>Director</th>\n",
       "    </tr>\n",
       "  </thead>\n",
       "  <tbody>\n",
       "    <tr>\n",
       "      <th>0</th>\n",
       "      <td>237000000</td>\n",
       "      <td>[Action, Adventure, Fantasy, Science Fiction]</td>\n",
       "      <td>http://www.avatarmovie.com/</td>\n",
       "      <td>19995</td>\n",
       "      <td>[culture clash, future, space war, space colon...</td>\n",
       "      <td>en</td>\n",
       "      <td>Avatar</td>\n",
       "      <td>In the 22nd century, a paraplegic Marine is di...</td>\n",
       "      <td>150.437577</td>\n",
       "      <td>[Ingenious Film Partners, Twentieth Century Fo...</td>\n",
       "      <td>...</td>\n",
       "      <td>[{\"iso_639_1\": \"en\", \"name\": \"English\"}, {\"iso...</td>\n",
       "      <td>Released</td>\n",
       "      <td>Enter the World of Pandora.</td>\n",
       "      <td>Avatar</td>\n",
       "      <td>7.2</td>\n",
       "      <td>11800</td>\n",
       "      <td>19995</td>\n",
       "      <td>[Sam Worthington, Zoe Saldana, Sigourney Weave...</td>\n",
       "      <td>[{\"credit_id\": \"52fe48009251416c750aca23\", \"de...</td>\n",
       "      <td>James Cameron</td>\n",
       "    </tr>\n",
       "    <tr>\n",
       "      <th>1</th>\n",
       "      <td>300000000</td>\n",
       "      <td>[Adventure, Fantasy, Action]</td>\n",
       "      <td>http://disney.go.com/disneypictures/pirates/</td>\n",
       "      <td>285</td>\n",
       "      <td>[ocean, drug abuse, exotic island, east india ...</td>\n",
       "      <td>en</td>\n",
       "      <td>Pirates of the Caribbean: At World's End</td>\n",
       "      <td>Captain Barbossa, long believed to be dead, ha...</td>\n",
       "      <td>139.082615</td>\n",
       "      <td>[Walt Disney Pictures, Jerry Bruckheimer Films...</td>\n",
       "      <td>...</td>\n",
       "      <td>[{\"iso_639_1\": \"en\", \"name\": \"English\"}]</td>\n",
       "      <td>Released</td>\n",
       "      <td>At the end of the world, the adventure begins.</td>\n",
       "      <td>Pirates of the Caribbean: At World's End</td>\n",
       "      <td>6.9</td>\n",
       "      <td>4500</td>\n",
       "      <td>285</td>\n",
       "      <td>[Johnny Depp, Orlando Bloom, Keira Knightley, ...</td>\n",
       "      <td>[{\"credit_id\": \"52fe4232c3a36847f800b579\", \"de...</td>\n",
       "      <td>Gore Verbinski</td>\n",
       "    </tr>\n",
       "    <tr>\n",
       "      <th>2</th>\n",
       "      <td>245000000</td>\n",
       "      <td>[Action, Adventure, Crime]</td>\n",
       "      <td>http://www.sonypictures.com/movies/spectre/</td>\n",
       "      <td>206647</td>\n",
       "      <td>[spy, based on novel, secret agent, sequel, mi...</td>\n",
       "      <td>en</td>\n",
       "      <td>Spectre</td>\n",
       "      <td>A cryptic message from Bond’s past sends him o...</td>\n",
       "      <td>107.376788</td>\n",
       "      <td>[Columbia Pictures, Danjaq, B24]</td>\n",
       "      <td>...</td>\n",
       "      <td>[{\"iso_639_1\": \"fr\", \"name\": \"Fran\\u00e7ais\"},...</td>\n",
       "      <td>Released</td>\n",
       "      <td>A Plan No One Escapes</td>\n",
       "      <td>Spectre</td>\n",
       "      <td>6.3</td>\n",
       "      <td>4466</td>\n",
       "      <td>206647</td>\n",
       "      <td>[Daniel Craig, Christoph Waltz, Léa Seydoux, R...</td>\n",
       "      <td>[{\"credit_id\": \"54805967c3a36829b5002c41\", \"de...</td>\n",
       "      <td>Sam Mendes</td>\n",
       "    </tr>\n",
       "    <tr>\n",
       "      <th>3</th>\n",
       "      <td>250000000</td>\n",
       "      <td>[Action, Crime, Drama, Thriller]</td>\n",
       "      <td>http://www.thedarkknightrises.com/</td>\n",
       "      <td>49026</td>\n",
       "      <td>[dc comics, crime fighter, terrorist, secret i...</td>\n",
       "      <td>en</td>\n",
       "      <td>The Dark Knight Rises</td>\n",
       "      <td>Following the death of District Attorney Harve...</td>\n",
       "      <td>112.312950</td>\n",
       "      <td>[Legendary Pictures, Warner Bros., DC Entertai...</td>\n",
       "      <td>...</td>\n",
       "      <td>[{\"iso_639_1\": \"en\", \"name\": \"English\"}]</td>\n",
       "      <td>Released</td>\n",
       "      <td>The Legend Ends</td>\n",
       "      <td>The Dark Knight Rises</td>\n",
       "      <td>7.6</td>\n",
       "      <td>9106</td>\n",
       "      <td>49026</td>\n",
       "      <td>[Christian Bale, Michael Caine, Gary Oldman, A...</td>\n",
       "      <td>[{\"credit_id\": \"52fe4781c3a36847f81398c3\", \"de...</td>\n",
       "      <td>Christopher Nolan</td>\n",
       "    </tr>\n",
       "    <tr>\n",
       "      <th>4</th>\n",
       "      <td>260000000</td>\n",
       "      <td>[Action, Adventure, Science Fiction]</td>\n",
       "      <td>http://movies.disney.com/john-carter</td>\n",
       "      <td>49529</td>\n",
       "      <td>[based on novel, mars, medallion, space travel...</td>\n",
       "      <td>en</td>\n",
       "      <td>John Carter</td>\n",
       "      <td>John Carter is a war-weary, former military ca...</td>\n",
       "      <td>43.926995</td>\n",
       "      <td>[Walt Disney Pictures]</td>\n",
       "      <td>...</td>\n",
       "      <td>[{\"iso_639_1\": \"en\", \"name\": \"English\"}]</td>\n",
       "      <td>Released</td>\n",
       "      <td>Lost in our world, found in another.</td>\n",
       "      <td>John Carter</td>\n",
       "      <td>6.1</td>\n",
       "      <td>2124</td>\n",
       "      <td>49529</td>\n",
       "      <td>[Taylor Kitsch, Lynn Collins, Samantha Morton,...</td>\n",
       "      <td>[{\"credit_id\": \"52fe479ac3a36847f813eaa3\", \"de...</td>\n",
       "      <td>Andrew Stanton</td>\n",
       "    </tr>\n",
       "  </tbody>\n",
       "</table>\n",
       "<p>5 rows × 24 columns</p>\n",
       "</div>"
      ],
      "text/plain": [
       "      budget                                         genres  \\\n",
       "0  237000000  [Action, Adventure, Fantasy, Science Fiction]   \n",
       "1  300000000                   [Adventure, Fantasy, Action]   \n",
       "2  245000000                     [Action, Adventure, Crime]   \n",
       "3  250000000               [Action, Crime, Drama, Thriller]   \n",
       "4  260000000           [Action, Adventure, Science Fiction]   \n",
       "\n",
       "                                       homepage      id  \\\n",
       "0                   http://www.avatarmovie.com/   19995   \n",
       "1  http://disney.go.com/disneypictures/pirates/     285   \n",
       "2   http://www.sonypictures.com/movies/spectre/  206647   \n",
       "3            http://www.thedarkknightrises.com/   49026   \n",
       "4          http://movies.disney.com/john-carter   49529   \n",
       "\n",
       "                                            keywords original_language  \\\n",
       "0  [culture clash, future, space war, space colon...                en   \n",
       "1  [ocean, drug abuse, exotic island, east india ...                en   \n",
       "2  [spy, based on novel, secret agent, sequel, mi...                en   \n",
       "3  [dc comics, crime fighter, terrorist, secret i...                en   \n",
       "4  [based on novel, mars, medallion, space travel...                en   \n",
       "\n",
       "                             original_title  \\\n",
       "0                                    Avatar   \n",
       "1  Pirates of the Caribbean: At World's End   \n",
       "2                                   Spectre   \n",
       "3                     The Dark Knight Rises   \n",
       "4                               John Carter   \n",
       "\n",
       "                                            overview  popularity  \\\n",
       "0  In the 22nd century, a paraplegic Marine is di...  150.437577   \n",
       "1  Captain Barbossa, long believed to be dead, ha...  139.082615   \n",
       "2  A cryptic message from Bond’s past sends him o...  107.376788   \n",
       "3  Following the death of District Attorney Harve...  112.312950   \n",
       "4  John Carter is a war-weary, former military ca...   43.926995   \n",
       "\n",
       "                                production_companies  ...  \\\n",
       "0  [Ingenious Film Partners, Twentieth Century Fo...  ...   \n",
       "1  [Walt Disney Pictures, Jerry Bruckheimer Films...  ...   \n",
       "2                   [Columbia Pictures, Danjaq, B24]  ...   \n",
       "3  [Legendary Pictures, Warner Bros., DC Entertai...  ...   \n",
       "4                             [Walt Disney Pictures]  ...   \n",
       "\n",
       "                                    spoken_languages    status  \\\n",
       "0  [{\"iso_639_1\": \"en\", \"name\": \"English\"}, {\"iso...  Released   \n",
       "1           [{\"iso_639_1\": \"en\", \"name\": \"English\"}]  Released   \n",
       "2  [{\"iso_639_1\": \"fr\", \"name\": \"Fran\\u00e7ais\"},...  Released   \n",
       "3           [{\"iso_639_1\": \"en\", \"name\": \"English\"}]  Released   \n",
       "4           [{\"iso_639_1\": \"en\", \"name\": \"English\"}]  Released   \n",
       "\n",
       "                                          tagline  \\\n",
       "0                     Enter the World of Pandora.   \n",
       "1  At the end of the world, the adventure begins.   \n",
       "2                           A Plan No One Escapes   \n",
       "3                                 The Legend Ends   \n",
       "4            Lost in our world, found in another.   \n",
       "\n",
       "                                      title vote_average vote_count movie_id  \\\n",
       "0                                    Avatar          7.2      11800    19995   \n",
       "1  Pirates of the Caribbean: At World's End          6.9       4500      285   \n",
       "2                                   Spectre          6.3       4466   206647   \n",
       "3                     The Dark Knight Rises          7.6       9106    49026   \n",
       "4                               John Carter          6.1       2124    49529   \n",
       "\n",
       "                                                cast  \\\n",
       "0  [Sam Worthington, Zoe Saldana, Sigourney Weave...   \n",
       "1  [Johnny Depp, Orlando Bloom, Keira Knightley, ...   \n",
       "2  [Daniel Craig, Christoph Waltz, Léa Seydoux, R...   \n",
       "3  [Christian Bale, Michael Caine, Gary Oldman, A...   \n",
       "4  [Taylor Kitsch, Lynn Collins, Samantha Morton,...   \n",
       "\n",
       "                                                crew           Director  \n",
       "0  [{\"credit_id\": \"52fe48009251416c750aca23\", \"de...      James Cameron  \n",
       "1  [{\"credit_id\": \"52fe4232c3a36847f800b579\", \"de...     Gore Verbinski  \n",
       "2  [{\"credit_id\": \"54805967c3a36829b5002c41\", \"de...         Sam Mendes  \n",
       "3  [{\"credit_id\": \"52fe4781c3a36847f81398c3\", \"de...  Christopher Nolan  \n",
       "4  [{\"credit_id\": \"52fe479ac3a36847f813eaa3\", \"de...     Andrew Stanton  \n",
       "\n",
       "[5 rows x 24 columns]"
      ]
     },
     "execution_count": 126,
     "metadata": {},
     "output_type": "execute_result"
    }
   ],
   "source": [
    "df.head()"
   ]
  },
  {
   "cell_type": "code",
   "execution_count": 127,
   "id": "f8c35173",
   "metadata": {
    "execution": {
     "iopub.execute_input": "2022-06-20T14:46:38.556883Z",
     "iopub.status.busy": "2022-06-20T14:46:38.556399Z",
     "iopub.status.idle": "2022-06-20T14:46:38.578940Z",
     "shell.execute_reply": "2022-06-20T14:46:38.577928Z"
    },
    "papermill": {
     "duration": 0.056213,
     "end_time": "2022-06-20T14:46:38.581178",
     "exception": false,
     "start_time": "2022-06-20T14:46:38.524965",
     "status": "completed"
    },
    "scrolled": true,
    "tags": []
   },
   "outputs": [
    {
     "data": {
      "text/html": [
       "<div>\n",
       "<style scoped>\n",
       "    .dataframe tbody tr th:only-of-type {\n",
       "        vertical-align: middle;\n",
       "    }\n",
       "\n",
       "    .dataframe tbody tr th {\n",
       "        vertical-align: top;\n",
       "    }\n",
       "\n",
       "    .dataframe thead th {\n",
       "        text-align: right;\n",
       "    }\n",
       "</style>\n",
       "<table border=\"1\" class=\"dataframe\">\n",
       "  <thead>\n",
       "    <tr style=\"text-align: right;\">\n",
       "      <th></th>\n",
       "      <th>columns</th>\n",
       "      <th>Per_missing_values</th>\n",
       "    </tr>\n",
       "  </thead>\n",
       "  <tbody>\n",
       "    <tr>\n",
       "      <th>0</th>\n",
       "      <td>homepage</td>\n",
       "      <td>64.379289</td>\n",
       "    </tr>\n",
       "    <tr>\n",
       "      <th>1</th>\n",
       "      <td>tagline</td>\n",
       "      <td>17.550426</td>\n",
       "    </tr>\n",
       "    <tr>\n",
       "      <th>2</th>\n",
       "      <td>Director</td>\n",
       "      <td>0.623830</td>\n",
       "    </tr>\n",
       "    <tr>\n",
       "      <th>3</th>\n",
       "      <td>overview</td>\n",
       "      <td>0.062383</td>\n",
       "    </tr>\n",
       "    <tr>\n",
       "      <th>4</th>\n",
       "      <td>runtime</td>\n",
       "      <td>0.041589</td>\n",
       "    </tr>\n",
       "    <tr>\n",
       "      <th>5</th>\n",
       "      <td>release_date</td>\n",
       "      <td>0.020794</td>\n",
       "    </tr>\n",
       "  </tbody>\n",
       "</table>\n",
       "</div>"
      ],
      "text/plain": [
       "        columns  Per_missing_values\n",
       "0      homepage           64.379289\n",
       "1       tagline           17.550426\n",
       "2      Director            0.623830\n",
       "3      overview            0.062383\n",
       "4       runtime            0.041589\n",
       "5  release_date            0.020794"
      ]
     },
     "execution_count": 127,
     "metadata": {},
     "output_type": "execute_result"
    }
   ],
   "source": [
    "missing_values = ((df.isna().sum())*100 / len(df)).sort_values(ascending = False)\n",
    "missing_values = missing_values[0:6].reset_index()\n",
    "missing_values.columns = ['columns' , 'Per_missing_values']\n",
    "missing_values"
   ]
  },
  {
   "cell_type": "code",
   "execution_count": 128,
   "id": "6127b0e6",
   "metadata": {
    "execution": {
     "iopub.execute_input": "2022-06-20T14:46:38.643194Z",
     "iopub.status.busy": "2022-06-20T14:46:38.642659Z",
     "iopub.status.idle": "2022-06-20T14:46:38.866254Z",
     "shell.execute_reply": "2022-06-20T14:46:38.865061Z"
    },
    "papermill": {
     "duration": 0.257748,
     "end_time": "2022-06-20T14:46:38.868723",
     "exception": false,
     "start_time": "2022-06-20T14:46:38.610975",
     "status": "completed"
    },
    "tags": []
   },
   "outputs": [
    {
     "data": {
      "image/png": "[encoded data removed]",
      "text/plain": [
       "<Figure size 432x288 with 1 Axes>"
      ]
     },
     "metadata": {
      "needs_background": "light"
     },
     "output_type": "display_data"
    }
   ],
   "source": [
    "sns.barplot(x = 'Per_missing_values' , y = 'columns' , data = missing_values)\n",
    "plt.show()"
   ]
  },
  {
   "cell_type": "code",
   "execution_count": 129,
   "id": "7d93e731",
   "metadata": {
    "execution": {
     "iopub.execute_input": "2022-06-20T14:46:38.932852Z",
     "iopub.status.busy": "2022-06-20T14:46:38.931923Z",
     "iopub.status.idle": "2022-06-20T14:46:38.947139Z",
     "shell.execute_reply": "2022-06-20T14:46:38.946177Z"
    },
    "papermill": {
     "duration": 0.050436,
     "end_time": "2022-06-20T14:46:38.949359",
     "exception": false,
     "start_time": "2022-06-20T14:46:38.898923",
     "status": "completed"
    },
    "scrolled": true,
    "tags": []
   },
   "outputs": [],
   "source": [
    "df.drop(['homepage' , 'tagline'] , axis = 1 , inplace = True)"
   ]
  },
  {
   "cell_type": "code",
   "execution_count": 130,
   "id": "97bdd5f0",
   "metadata": {
    "execution": {
     "iopub.execute_input": "2022-06-20T14:46:39.011265Z",
     "iopub.status.busy": "2022-06-20T14:46:39.010769Z",
     "iopub.status.idle": "2022-06-20T14:46:39.017466Z",
     "shell.execute_reply": "2022-06-20T14:46:39.016382Z"
    },
    "papermill": {
     "duration": 0.040566,
     "end_time": "2022-06-20T14:46:39.019688",
     "exception": false,
     "start_time": "2022-06-20T14:46:38.979122",
     "status": "completed"
    },
    "tags": []
   },
   "outputs": [
    {
     "data": {
      "text/plain": [
       "(4809, 22)"
      ]
     },
     "execution_count": 130,
     "metadata": {},
     "output_type": "execute_result"
    }
   ],
   "source": [
    "df.shape"
   ]
  },
  {
   "cell_type": "code",
   "execution_count": 131,
   "id": "be19d497",
   "metadata": {
    "execution": {
     "iopub.execute_input": "2022-06-20T14:46:39.083642Z",
     "iopub.status.busy": "2022-06-20T14:46:39.083126Z",
     "iopub.status.idle": "2022-06-20T14:46:39.100819Z",
     "shell.execute_reply": "2022-06-20T14:46:39.099789Z"
    },
    "papermill": {
     "duration": 0.052011,
     "end_time": "2022-06-20T14:46:39.103258",
     "exception": false,
     "start_time": "2022-06-20T14:46:39.051247",
     "status": "completed"
    },
    "tags": []
   },
   "outputs": [],
   "source": [
    "df.dropna(inplace = True)"
   ]
  },
  {
   "cell_type": "code",
   "execution_count": 132,
   "id": "5cd05d23",
   "metadata": {
    "execution": {
     "iopub.execute_input": "2022-06-20T14:46:39.167218Z",
     "iopub.status.busy": "2022-06-20T14:46:39.165937Z",
     "iopub.status.idle": "2022-06-20T14:46:39.226603Z",
     "shell.execute_reply": "2022-06-20T14:46:39.225430Z"
    },
    "papermill": {
     "duration": 0.095288,
     "end_time": "2022-06-20T14:46:39.229274",
     "exception": false,
     "start_time": "2022-06-20T14:46:39.133986",
     "status": "completed"
    },
    "tags": []
   },
   "outputs": [
    {
     "data": {
      "text/html": [
       "<div>\n",
       "<style scoped>\n",
       "    .dataframe tbody tr th:only-of-type {\n",
       "        vertical-align: middle;\n",
       "    }\n",
       "\n",
       "    .dataframe tbody tr th {\n",
       "        vertical-align: top;\n",
       "    }\n",
       "\n",
       "    .dataframe thead th {\n",
       "        text-align: right;\n",
       "    }\n",
       "</style>\n",
       "<table border=\"1\" class=\"dataframe\">\n",
       "  <thead>\n",
       "    <tr style=\"text-align: right;\">\n",
       "      <th></th>\n",
       "      <th>budget</th>\n",
       "      <th>genres</th>\n",
       "      <th>id</th>\n",
       "      <th>keywords</th>\n",
       "      <th>original_language</th>\n",
       "      <th>original_title</th>\n",
       "      <th>overview</th>\n",
       "      <th>popularity</th>\n",
       "      <th>production_companies</th>\n",
       "      <th>production_countries</th>\n",
       "      <th>...</th>\n",
       "      <th>runtime</th>\n",
       "      <th>spoken_languages</th>\n",
       "      <th>status</th>\n",
       "      <th>title</th>\n",
       "      <th>vote_average</th>\n",
       "      <th>vote_count</th>\n",
       "      <th>movie_id</th>\n",
       "      <th>cast</th>\n",
       "      <th>crew</th>\n",
       "      <th>Director</th>\n",
       "    </tr>\n",
       "  </thead>\n",
       "  <tbody>\n",
       "    <tr>\n",
       "      <th>0</th>\n",
       "      <td>237000000</td>\n",
       "      <td>[Action, Adventure, Fantasy, Science Fiction]</td>\n",
       "      <td>19995</td>\n",
       "      <td>[culture clash, future, space war, space colon...</td>\n",
       "      <td>en</td>\n",
       "      <td>Avatar</td>\n",
       "      <td>In the 22nd century, a paraplegic Marine is di...</td>\n",
       "      <td>150.437577</td>\n",
       "      <td>[Ingenious Film Partners, Twentieth Century Fo...</td>\n",
       "      <td>[United States of America, United Kingdom]</td>\n",
       "      <td>...</td>\n",
       "      <td>162.0</td>\n",
       "      <td>[{\"iso_639_1\": \"en\", \"name\": \"English\"}, {\"iso...</td>\n",
       "      <td>Released</td>\n",
       "      <td>Avatar</td>\n",
       "      <td>7.2</td>\n",
       "      <td>11800</td>\n",
       "      <td>19995</td>\n",
       "      <td>[Sam Worthington, Zoe Saldana, Sigourney Weave...</td>\n",
       "      <td>[{\"credit_id\": \"52fe48009251416c750aca23\", \"de...</td>\n",
       "      <td>James Cameron</td>\n",
       "    </tr>\n",
       "    <tr>\n",
       "      <th>1</th>\n",
       "      <td>300000000</td>\n",
       "      <td>[Adventure, Fantasy, Action]</td>\n",
       "      <td>285</td>\n",
       "      <td>[ocean, drug abuse, exotic island, east india ...</td>\n",
       "      <td>en</td>\n",
       "      <td>Pirates of the Caribbean: At World's End</td>\n",
       "      <td>Captain Barbossa, long believed to be dead, ha...</td>\n",
       "      <td>139.082615</td>\n",
       "      <td>[Walt Disney Pictures, Jerry Bruckheimer Films...</td>\n",
       "      <td>[United States of America]</td>\n",
       "      <td>...</td>\n",
       "      <td>169.0</td>\n",
       "      <td>[{\"iso_639_1\": \"en\", \"name\": \"English\"}]</td>\n",
       "      <td>Released</td>\n",
       "      <td>Pirates of the Caribbean: At World's End</td>\n",
       "      <td>6.9</td>\n",
       "      <td>4500</td>\n",
       "      <td>285</td>\n",
       "      <td>[Johnny Depp, Orlando Bloom, Keira Knightley, ...</td>\n",
       "      <td>[{\"credit_id\": \"52fe4232c3a36847f800b579\", \"de...</td>\n",
       "      <td>Gore Verbinski</td>\n",
       "    </tr>\n",
       "    <tr>\n",
       "      <th>2</th>\n",
       "      <td>245000000</td>\n",
       "      <td>[Action, Adventure, Crime]</td>\n",
       "      <td>206647</td>\n",
       "      <td>[spy, based on novel, secret agent, sequel, mi...</td>\n",
       "      <td>en</td>\n",
       "      <td>Spectre</td>\n",
       "      <td>A cryptic message from Bond’s past sends him o...</td>\n",
       "      <td>107.376788</td>\n",
       "      <td>[Columbia Pictures, Danjaq, B24]</td>\n",
       "      <td>[United Kingdom, United States of America]</td>\n",
       "      <td>...</td>\n",
       "      <td>148.0</td>\n",
       "      <td>[{\"iso_639_1\": \"fr\", \"name\": \"Fran\\u00e7ais\"},...</td>\n",
       "      <td>Released</td>\n",
       "      <td>Spectre</td>\n",
       "      <td>6.3</td>\n",
       "      <td>4466</td>\n",
       "      <td>206647</td>\n",
       "      <td>[Daniel Craig, Christoph Waltz, Léa Seydoux, R...</td>\n",
       "      <td>[{\"credit_id\": \"54805967c3a36829b5002c41\", \"de...</td>\n",
       "      <td>Sam Mendes</td>\n",
       "    </tr>\n",
       "    <tr>\n",
       "      <th>3</th>\n",
       "      <td>250000000</td>\n",
       "      <td>[Action, Crime, Drama, Thriller]</td>\n",
       "      <td>49026</td>\n",
       "      <td>[dc comics, crime fighter, terrorist, secret i...</td>\n",
       "      <td>en</td>\n",
       "      <td>The Dark Knight Rises</td>\n",
       "      <td>Following the death of District Attorney Harve...</td>\n",
       "      <td>112.312950</td>\n",
       "      <td>[Legendary Pictures, Warner Bros., DC Entertai...</td>\n",
       "      <td>[United States of America]</td>\n",
       "      <td>...</td>\n",
       "      <td>165.0</td>\n",
       "      <td>[{\"iso_639_1\": \"en\", \"name\": \"English\"}]</td>\n",
       "      <td>Released</td>\n",
       "      <td>The Dark Knight Rises</td>\n",
       "      <td>7.6</td>\n",
       "      <td>9106</td>\n",
       "      <td>49026</td>\n",
       "      <td>[Christian Bale, Michael Caine, Gary Oldman, A...</td>\n",
       "      <td>[{\"credit_id\": \"52fe4781c3a36847f81398c3\", \"de...</td>\n",
       "      <td>Christopher Nolan</td>\n",
       "    </tr>\n",
       "    <tr>\n",
       "      <th>4</th>\n",
       "      <td>260000000</td>\n",
       "      <td>[Action, Adventure, Science Fiction]</td>\n",
       "      <td>49529</td>\n",
       "      <td>[based on novel, mars, medallion, space travel...</td>\n",
       "      <td>en</td>\n",
       "      <td>John Carter</td>\n",
       "      <td>John Carter is a war-weary, former military ca...</td>\n",
       "      <td>43.926995</td>\n",
       "      <td>[Walt Disney Pictures]</td>\n",
       "      <td>[United States of America]</td>\n",
       "      <td>...</td>\n",
       "      <td>132.0</td>\n",
       "      <td>[{\"iso_639_1\": \"en\", \"name\": \"English\"}]</td>\n",
       "      <td>Released</td>\n",
       "      <td>John Carter</td>\n",
       "      <td>6.1</td>\n",
       "      <td>2124</td>\n",
       "      <td>49529</td>\n",
       "      <td>[Taylor Kitsch, Lynn Collins, Samantha Morton,...</td>\n",
       "      <td>[{\"credit_id\": \"52fe479ac3a36847f813eaa3\", \"de...</td>\n",
       "      <td>Andrew Stanton</td>\n",
       "    </tr>\n",
       "    <tr>\n",
       "      <th>...</th>\n",
       "      <td>...</td>\n",
       "      <td>...</td>\n",
       "      <td>...</td>\n",
       "      <td>...</td>\n",
       "      <td>...</td>\n",
       "      <td>...</td>\n",
       "      <td>...</td>\n",
       "      <td>...</td>\n",
       "      <td>...</td>\n",
       "      <td>...</td>\n",
       "      <td>...</td>\n",
       "      <td>...</td>\n",
       "      <td>...</td>\n",
       "      <td>...</td>\n",
       "      <td>...</td>\n",
       "      <td>...</td>\n",
       "      <td>...</td>\n",
       "      <td>...</td>\n",
       "      <td>...</td>\n",
       "      <td>...</td>\n",
       "      <td>...</td>\n",
       "    </tr>\n",
       "    <tr>\n",
       "      <th>4804</th>\n",
       "      <td>220000</td>\n",
       "      <td>[Action, Crime, Thriller]</td>\n",
       "      <td>9367</td>\n",
       "      <td>[united states–mexico barrier, legs, arms, pap...</td>\n",
       "      <td>es</td>\n",
       "      <td>El Mariachi</td>\n",
       "      <td>El Mariachi just wants to play his guitar and ...</td>\n",
       "      <td>14.269792</td>\n",
       "      <td>[Columbia Pictures]</td>\n",
       "      <td>[Mexico, United States of America]</td>\n",
       "      <td>...</td>\n",
       "      <td>81.0</td>\n",
       "      <td>[{\"iso_639_1\": \"es\", \"name\": \"Espa\\u00f1ol\"}]</td>\n",
       "      <td>Released</td>\n",
       "      <td>El Mariachi</td>\n",
       "      <td>6.6</td>\n",
       "      <td>238</td>\n",
       "      <td>9367</td>\n",
       "      <td>[Carlos Gallardo, Jaime de Hoyos, Peter Marqua...</td>\n",
       "      <td>[{\"credit_id\": \"52fe44eec3a36847f80b280b\", \"de...</td>\n",
       "      <td>Robert Rodriguez</td>\n",
       "    </tr>\n",
       "    <tr>\n",
       "      <th>4805</th>\n",
       "      <td>9000</td>\n",
       "      <td>[Comedy, Romance]</td>\n",
       "      <td>72766</td>\n",
       "      <td>[]</td>\n",
       "      <td>en</td>\n",
       "      <td>Newlyweds</td>\n",
       "      <td>A newlywed couple's honeymoon is upended by th...</td>\n",
       "      <td>0.642552</td>\n",
       "      <td>[]</td>\n",
       "      <td>[]</td>\n",
       "      <td>...</td>\n",
       "      <td>85.0</td>\n",
       "      <td>[]</td>\n",
       "      <td>Released</td>\n",
       "      <td>Newlyweds</td>\n",
       "      <td>5.9</td>\n",
       "      <td>5</td>\n",
       "      <td>72766</td>\n",
       "      <td>[Edward Burns, Kerry Bishé, Marsha Dietlein, C...</td>\n",
       "      <td>[{\"credit_id\": \"52fe487dc3a368484e0fb013\", \"de...</td>\n",
       "      <td>Edward Burns</td>\n",
       "    </tr>\n",
       "    <tr>\n",
       "      <th>4806</th>\n",
       "      <td>0</td>\n",
       "      <td>[Comedy, Drama, Romance, TV Movie]</td>\n",
       "      <td>231617</td>\n",
       "      <td>[date, love at first sight, narration, investi...</td>\n",
       "      <td>en</td>\n",
       "      <td>Signed, Sealed, Delivered</td>\n",
       "      <td>\"Signed, Sealed, Delivered\" introduces a dedic...</td>\n",
       "      <td>1.444476</td>\n",
       "      <td>[Front Street Pictures, Muse Entertainment Ent...</td>\n",
       "      <td>[United States of America]</td>\n",
       "      <td>...</td>\n",
       "      <td>120.0</td>\n",
       "      <td>[{\"iso_639_1\": \"en\", \"name\": \"English\"}]</td>\n",
       "      <td>Released</td>\n",
       "      <td>Signed, Sealed, Delivered</td>\n",
       "      <td>7.0</td>\n",
       "      <td>6</td>\n",
       "      <td>231617</td>\n",
       "      <td>[Eric Mabius, Kristin Booth, Crystal Lowe, Geo...</td>\n",
       "      <td>[{\"credit_id\": \"52fe4df3c3a36847f8275ecf\", \"de...</td>\n",
       "      <td>Scott Smith</td>\n",
       "    </tr>\n",
       "    <tr>\n",
       "      <th>4807</th>\n",
       "      <td>0</td>\n",
       "      <td>[]</td>\n",
       "      <td>126186</td>\n",
       "      <td>[]</td>\n",
       "      <td>en</td>\n",
       "      <td>Shanghai Calling</td>\n",
       "      <td>When ambitious New York attorney Sam is sent t...</td>\n",
       "      <td>0.857008</td>\n",
       "      <td>[]</td>\n",
       "      <td>[United States of America, China]</td>\n",
       "      <td>...</td>\n",
       "      <td>98.0</td>\n",
       "      <td>[{\"iso_639_1\": \"en\", \"name\": \"English\"}]</td>\n",
       "      <td>Released</td>\n",
       "      <td>Shanghai Calling</td>\n",
       "      <td>5.7</td>\n",
       "      <td>7</td>\n",
       "      <td>126186</td>\n",
       "      <td>[Daniel Henney, Eliza Coupe, Bill Paxton, Alan...</td>\n",
       "      <td>[{\"credit_id\": \"52fe4ad9c3a368484e16a36b\", \"de...</td>\n",
       "      <td>Daniel Hsia</td>\n",
       "    </tr>\n",
       "    <tr>\n",
       "      <th>4808</th>\n",
       "      <td>0</td>\n",
       "      <td>[Documentary]</td>\n",
       "      <td>25975</td>\n",
       "      <td>[obsession, camcorder, crush, dream girl]</td>\n",
       "      <td>en</td>\n",
       "      <td>My Date with Drew</td>\n",
       "      <td>Ever since the second grade when he first saw ...</td>\n",
       "      <td>1.929883</td>\n",
       "      <td>[rusty bear entertainment, lucky crow films]</td>\n",
       "      <td>[United States of America]</td>\n",
       "      <td>...</td>\n",
       "      <td>90.0</td>\n",
       "      <td>[{\"iso_639_1\": \"en\", \"name\": \"English\"}]</td>\n",
       "      <td>Released</td>\n",
       "      <td>My Date with Drew</td>\n",
       "      <td>6.3</td>\n",
       "      <td>16</td>\n",
       "      <td>25975</td>\n",
       "      <td>[Drew Barrymore, Brian Herzlinger, Corey Feldm...</td>\n",
       "      <td>[{\"credit_id\": \"58ce021b9251415a390165d9\", \"de...</td>\n",
       "      <td>Brian Herzlinger</td>\n",
       "    </tr>\n",
       "  </tbody>\n",
       "</table>\n",
       "<p>4776 rows × 22 columns</p>\n",
       "</div>"
      ],
      "text/plain": [
       "         budget                                         genres      id  \\\n",
       "0     237000000  [Action, Adventure, Fantasy, Science Fiction]   19995   \n",
       "1     300000000                   [Adventure, Fantasy, Action]     285   \n",
       "2     245000000                     [Action, Adventure, Crime]  206647   \n",
       "3     250000000               [Action, Crime, Drama, Thriller]   49026   \n",
       "4     260000000           [Action, Adventure, Science Fiction]   49529   \n",
       "...         ...                                            ...     ...   \n",
       "4804     220000                      [Action, Crime, Thriller]    9367   \n",
       "4805       9000                              [Comedy, Romance]   72766   \n",
       "4806          0             [Comedy, Drama, Romance, TV Movie]  231617   \n",
       "4807          0                                             []  126186   \n",
       "4808          0                                  [Documentary]   25975   \n",
       "\n",
       "                                               keywords original_language  \\\n",
       "0     [culture clash, future, space war, space colon...                en   \n",
       "1     [ocean, drug abuse, exotic island, east india ...                en   \n",
       "2     [spy, based on novel, secret agent, sequel, mi...                en   \n",
       "3     [dc comics, crime fighter, terrorist, secret i...                en   \n",
       "4     [based on novel, mars, medallion, space travel...                en   \n",
       "...                                                 ...               ...   \n",
       "4804  [united states–mexico barrier, legs, arms, pap...                es   \n",
       "4805                                                 []                en   \n",
       "4806  [date, love at first sight, narration, investi...                en   \n",
       "4807                                                 []                en   \n",
       "4808          [obsession, camcorder, crush, dream girl]                en   \n",
       "\n",
       "                                original_title  \\\n",
       "0                                       Avatar   \n",
       "1     Pirates of the Caribbean: At World's End   \n",
       "2                                      Spectre   \n",
       "3                        The Dark Knight Rises   \n",
       "4                                  John Carter   \n",
       "...                                        ...   \n",
       "4804                               El Mariachi   \n",
       "4805                                 Newlyweds   \n",
       "4806                 Signed, Sealed, Delivered   \n",
       "4807                          Shanghai Calling   \n",
       "4808                         My Date with Drew   \n",
       "\n",
       "                                               overview  popularity  \\\n",
       "0     In the 22nd century, a paraplegic Marine is di...  150.437577   \n",
       "1     Captain Barbossa, long believed to be dead, ha...  139.082615   \n",
       "2     A cryptic message from Bond’s past sends him o...  107.376788   \n",
       "3     Following the death of District Attorney Harve...  112.312950   \n",
       "4     John Carter is a war-weary, former military ca...   43.926995   \n",
       "...                                                 ...         ...   \n",
       "4804  El Mariachi just wants to play his guitar and ...   14.269792   \n",
       "4805  A newlywed couple's honeymoon is upended by th...    0.642552   \n",
       "4806  \"Signed, Sealed, Delivered\" introduces a dedic...    1.444476   \n",
       "4807  When ambitious New York attorney Sam is sent t...    0.857008   \n",
       "4808  Ever since the second grade when he first saw ...    1.929883   \n",
       "\n",
       "                                   production_companies  \\\n",
       "0     [Ingenious Film Partners, Twentieth Century Fo...   \n",
       "1     [Walt Disney Pictures, Jerry Bruckheimer Films...   \n",
       "2                      [Columbia Pictures, Danjaq, B24]   \n",
       "3     [Legendary Pictures, Warner Bros., DC Entertai...   \n",
       "4                                [Walt Disney Pictures]   \n",
       "...                                                 ...   \n",
       "4804                                [Columbia Pictures]   \n",
       "4805                                                 []   \n",
       "4806  [Front Street Pictures, Muse Entertainment Ent...   \n",
       "4807                                                 []   \n",
       "4808       [rusty bear entertainment, lucky crow films]   \n",
       "\n",
       "                            production_countries  ... runtime  \\\n",
       "0     [United States of America, United Kingdom]  ...   162.0   \n",
       "1                     [United States of America]  ...   169.0   \n",
       "2     [United Kingdom, United States of America]  ...   148.0   \n",
       "3                     [United States of America]  ...   165.0   \n",
       "4                     [United States of America]  ...   132.0   \n",
       "...                                          ...  ...     ...   \n",
       "4804          [Mexico, United States of America]  ...    81.0   \n",
       "4805                                          []  ...    85.0   \n",
       "4806                  [United States of America]  ...   120.0   \n",
       "4807           [United States of America, China]  ...    98.0   \n",
       "4808                  [United States of America]  ...    90.0   \n",
       "\n",
       "                                       spoken_languages    status  \\\n",
       "0     [{\"iso_639_1\": \"en\", \"name\": \"English\"}, {\"iso...  Released   \n",
       "1              [{\"iso_639_1\": \"en\", \"name\": \"English\"}]  Released   \n",
       "2     [{\"iso_639_1\": \"fr\", \"name\": \"Fran\\u00e7ais\"},...  Released   \n",
       "3              [{\"iso_639_1\": \"en\", \"name\": \"English\"}]  Released   \n",
       "4              [{\"iso_639_1\": \"en\", \"name\": \"English\"}]  Released   \n",
       "...                                                 ...       ...   \n",
       "4804      [{\"iso_639_1\": \"es\", \"name\": \"Espa\\u00f1ol\"}]  Released   \n",
       "4805                                                 []  Released   \n",
       "4806           [{\"iso_639_1\": \"en\", \"name\": \"English\"}]  Released   \n",
       "4807           [{\"iso_639_1\": \"en\", \"name\": \"English\"}]  Released   \n",
       "4808           [{\"iso_639_1\": \"en\", \"name\": \"English\"}]  Released   \n",
       "\n",
       "                                         title vote_average vote_count  \\\n",
       "0                                       Avatar          7.2      11800   \n",
       "1     Pirates of the Caribbean: At World's End          6.9       4500   \n",
       "2                                      Spectre          6.3       4466   \n",
       "3                        The Dark Knight Rises          7.6       9106   \n",
       "4                                  John Carter          6.1       2124   \n",
       "...                                        ...          ...        ...   \n",
       "4804                               El Mariachi          6.6        238   \n",
       "4805                                 Newlyweds          5.9          5   \n",
       "4806                 Signed, Sealed, Delivered          7.0          6   \n",
       "4807                          Shanghai Calling          5.7          7   \n",
       "4808                         My Date with Drew          6.3         16   \n",
       "\n",
       "      movie_id                                               cast  \\\n",
       "0        19995  [Sam Worthington, Zoe Saldana, Sigourney Weave...   \n",
       "1          285  [Johnny Depp, Orlando Bloom, Keira Knightley, ...   \n",
       "2       206647  [Daniel Craig, Christoph Waltz, Léa Seydoux, R...   \n",
       "3        49026  [Christian Bale, Michael Caine, Gary Oldman, A...   \n",
       "4        49529  [Taylor Kitsch, Lynn Collins, Samantha Morton,...   \n",
       "...        ...                                                ...   \n",
       "4804      9367  [Carlos Gallardo, Jaime de Hoyos, Peter Marqua...   \n",
       "4805     72766  [Edward Burns, Kerry Bishé, Marsha Dietlein, C...   \n",
       "4806    231617  [Eric Mabius, Kristin Booth, Crystal Lowe, Geo...   \n",
       "4807    126186  [Daniel Henney, Eliza Coupe, Bill Paxton, Alan...   \n",
       "4808     25975  [Drew Barrymore, Brian Herzlinger, Corey Feldm...   \n",
       "\n",
       "                                                   crew           Director  \n",
       "0     [{\"credit_id\": \"52fe48009251416c750aca23\", \"de...      James Cameron  \n",
       "1     [{\"credit_id\": \"52fe4232c3a36847f800b579\", \"de...     Gore Verbinski  \n",
       "2     [{\"credit_id\": \"54805967c3a36829b5002c41\", \"de...         Sam Mendes  \n",
       "3     [{\"credit_id\": \"52fe4781c3a36847f81398c3\", \"de...  Christopher Nolan  \n",
       "4     [{\"credit_id\": \"52fe479ac3a36847f813eaa3\", \"de...     Andrew Stanton  \n",
       "...                                                 ...                ...  \n",
       "4804  [{\"credit_id\": \"52fe44eec3a36847f80b280b\", \"de...   Robert Rodriguez  \n",
       "4805  [{\"credit_id\": \"52fe487dc3a368484e0fb013\", \"de...       Edward Burns  \n",
       "4806  [{\"credit_id\": \"52fe4df3c3a36847f8275ecf\", \"de...        Scott Smith  \n",
       "4807  [{\"credit_id\": \"52fe4ad9c3a368484e16a36b\", \"de...        Daniel Hsia  \n",
       "4808  [{\"credit_id\": \"58ce021b9251415a390165d9\", \"de...   Brian Herzlinger  \n",
       "\n",
       "[4776 rows x 22 columns]"
      ]
     },
     "execution_count": 132,
     "metadata": {},
     "output_type": "execute_result"
    }
   ],
   "source": [
    "df"
   ]
  },
  {
   "cell_type": "code",
   "execution_count": 133,
   "id": "484b88c7",
   "metadata": {
    "execution": {
     "iopub.execute_input": "2022-06-20T14:46:39.296493Z",
     "iopub.status.busy": "2022-06-20T14:46:39.295989Z",
     "iopub.status.idle": "2022-06-20T14:46:39.302673Z",
     "shell.execute_reply": "2022-06-20T14:46:39.301683Z"
    },
    "papermill": {
     "duration": 0.043098,
     "end_time": "2022-06-20T14:46:39.304904",
     "exception": false,
     "start_time": "2022-06-20T14:46:39.261806",
     "status": "completed"
    },
    "tags": []
   },
   "outputs": [
    {
     "data": {
      "text/plain": [
       "(4776, 22)"
      ]
     },
     "execution_count": 133,
     "metadata": {},
     "output_type": "execute_result"
    }
   ],
   "source": [
    "df.shape"
   ]
  },
  {
   "cell_type": "code",
   "execution_count": 134,
   "id": "45f5b043",
   "metadata": {
    "execution": {
     "iopub.execute_input": "2022-06-20T14:46:39.369871Z",
     "iopub.status.busy": "2022-06-20T14:46:39.368884Z",
     "iopub.status.idle": "2022-06-20T14:46:39.379771Z",
     "shell.execute_reply": "2022-06-20T14:46:39.378651Z"
    },
    "papermill": {
     "duration": 0.046675,
     "end_time": "2022-06-20T14:46:39.382816",
     "exception": false,
     "start_time": "2022-06-20T14:46:39.336141",
     "status": "completed"
    },
    "tags": []
   },
   "outputs": [
    {
     "name": "stdout",
     "output_type": "stream",
     "text": [
      "number of rows with 0 budget are: 1016\n",
      "number of rows with 0 revnue are: 1399\n"
     ]
    }
   ],
   "source": [
    "print('number of rows with 0 budget are: {}'.format(len(df[df['budget']==0])))\n",
    "print('number of rows with 0 revnue are: {}'.format(len(df[df['revenue']==0])))"
   ]
  },
  {
   "cell_type": "markdown",
   "id": "150fda0c",
   "metadata": {
    "papermill": {
     "duration": 0.030651,
     "end_time": "2022-06-20T14:46:39.446235",
     "exception": false,
     "start_time": "2022-06-20T14:46:39.415584",
     "status": "completed"
    },
    "tags": []
   },
   "source": [
    "**Remove rows which has zero budget and zero revenue from our dataset**"
   ]
  },
  {
   "cell_type": "markdown",
   "id": "8138e2aa",
   "metadata": {
    "papermill": {
     "duration": 0.031461,
     "end_time": "2022-06-20T14:46:39.508410",
     "exception": false,
     "start_time": "2022-06-20T14:46:39.476949",
     "status": "completed"
    },
    "tags": []
   },
   "source": [
    "###  Top 10 High budget movie"
   ]
  },
  {
   "cell_type": "code",
   "execution_count": 135,
   "id": "d171cb01",
   "metadata": {
    "execution": {
     "iopub.execute_input": "2022-06-20T14:46:39.572921Z",
     "iopub.status.busy": "2022-06-20T14:46:39.572491Z",
     "iopub.status.idle": "2022-06-20T14:46:39.582704Z",
     "shell.execute_reply": "2022-06-20T14:46:39.581464Z"
    },
    "papermill": {
     "duration": 0.044961,
     "end_time": "2022-06-20T14:46:39.584842",
     "exception": false,
     "start_time": "2022-06-20T14:46:39.539881",
     "status": "completed"
    },
    "tags": []
   },
   "outputs": [
    {
     "data": {
      "text/plain": [
       "(3230, 22)"
      ]
     },
     "execution_count": 135,
     "metadata": {},
     "output_type": "execute_result"
    }
   ],
   "source": [
    "df = df[(df['revenue']!=0) & (df['budget']!=0)] \n",
    "df.shape"
   ]
  },
  {
   "cell_type": "code",
   "execution_count": 136,
   "id": "be3ec5d6",
   "metadata": {
    "execution": {
     "iopub.execute_input": "2022-06-20T14:46:39.648923Z",
     "iopub.status.busy": "2022-06-20T14:46:39.648450Z",
     "iopub.status.idle": "2022-06-20T14:46:39.667346Z",
     "shell.execute_reply": "2022-06-20T14:46:39.666193Z"
    },
    "papermill": {
     "duration": 0.053798,
     "end_time": "2022-06-20T14:46:39.669701",
     "exception": false,
     "start_time": "2022-06-20T14:46:39.615903",
     "status": "completed"
    },
    "tags": []
   },
   "outputs": [
    {
     "data": {
      "text/html": [
       "<div>\n",
       "<style scoped>\n",
       "    .dataframe tbody tr th:only-of-type {\n",
       "        vertical-align: middle;\n",
       "    }\n",
       "\n",
       "    .dataframe tbody tr th {\n",
       "        vertical-align: top;\n",
       "    }\n",
       "\n",
       "    .dataframe thead th {\n",
       "        text-align: right;\n",
       "    }\n",
       "</style>\n",
       "<table border=\"1\" class=\"dataframe\">\n",
       "  <thead>\n",
       "    <tr style=\"text-align: right;\">\n",
       "      <th></th>\n",
       "      <th>title</th>\n",
       "      <th>Director</th>\n",
       "      <th>budget</th>\n",
       "    </tr>\n",
       "  </thead>\n",
       "  <tbody>\n",
       "    <tr>\n",
       "      <th>0</th>\n",
       "      <td>Pirates of the Caribbean: On Stranger Tides</td>\n",
       "      <td>Rob Marshall</td>\n",
       "      <td>380000000</td>\n",
       "    </tr>\n",
       "    <tr>\n",
       "      <th>1</th>\n",
       "      <td>Pirates of the Caribbean: At World's End</td>\n",
       "      <td>Gore Verbinski</td>\n",
       "      <td>300000000</td>\n",
       "    </tr>\n",
       "    <tr>\n",
       "      <th>2</th>\n",
       "      <td>Avengers: Age of Ultron</td>\n",
       "      <td>Joss Whedon</td>\n",
       "      <td>280000000</td>\n",
       "    </tr>\n",
       "    <tr>\n",
       "      <th>3</th>\n",
       "      <td>Superman Returns</td>\n",
       "      <td>Bryan Singer</td>\n",
       "      <td>270000000</td>\n",
       "    </tr>\n",
       "    <tr>\n",
       "      <th>4</th>\n",
       "      <td>John Carter</td>\n",
       "      <td>Andrew Stanton</td>\n",
       "      <td>260000000</td>\n",
       "    </tr>\n",
       "    <tr>\n",
       "      <th>5</th>\n",
       "      <td>Tangled</td>\n",
       "      <td>Byron Howard</td>\n",
       "      <td>260000000</td>\n",
       "    </tr>\n",
       "    <tr>\n",
       "      <th>6</th>\n",
       "      <td>Spider-Man 3</td>\n",
       "      <td>Sam Raimi</td>\n",
       "      <td>258000000</td>\n",
       "    </tr>\n",
       "    <tr>\n",
       "      <th>7</th>\n",
       "      <td>The Lone Ranger</td>\n",
       "      <td>Gore Verbinski</td>\n",
       "      <td>255000000</td>\n",
       "    </tr>\n",
       "    <tr>\n",
       "      <th>8</th>\n",
       "      <td>The Hobbit: An Unexpected Journey</td>\n",
       "      <td>Peter Jackson</td>\n",
       "      <td>250000000</td>\n",
       "    </tr>\n",
       "    <tr>\n",
       "      <th>9</th>\n",
       "      <td>Captain America: Civil War</td>\n",
       "      <td>Anthony Russo</td>\n",
       "      <td>250000000</td>\n",
       "    </tr>\n",
       "  </tbody>\n",
       "</table>\n",
       "</div>"
      ],
      "text/plain": [
       "                                         title        Director     budget\n",
       "0  Pirates of the Caribbean: On Stranger Tides    Rob Marshall  380000000\n",
       "1     Pirates of the Caribbean: At World's End  Gore Verbinski  300000000\n",
       "2                      Avengers: Age of Ultron     Joss Whedon  280000000\n",
       "3                             Superman Returns    Bryan Singer  270000000\n",
       "4                                  John Carter  Andrew Stanton  260000000\n",
       "5                                      Tangled    Byron Howard  260000000\n",
       "6                                 Spider-Man 3       Sam Raimi  258000000\n",
       "7                              The Lone Ranger  Gore Verbinski  255000000\n",
       "8            The Hobbit: An Unexpected Journey   Peter Jackson  250000000\n",
       "9                   Captain America: Civil War   Anthony Russo  250000000"
      ]
     },
     "execution_count": 136,
     "metadata": {},
     "output_type": "execute_result"
    }
   ],
   "source": [
    "top10_budget_movies = df.sort_values(ascending = False , by = 'budget')[['title' , 'Director', 'budget']].reset_index(drop = True).head(10)\n",
    "top10_budget_movies.reset_index(drop = True)"
   ]
  },
  {
   "cell_type": "code",
   "execution_count": 137,
   "id": "894a85db",
   "metadata": {
    "execution": {
     "iopub.execute_input": "2022-06-20T14:46:39.734570Z",
     "iopub.status.busy": "2022-06-20T14:46:39.733438Z",
     "iopub.status.idle": "2022-06-20T14:46:39.978931Z",
     "shell.execute_reply": "2022-06-20T14:46:39.977613Z"
    },
    "papermill": {
     "duration": 0.280452,
     "end_time": "2022-06-20T14:46:39.981596",
     "exception": false,
     "start_time": "2022-06-20T14:46:39.701144",
     "status": "completed"
    },
    "tags": []
   },
   "outputs": [
    {
     "data": {
      "image/png": "[encoded data removed]",
      "text/plain": [
       "<Figure size 432x288 with 1 Axes>"
      ]
     },
     "metadata": {
      "needs_background": "light"
     },
     "output_type": "display_data"
    }
   ],
   "source": [
    "sns.barplot(x = 'budget' , y = 'title' , data  = top10_budget_movies)\n",
    "plt.show()"
   ]
  },
  {
   "cell_type": "markdown",
   "id": "44708310",
   "metadata": {
    "papermill": {
     "duration": 0.03131,
     "end_time": "2022-06-20T14:46:40.044860",
     "exception": false,
     "start_time": "2022-06-20T14:46:40.013550",
     "status": "completed"
    },
    "tags": []
   },
   "source": [
    "### Top 10 High grossing movies"
   ]
  },
  {
   "cell_type": "code",
   "execution_count": 138,
   "id": "eca6971c",
   "metadata": {
    "execution": {
     "iopub.execute_input": "2022-06-20T14:46:40.111321Z",
     "iopub.status.busy": "2022-06-20T14:46:40.110811Z",
     "iopub.status.idle": "2022-06-20T14:46:40.130465Z",
     "shell.execute_reply": "2022-06-20T14:46:40.129305Z"
    },
    "papermill": {
     "duration": 0.055652,
     "end_time": "2022-06-20T14:46:40.132640",
     "exception": false,
     "start_time": "2022-06-20T14:46:40.076988",
     "status": "completed"
    },
    "scrolled": true,
    "tags": []
   },
   "outputs": [
    {
     "data": {
      "text/html": [
       "<div>\n",
       "<style scoped>\n",
       "    .dataframe tbody tr th:only-of-type {\n",
       "        vertical-align: middle;\n",
       "    }\n",
       "\n",
       "    .dataframe tbody tr th {\n",
       "        vertical-align: top;\n",
       "    }\n",
       "\n",
       "    .dataframe thead th {\n",
       "        text-align: right;\n",
       "    }\n",
       "</style>\n",
       "<table border=\"1\" class=\"dataframe\">\n",
       "  <thead>\n",
       "    <tr style=\"text-align: right;\">\n",
       "      <th></th>\n",
       "      <th>title</th>\n",
       "      <th>Director</th>\n",
       "      <th>revenue</th>\n",
       "    </tr>\n",
       "  </thead>\n",
       "  <tbody>\n",
       "    <tr>\n",
       "      <th>0</th>\n",
       "      <td>Avatar</td>\n",
       "      <td>James Cameron</td>\n",
       "      <td>2787965087</td>\n",
       "    </tr>\n",
       "    <tr>\n",
       "      <th>1</th>\n",
       "      <td>Titanic</td>\n",
       "      <td>James Cameron</td>\n",
       "      <td>1845034188</td>\n",
       "    </tr>\n",
       "    <tr>\n",
       "      <th>2</th>\n",
       "      <td>The Avengers</td>\n",
       "      <td>Joss Whedon</td>\n",
       "      <td>1519557910</td>\n",
       "    </tr>\n",
       "    <tr>\n",
       "      <th>3</th>\n",
       "      <td>Jurassic World</td>\n",
       "      <td>Colin Trevorrow</td>\n",
       "      <td>1513528810</td>\n",
       "    </tr>\n",
       "    <tr>\n",
       "      <th>4</th>\n",
       "      <td>Furious 7</td>\n",
       "      <td>James Wan</td>\n",
       "      <td>1506249360</td>\n",
       "    </tr>\n",
       "    <tr>\n",
       "      <th>5</th>\n",
       "      <td>Avengers: Age of Ultron</td>\n",
       "      <td>Joss Whedon</td>\n",
       "      <td>1405403694</td>\n",
       "    </tr>\n",
       "    <tr>\n",
       "      <th>6</th>\n",
       "      <td>Frozen</td>\n",
       "      <td>Chris Buck</td>\n",
       "      <td>1274219009</td>\n",
       "    </tr>\n",
       "    <tr>\n",
       "      <th>7</th>\n",
       "      <td>Iron Man 3</td>\n",
       "      <td>Shane Black</td>\n",
       "      <td>1215439994</td>\n",
       "    </tr>\n",
       "    <tr>\n",
       "      <th>8</th>\n",
       "      <td>Minions</td>\n",
       "      <td>Kyle Balda</td>\n",
       "      <td>1156730962</td>\n",
       "    </tr>\n",
       "    <tr>\n",
       "      <th>9</th>\n",
       "      <td>Captain America: Civil War</td>\n",
       "      <td>Anthony Russo</td>\n",
       "      <td>1153304495</td>\n",
       "    </tr>\n",
       "  </tbody>\n",
       "</table>\n",
       "</div>"
      ],
      "text/plain": [
       "                        title         Director     revenue\n",
       "0                      Avatar    James Cameron  2787965087\n",
       "1                     Titanic    James Cameron  1845034188\n",
       "2                The Avengers      Joss Whedon  1519557910\n",
       "3              Jurassic World  Colin Trevorrow  1513528810\n",
       "4                   Furious 7        James Wan  1506249360\n",
       "5     Avengers: Age of Ultron      Joss Whedon  1405403694\n",
       "6                      Frozen       Chris Buck  1274219009\n",
       "7                  Iron Man 3      Shane Black  1215439994\n",
       "8                     Minions       Kyle Balda  1156730962\n",
       "9  Captain America: Civil War    Anthony Russo  1153304495"
      ]
     },
     "execution_count": 138,
     "metadata": {},
     "output_type": "execute_result"
    }
   ],
   "source": [
    "top10_gross_movies = df.sort_values(ascending = False , by = 'revenue')[['title' ,  'Director' ,'revenue']].reset_index(drop = True).head(10)\n",
    "top10_gross_movies.reset_index(drop = True)"
   ]
  },
  {
   "cell_type": "code",
   "execution_count": 139,
   "id": "17d6960e",
   "metadata": {
    "execution": {
     "iopub.execute_input": "2022-06-20T14:46:40.198601Z",
     "iopub.status.busy": "2022-06-20T14:46:40.198127Z",
     "iopub.status.idle": "2022-06-20T14:46:40.429532Z",
     "shell.execute_reply": "2022-06-20T14:46:40.428200Z"
    },
    "papermill": {
     "duration": 0.267691,
     "end_time": "2022-06-20T14:46:40.432144",
     "exception": false,
     "start_time": "2022-06-20T14:46:40.164453",
     "status": "completed"
    },
    "tags": []
   },
   "outputs": [
    {
     "data": {
      "image/png": "[encoded data removed]",
      "text/plain": [
       "<Figure size 432x288 with 1 Axes>"
      ]
     },
     "metadata": {
      "needs_background": "light"
     },
     "output_type": "display_data"
    }
   ],
   "source": [
    "sns.barplot(x = 'revenue' , y = 'title' , data  = top10_gross_movies)\n",
    "plt.show()"
   ]
  },
  {
   "cell_type": "markdown",
   "id": "235b99b6",
   "metadata": {
    "papermill": {
     "duration": 0.031492,
     "end_time": "2022-06-20T14:46:40.495789",
     "exception": false,
     "start_time": "2022-06-20T14:46:40.464297",
     "status": "completed"
    },
    "tags": []
   },
   "source": [
    "### Top 10 High Voted Movies"
   ]
  },
  {
   "cell_type": "code",
   "execution_count": 140,
   "id": "0f98d05e",
   "metadata": {
    "execution": {
     "iopub.execute_input": "2022-06-20T14:46:40.561874Z",
     "iopub.status.busy": "2022-06-20T14:46:40.561449Z",
     "iopub.status.idle": "2022-06-20T14:46:40.579746Z",
     "shell.execute_reply": "2022-06-20T14:46:40.578534Z"
    },
    "papermill": {
     "duration": 0.053828,
     "end_time": "2022-06-20T14:46:40.581791",
     "exception": false,
     "start_time": "2022-06-20T14:46:40.527963",
     "status": "completed"
    },
    "tags": []
   },
   "outputs": [
    {
     "data": {
      "text/html": [
       "<div>\n",
       "<style scoped>\n",
       "    .dataframe tbody tr th:only-of-type {\n",
       "        vertical-align: middle;\n",
       "    }\n",
       "\n",
       "    .dataframe tbody tr th {\n",
       "        vertical-align: top;\n",
       "    }\n",
       "\n",
       "    .dataframe thead th {\n",
       "        text-align: right;\n",
       "    }\n",
       "</style>\n",
       "<table border=\"1\" class=\"dataframe\">\n",
       "  <thead>\n",
       "    <tr style=\"text-align: right;\">\n",
       "      <th></th>\n",
       "      <th>title</th>\n",
       "      <th>Director</th>\n",
       "      <th>vote_average</th>\n",
       "    </tr>\n",
       "  </thead>\n",
       "  <tbody>\n",
       "    <tr>\n",
       "      <th>0</th>\n",
       "      <td>There Goes My Baby</td>\n",
       "      <td>Floyd Mutrux</td>\n",
       "      <td>8.5</td>\n",
       "    </tr>\n",
       "    <tr>\n",
       "      <th>1</th>\n",
       "      <td>The Shawshank Redemption</td>\n",
       "      <td>Frank Darabont</td>\n",
       "      <td>8.5</td>\n",
       "    </tr>\n",
       "    <tr>\n",
       "      <th>2</th>\n",
       "      <td>The Godfather</td>\n",
       "      <td>Francis Ford Coppola</td>\n",
       "      <td>8.4</td>\n",
       "    </tr>\n",
       "    <tr>\n",
       "      <th>3</th>\n",
       "      <td>Whiplash</td>\n",
       "      <td>Damien Chazelle</td>\n",
       "      <td>8.3</td>\n",
       "    </tr>\n",
       "    <tr>\n",
       "      <th>4</th>\n",
       "      <td>Pulp Fiction</td>\n",
       "      <td>Quentin Tarantino</td>\n",
       "      <td>8.3</td>\n",
       "    </tr>\n",
       "    <tr>\n",
       "      <th>5</th>\n",
       "      <td>Schindler's List</td>\n",
       "      <td>Steven Spielberg</td>\n",
       "      <td>8.3</td>\n",
       "    </tr>\n",
       "    <tr>\n",
       "      <th>6</th>\n",
       "      <td>Fight Club</td>\n",
       "      <td>David Fincher</td>\n",
       "      <td>8.3</td>\n",
       "    </tr>\n",
       "    <tr>\n",
       "      <th>7</th>\n",
       "      <td>The Godfather: Part II</td>\n",
       "      <td>Francis Ford Coppola</td>\n",
       "      <td>8.3</td>\n",
       "    </tr>\n",
       "    <tr>\n",
       "      <th>8</th>\n",
       "      <td>Spirited Away</td>\n",
       "      <td>Hayao Miyazaki</td>\n",
       "      <td>8.3</td>\n",
       "    </tr>\n",
       "    <tr>\n",
       "      <th>9</th>\n",
       "      <td>The Dark Knight</td>\n",
       "      <td>Christopher Nolan</td>\n",
       "      <td>8.2</td>\n",
       "    </tr>\n",
       "  </tbody>\n",
       "</table>\n",
       "</div>"
      ],
      "text/plain": [
       "                      title              Director  vote_average\n",
       "0        There Goes My Baby          Floyd Mutrux           8.5\n",
       "1  The Shawshank Redemption        Frank Darabont           8.5\n",
       "2             The Godfather  Francis Ford Coppola           8.4\n",
       "3                  Whiplash       Damien Chazelle           8.3\n",
       "4              Pulp Fiction     Quentin Tarantino           8.3\n",
       "5          Schindler's List      Steven Spielberg           8.3\n",
       "6                Fight Club         David Fincher           8.3\n",
       "7    The Godfather: Part II  Francis Ford Coppola           8.3\n",
       "8             Spirited Away        Hayao Miyazaki           8.3\n",
       "9           The Dark Knight     Christopher Nolan           8.2"
      ]
     },
     "execution_count": 140,
     "metadata": {},
     "output_type": "execute_result"
    }
   ],
   "source": [
    "top10_voted_movies = df.sort_values(ascending = False , by = 'vote_average')[['title' ,  'Director' , 'vote_average']].reset_index(drop = True).head(10)\n",
    "top10_voted_movies.reset_index(drop = True)"
   ]
  },
  {
   "cell_type": "markdown",
   "id": "68d8fbe2",
   "metadata": {
    "papermill": {
     "duration": 0.031851,
     "end_time": "2022-06-20T14:46:40.645885",
     "exception": false,
     "start_time": "2022-06-20T14:46:40.614034",
     "status": "completed"
    },
    "tags": []
   },
   "source": [
    "### Top 10 Popular Movies"
   ]
  },
  {
   "cell_type": "code",
   "execution_count": 141,
   "id": "0983cf24",
   "metadata": {
    "execution": {
     "iopub.execute_input": "2022-06-20T14:46:40.713321Z",
     "iopub.status.busy": "2022-06-20T14:46:40.712821Z",
     "iopub.status.idle": "2022-06-20T14:46:40.732566Z",
     "shell.execute_reply": "2022-06-20T14:46:40.731528Z"
    },
    "papermill": {
     "duration": 0.056727,
     "end_time": "2022-06-20T14:46:40.734892",
     "exception": false,
     "start_time": "2022-06-20T14:46:40.678165",
     "status": "completed"
    },
    "tags": []
   },
   "outputs": [
    {
     "data": {
      "text/html": [
       "<div>\n",
       "<style scoped>\n",
       "    .dataframe tbody tr th:only-of-type {\n",
       "        vertical-align: middle;\n",
       "    }\n",
       "\n",
       "    .dataframe tbody tr th {\n",
       "        vertical-align: top;\n",
       "    }\n",
       "\n",
       "    .dataframe thead th {\n",
       "        text-align: right;\n",
       "    }\n",
       "</style>\n",
       "<table border=\"1\" class=\"dataframe\">\n",
       "  <thead>\n",
       "    <tr style=\"text-align: right;\">\n",
       "      <th></th>\n",
       "      <th>title</th>\n",
       "      <th>Director</th>\n",
       "      <th>popularity</th>\n",
       "    </tr>\n",
       "  </thead>\n",
       "  <tbody>\n",
       "    <tr>\n",
       "      <th>0</th>\n",
       "      <td>Minions</td>\n",
       "      <td>Kyle Balda</td>\n",
       "      <td>875.581305</td>\n",
       "    </tr>\n",
       "    <tr>\n",
       "      <th>1</th>\n",
       "      <td>Interstellar</td>\n",
       "      <td>Christopher Nolan</td>\n",
       "      <td>724.247784</td>\n",
       "    </tr>\n",
       "    <tr>\n",
       "      <th>2</th>\n",
       "      <td>Deadpool</td>\n",
       "      <td>Tim Miller</td>\n",
       "      <td>514.569956</td>\n",
       "    </tr>\n",
       "    <tr>\n",
       "      <th>3</th>\n",
       "      <td>Guardians of the Galaxy</td>\n",
       "      <td>James Gunn</td>\n",
       "      <td>481.098624</td>\n",
       "    </tr>\n",
       "    <tr>\n",
       "      <th>4</th>\n",
       "      <td>Mad Max: Fury Road</td>\n",
       "      <td>George Miller</td>\n",
       "      <td>434.278564</td>\n",
       "    </tr>\n",
       "    <tr>\n",
       "      <th>5</th>\n",
       "      <td>Jurassic World</td>\n",
       "      <td>Colin Trevorrow</td>\n",
       "      <td>418.708552</td>\n",
       "    </tr>\n",
       "    <tr>\n",
       "      <th>6</th>\n",
       "      <td>Pirates of the Caribbean: The Curse of the Bla...</td>\n",
       "      <td>Gore Verbinski</td>\n",
       "      <td>271.972889</td>\n",
       "    </tr>\n",
       "    <tr>\n",
       "      <th>7</th>\n",
       "      <td>Dawn of the Planet of the Apes</td>\n",
       "      <td>Matt Reeves</td>\n",
       "      <td>243.791743</td>\n",
       "    </tr>\n",
       "    <tr>\n",
       "      <th>8</th>\n",
       "      <td>The Hunger Games: Mockingjay - Part 1</td>\n",
       "      <td>Francis Lawrence</td>\n",
       "      <td>206.227151</td>\n",
       "    </tr>\n",
       "    <tr>\n",
       "      <th>9</th>\n",
       "      <td>Big Hero 6</td>\n",
       "      <td>Chris Williams</td>\n",
       "      <td>203.734590</td>\n",
       "    </tr>\n",
       "  </tbody>\n",
       "</table>\n",
       "</div>"
      ],
      "text/plain": [
       "                                               title           Director  \\\n",
       "0                                            Minions         Kyle Balda   \n",
       "1                                       Interstellar  Christopher Nolan   \n",
       "2                                           Deadpool         Tim Miller   \n",
       "3                            Guardians of the Galaxy         James Gunn   \n",
       "4                                 Mad Max: Fury Road      George Miller   \n",
       "5                                     Jurassic World    Colin Trevorrow   \n",
       "6  Pirates of the Caribbean: The Curse of the Bla...     Gore Verbinski   \n",
       "7                     Dawn of the Planet of the Apes        Matt Reeves   \n",
       "8              The Hunger Games: Mockingjay - Part 1   Francis Lawrence   \n",
       "9                                         Big Hero 6     Chris Williams   \n",
       "\n",
       "   popularity  \n",
       "0  875.581305  \n",
       "1  724.247784  \n",
       "2  514.569956  \n",
       "3  481.098624  \n",
       "4  434.278564  \n",
       "5  418.708552  \n",
       "6  271.972889  \n",
       "7  243.791743  \n",
       "8  206.227151  \n",
       "9  203.734590  "
      ]
     },
     "execution_count": 141,
     "metadata": {},
     "output_type": "execute_result"
    }
   ],
   "source": [
    "top10_popularity_movies = df.sort_values(ascending = False , by = 'popularity')[['title' ,  'Director' , 'popularity']].reset_index(drop = True).head(10)\n",
    "top10_popularity_movies.reset_index(drop = True)"
   ]
  },
  {
   "cell_type": "code",
   "execution_count": 142,
   "id": "28960825",
   "metadata": {
    "execution": {
     "iopub.execute_input": "2022-06-20T14:46:40.803655Z",
     "iopub.status.busy": "2022-06-20T14:46:40.802705Z",
     "iopub.status.idle": "2022-06-20T14:46:40.822701Z",
     "shell.execute_reply": "2022-06-20T14:46:40.821631Z"
    },
    "papermill": {
     "duration": 0.056668,
     "end_time": "2022-06-20T14:46:40.825001",
     "exception": false,
     "start_time": "2022-06-20T14:46:40.768333",
     "status": "completed"
    },
    "tags": []
   },
   "outputs": [
    {
     "data": {
      "text/html": [
       "<div>\n",
       "<style scoped>\n",
       "    .dataframe tbody tr th:only-of-type {\n",
       "        vertical-align: middle;\n",
       "    }\n",
       "\n",
       "    .dataframe tbody tr th {\n",
       "        vertical-align: top;\n",
       "    }\n",
       "\n",
       "    .dataframe thead th {\n",
       "        text-align: right;\n",
       "    }\n",
       "</style>\n",
       "<table border=\"1\" class=\"dataframe\">\n",
       "  <thead>\n",
       "    <tr style=\"text-align: right;\">\n",
       "      <th></th>\n",
       "      <th>title</th>\n",
       "      <th>Director</th>\n",
       "      <th>runtime</th>\n",
       "    </tr>\n",
       "  </thead>\n",
       "  <tbody>\n",
       "    <tr>\n",
       "      <th>0</th>\n",
       "      <td>Carlos</td>\n",
       "      <td>Olivier Assayas</td>\n",
       "      <td>338.0</td>\n",
       "    </tr>\n",
       "    <tr>\n",
       "      <th>1</th>\n",
       "      <td>Cleopatra</td>\n",
       "      <td>Joseph L. Mankiewicz</td>\n",
       "      <td>248.0</td>\n",
       "    </tr>\n",
       "    <tr>\n",
       "      <th>2</th>\n",
       "      <td>Gone with the Wind</td>\n",
       "      <td>Victor Fleming</td>\n",
       "      <td>238.0</td>\n",
       "    </tr>\n",
       "    <tr>\n",
       "      <th>3</th>\n",
       "      <td>Woodstock</td>\n",
       "      <td>Michael Wadleigh</td>\n",
       "      <td>225.0</td>\n",
       "    </tr>\n",
       "    <tr>\n",
       "      <th>4</th>\n",
       "      <td>Heaven's Gate</td>\n",
       "      <td>Michael Cimino</td>\n",
       "      <td>219.0</td>\n",
       "    </tr>\n",
       "    <tr>\n",
       "      <th>5</th>\n",
       "      <td>Lawrence of Arabia</td>\n",
       "      <td>David Lean</td>\n",
       "      <td>216.0</td>\n",
       "    </tr>\n",
       "    <tr>\n",
       "      <th>6</th>\n",
       "      <td>Gods and Generals</td>\n",
       "      <td>Ronald F. Maxwell</td>\n",
       "      <td>214.0</td>\n",
       "    </tr>\n",
       "    <tr>\n",
       "      <th>7</th>\n",
       "      <td>Seven Samurai</td>\n",
       "      <td>Akira Kurosawa</td>\n",
       "      <td>207.0</td>\n",
       "    </tr>\n",
       "    <tr>\n",
       "      <th>8</th>\n",
       "      <td>Malcolm X</td>\n",
       "      <td>Spike Lee</td>\n",
       "      <td>202.0</td>\n",
       "    </tr>\n",
       "    <tr>\n",
       "      <th>9</th>\n",
       "      <td>The Lord of the Rings: The Return of the King</td>\n",
       "      <td>Peter Jackson</td>\n",
       "      <td>201.0</td>\n",
       "    </tr>\n",
       "  </tbody>\n",
       "</table>\n",
       "</div>"
      ],
      "text/plain": [
       "                                           title              Director  \\\n",
       "0                                         Carlos       Olivier Assayas   \n",
       "1                                      Cleopatra  Joseph L. Mankiewicz   \n",
       "2                             Gone with the Wind        Victor Fleming   \n",
       "3                                      Woodstock      Michael Wadleigh   \n",
       "4                                  Heaven's Gate        Michael Cimino   \n",
       "5                             Lawrence of Arabia            David Lean   \n",
       "6                              Gods and Generals     Ronald F. Maxwell   \n",
       "7                                  Seven Samurai        Akira Kurosawa   \n",
       "8                                      Malcolm X             Spike Lee   \n",
       "9  The Lord of the Rings: The Return of the King         Peter Jackson   \n",
       "\n",
       "   runtime  \n",
       "0    338.0  \n",
       "1    248.0  \n",
       "2    238.0  \n",
       "3    225.0  \n",
       "4    219.0  \n",
       "5    216.0  \n",
       "6    214.0  \n",
       "7    207.0  \n",
       "8    202.0  \n",
       "9    201.0  "
      ]
     },
     "execution_count": 142,
     "metadata": {},
     "output_type": "execute_result"
    }
   ],
   "source": [
    "top10_runtime_movies = df.sort_values(ascending = False , by = 'runtime')[['title' ,  'Director' , 'runtime']].reset_index(drop = True).head(10)\n",
    "top10_runtime_movies.reset_index(drop = True)"
   ]
  },
  {
   "cell_type": "code",
   "execution_count": 143,
   "id": "679378f0",
   "metadata": {
    "execution": {
     "iopub.execute_input": "2022-06-20T14:46:40.894567Z",
     "iopub.status.busy": "2022-06-20T14:46:40.893948Z",
     "iopub.status.idle": "2022-06-20T14:46:41.135255Z",
     "shell.execute_reply": "2022-06-20T14:46:41.134065Z"
    },
    "papermill": {
     "duration": 0.278656,
     "end_time": "2022-06-20T14:46:41.137932",
     "exception": false,
     "start_time": "2022-06-20T14:46:40.859276",
     "status": "completed"
    },
    "tags": []
   },
   "outputs": [
    {
     "data": {
      "text/plain": [
       "<AxesSubplot:xlabel='runtime', ylabel='title'>"
      ]
     },
     "execution_count": 143,
     "metadata": {},
     "output_type": "execute_result"
    },
    {
     "data": {
      "image/png": "[encoded data removed]",
      "text/plain": [
       "<Figure size 432x288 with 1 Axes>"
      ]
     },
     "metadata": {
      "needs_background": "light"
     },
     "output_type": "display_data"
    }
   ],
   "source": [
    "sns.barplot(x = 'runtime' , y = 'title' ,data = top10_runtime_movies)"
   ]
  },
  {
   "cell_type": "markdown",
   "id": "534ec149",
   "metadata": {
    "papermill": {
     "duration": 0.035386,
     "end_time": "2022-06-20T14:46:41.208953",
     "exception": false,
     "start_time": "2022-06-20T14:46:41.173567",
     "status": "completed"
    },
    "tags": []
   },
   "source": [
    "### Fearure Engineering "
   ]
  },
  {
   "cell_type": "code",
   "execution_count": 144,
   "id": "0b236fae",
   "metadata": {
    "execution": {
     "iopub.execute_input": "2022-06-20T14:46:41.278300Z",
     "iopub.status.busy": "2022-06-20T14:46:41.277807Z",
     "iopub.status.idle": "2022-06-20T14:46:41.288723Z",
     "shell.execute_reply": "2022-06-20T14:46:41.287749Z"
    },
    "papermill": {
     "duration": 0.04839,
     "end_time": "2022-06-20T14:46:41.291023",
     "exception": false,
     "start_time": "2022-06-20T14:46:41.242633",
     "status": "completed"
    },
    "tags": []
   },
   "outputs": [],
   "source": [
    "#converting object dtype to datetime so that we can extract some datetime features.\n",
    "df['release_date'] = pd.to_datetime(df['release_date'])"
   ]
  },
  {
   "cell_type": "markdown",
   "id": "d5593bd1",
   "metadata": {
    "papermill": {
     "duration": 0.033049,
     "end_time": "2022-06-20T14:46:41.358251",
     "exception": false,
     "start_time": "2022-06-20T14:46:41.325202",
     "status": "completed"
    },
    "tags": []
   },
   "source": [
    "**this extracting_date_features will extract year , month , weekday columns from release_date columns**"
   ]
  },
  {
   "cell_type": "code",
   "execution_count": 145,
   "id": "4e208e44",
   "metadata": {
    "execution": {
     "iopub.execute_input": "2022-06-20T14:46:41.427638Z",
     "iopub.status.busy": "2022-06-20T14:46:41.427120Z",
     "iopub.status.idle": "2022-06-20T14:46:41.433131Z",
     "shell.execute_reply": "2022-06-20T14:46:41.431940Z"
    },
    "papermill": {
     "duration": 0.043461,
     "end_time": "2022-06-20T14:46:41.435142",
     "exception": false,
     "start_time": "2022-06-20T14:46:41.391681",
     "status": "completed"
    },
    "tags": []
   },
   "outputs": [],
   "source": [
    "l = ['year' , 'month' , 'weekday']\n",
    "def extracting_date_features(df_date):\n",
    "    for i in l:\n",
    "        df[i] = getattr(df_date['release_date'].dt , i).astype('int')\n",
    "    return df_date    "
   ]
  },
  {
   "cell_type": "code",
   "execution_count": 146,
   "id": "2d5d42e7",
   "metadata": {
    "execution": {
     "iopub.execute_input": "2022-06-20T14:46:41.505484Z",
     "iopub.status.busy": "2022-06-20T14:46:41.504950Z",
     "iopub.status.idle": "2022-06-20T14:46:41.538173Z",
     "shell.execute_reply": "2022-06-20T14:46:41.536895Z"
    },
    "papermill": {
     "duration": 0.071302,
     "end_time": "2022-06-20T14:46:41.540684",
     "exception": false,
     "start_time": "2022-06-20T14:46:41.469382",
     "status": "completed"
    },
    "tags": []
   },
   "outputs": [
    {
     "data": {
      "text/html": [
       "<div>\n",
       "<style scoped>\n",
       "    .dataframe tbody tr th:only-of-type {\n",
       "        vertical-align: middle;\n",
       "    }\n",
       "\n",
       "    .dataframe tbody tr th {\n",
       "        vertical-align: top;\n",
       "    }\n",
       "\n",
       "    .dataframe thead th {\n",
       "        text-align: right;\n",
       "    }\n",
       "</style>\n",
       "<table border=\"1\" class=\"dataframe\">\n",
       "  <thead>\n",
       "    <tr style=\"text-align: right;\">\n",
       "      <th></th>\n",
       "      <th>budget</th>\n",
       "      <th>genres</th>\n",
       "      <th>id</th>\n",
       "      <th>keywords</th>\n",
       "      <th>original_language</th>\n",
       "      <th>original_title</th>\n",
       "      <th>overview</th>\n",
       "      <th>popularity</th>\n",
       "      <th>production_companies</th>\n",
       "      <th>production_countries</th>\n",
       "      <th>...</th>\n",
       "      <th>title</th>\n",
       "      <th>vote_average</th>\n",
       "      <th>vote_count</th>\n",
       "      <th>movie_id</th>\n",
       "      <th>cast</th>\n",
       "      <th>crew</th>\n",
       "      <th>Director</th>\n",
       "      <th>year</th>\n",
       "      <th>month</th>\n",
       "      <th>weekday</th>\n",
       "    </tr>\n",
       "  </thead>\n",
       "  <tbody>\n",
       "    <tr>\n",
       "      <th>0</th>\n",
       "      <td>237000000</td>\n",
       "      <td>[Action, Adventure, Fantasy, Science Fiction]</td>\n",
       "      <td>19995</td>\n",
       "      <td>[culture clash, future, space war, space colon...</td>\n",
       "      <td>en</td>\n",
       "      <td>Avatar</td>\n",
       "      <td>In the 22nd century, a paraplegic Marine is di...</td>\n",
       "      <td>150.437577</td>\n",
       "      <td>[Ingenious Film Partners, Twentieth Century Fo...</td>\n",
       "      <td>[United States of America, United Kingdom]</td>\n",
       "      <td>...</td>\n",
       "      <td>Avatar</td>\n",
       "      <td>7.2</td>\n",
       "      <td>11800</td>\n",
       "      <td>19995</td>\n",
       "      <td>[Sam Worthington, Zoe Saldana, Sigourney Weave...</td>\n",
       "      <td>[{\"credit_id\": \"52fe48009251416c750aca23\", \"de...</td>\n",
       "      <td>James Cameron</td>\n",
       "      <td>2009</td>\n",
       "      <td>12</td>\n",
       "      <td>3</td>\n",
       "    </tr>\n",
       "    <tr>\n",
       "      <th>1</th>\n",
       "      <td>300000000</td>\n",
       "      <td>[Adventure, Fantasy, Action]</td>\n",
       "      <td>285</td>\n",
       "      <td>[ocean, drug abuse, exotic island, east india ...</td>\n",
       "      <td>en</td>\n",
       "      <td>Pirates of the Caribbean: At World's End</td>\n",
       "      <td>Captain Barbossa, long believed to be dead, ha...</td>\n",
       "      <td>139.082615</td>\n",
       "      <td>[Walt Disney Pictures, Jerry Bruckheimer Films...</td>\n",
       "      <td>[United States of America]</td>\n",
       "      <td>...</td>\n",
       "      <td>Pirates of the Caribbean: At World's End</td>\n",
       "      <td>6.9</td>\n",
       "      <td>4500</td>\n",
       "      <td>285</td>\n",
       "      <td>[Johnny Depp, Orlando Bloom, Keira Knightley, ...</td>\n",
       "      <td>[{\"credit_id\": \"52fe4232c3a36847f800b579\", \"de...</td>\n",
       "      <td>Gore Verbinski</td>\n",
       "      <td>2007</td>\n",
       "      <td>5</td>\n",
       "      <td>5</td>\n",
       "    </tr>\n",
       "  </tbody>\n",
       "</table>\n",
       "<p>2 rows × 25 columns</p>\n",
       "</div>"
      ],
      "text/plain": [
       "      budget                                         genres     id  \\\n",
       "0  237000000  [Action, Adventure, Fantasy, Science Fiction]  19995   \n",
       "1  300000000                   [Adventure, Fantasy, Action]    285   \n",
       "\n",
       "                                            keywords original_language  \\\n",
       "0  [culture clash, future, space war, space colon...                en   \n",
       "1  [ocean, drug abuse, exotic island, east india ...                en   \n",
       "\n",
       "                             original_title  \\\n",
       "0                                    Avatar   \n",
       "1  Pirates of the Caribbean: At World's End   \n",
       "\n",
       "                                            overview  popularity  \\\n",
       "0  In the 22nd century, a paraplegic Marine is di...  150.437577   \n",
       "1  Captain Barbossa, long believed to be dead, ha...  139.082615   \n",
       "\n",
       "                                production_companies  \\\n",
       "0  [Ingenious Film Partners, Twentieth Century Fo...   \n",
       "1  [Walt Disney Pictures, Jerry Bruckheimer Films...   \n",
       "\n",
       "                         production_countries  ...  \\\n",
       "0  [United States of America, United Kingdom]  ...   \n",
       "1                  [United States of America]  ...   \n",
       "\n",
       "                                      title  vote_average  vote_count  \\\n",
       "0                                    Avatar           7.2       11800   \n",
       "1  Pirates of the Caribbean: At World's End           6.9        4500   \n",
       "\n",
       "  movie_id                                               cast  \\\n",
       "0    19995  [Sam Worthington, Zoe Saldana, Sigourney Weave...   \n",
       "1      285  [Johnny Depp, Orlando Bloom, Keira Knightley, ...   \n",
       "\n",
       "                                                crew        Director  year  \\\n",
       "0  [{\"credit_id\": \"52fe48009251416c750aca23\", \"de...   James Cameron  2009   \n",
       "1  [{\"credit_id\": \"52fe4232c3a36847f800b579\", \"de...  Gore Verbinski  2007   \n",
       "\n",
       "   month weekday  \n",
       "0     12       3  \n",
       "1      5       5  \n",
       "\n",
       "[2 rows x 25 columns]"
      ]
     },
     "execution_count": 146,
     "metadata": {},
     "output_type": "execute_result"
    }
   ],
   "source": [
    "df = extracting_date_features(df) \n",
    "df.head(2) "
   ]
  },
  {
   "cell_type": "markdown",
   "id": "141da910",
   "metadata": {
    "papermill": {
     "duration": 0.033748,
     "end_time": "2022-06-20T14:46:41.609199",
     "exception": false,
     "start_time": "2022-06-20T14:46:41.575451",
     "status": "completed"
    },
    "tags": []
   },
   "source": [
    "### Movies released count per year "
   ]
  },
  {
   "cell_type": "code",
   "execution_count": 147,
   "id": "b051f23f",
   "metadata": {
    "execution": {
     "iopub.execute_input": "2022-06-20T14:46:41.680228Z",
     "iopub.status.busy": "2022-06-20T14:46:41.679270Z",
     "iopub.status.idle": "2022-06-20T14:46:42.722205Z",
     "shell.execute_reply": "2022-06-20T14:46:42.721134Z"
    },
    "papermill": {
     "duration": 1.081382,
     "end_time": "2022-06-20T14:46:42.724669",
     "exception": false,
     "start_time": "2022-06-20T14:46:41.643287",
     "status": "completed"
    },
    "tags": []
   },
   "outputs": [
    {
     "data": {
      "image/png": "[encoded data removed]",
      "text/plain": [
       "<Figure size 1440x864 with 1 Axes>"
      ]
     },
     "metadata": {
      "needs_background": "light"
     },
     "output_type": "display_data"
    }
   ],
   "source": [
    "plt.figure(figsize = (20,12))\n",
    "sns.countplot(x = 'year' , data = df ) \n",
    "plt.title(\"Movie Release count by Year\",fontsize=20)\n",
    "plt.xticks(rotation = 'vertical')  \n",
    "plt.show()"
   ]
  },
  {
   "cell_type": "markdown",
   "id": "5ca8be1e",
   "metadata": {
    "papermill": {
     "duration": 0.033866,
     "end_time": "2022-06-20T14:46:42.792359",
     "exception": false,
     "start_time": "2022-06-20T14:46:42.758493",
     "status": "completed"
    },
    "tags": []
   },
   "source": [
    "### Extracting decades from year columns "
   ]
  },
  {
   "cell_type": "code",
   "execution_count": 148,
   "id": "91670404",
   "metadata": {
    "execution": {
     "iopub.execute_input": "2022-06-20T14:46:42.864255Z",
     "iopub.status.busy": "2022-06-20T14:46:42.863443Z",
     "iopub.status.idle": "2022-06-20T14:46:42.870048Z",
     "shell.execute_reply": "2022-06-20T14:46:42.869171Z"
    },
    "papermill": {
     "duration": 0.045118,
     "end_time": "2022-06-20T14:46:42.872128",
     "exception": false,
     "start_time": "2022-06-20T14:46:42.827010",
     "status": "completed"
    },
    "tags": []
   },
   "outputs": [],
   "source": [
    "def decade(x):\n",
    "    if x>=1960 and x<=1969:\n",
    "        return '60s'\n",
    "    elif x>=1970 and x<=1979:\n",
    "        return '70s'\n",
    "    elif x>=1980 and x<=1989:\n",
    "        return '80s'\n",
    "    elif x>=1990 and x<=1999:\n",
    "        return '90s'\n",
    "    elif x>1999:\n",
    "        return '21s'\n",
    "    else:\n",
    "        return 'movie between 1916 to 1960' "
   ]
  },
  {
   "cell_type": "code",
   "execution_count": 149,
   "id": "144317d6",
   "metadata": {
    "execution": {
     "iopub.execute_input": "2022-06-20T14:46:42.944764Z",
     "iopub.status.busy": "2022-06-20T14:46:42.944033Z",
     "iopub.status.idle": "2022-06-20T14:46:42.951631Z",
     "shell.execute_reply": "2022-06-20T14:46:42.950848Z"
    },
    "papermill": {
     "duration": 0.046933,
     "end_time": "2022-06-20T14:46:42.953741",
     "exception": false,
     "start_time": "2022-06-20T14:46:42.906808",
     "status": "completed"
    },
    "tags": []
   },
   "outputs": [],
   "source": [
    "df['decade'] = df['year'].apply(decade)"
   ]
  },
  {
   "cell_type": "code",
   "execution_count": 150,
   "id": "4cd96191",
   "metadata": {
    "execution": {
     "iopub.execute_input": "2022-06-20T14:46:43.023928Z",
     "iopub.status.busy": "2022-06-20T14:46:43.023285Z",
     "iopub.status.idle": "2022-06-20T14:46:43.031819Z",
     "shell.execute_reply": "2022-06-20T14:46:43.031142Z"
    },
    "papermill": {
     "duration": 0.046005,
     "end_time": "2022-06-20T14:46:43.033692",
     "exception": false,
     "start_time": "2022-06-20T14:46:42.987687",
     "status": "completed"
    },
    "tags": []
   },
   "outputs": [
    {
     "data": {
      "text/plain": [
       "21s                           2282\n",
       "90s                            540\n",
       "80s                            205\n",
       "70s                             81\n",
       "movie between 1916 to 1960      63\n",
       "60s                             59\n",
       "Name: decade, dtype: int64"
      ]
     },
     "execution_count": 150,
     "metadata": {},
     "output_type": "execute_result"
    }
   ],
   "source": [
    "df['decade'].value_counts()"
   ]
  },
  {
   "cell_type": "code",
   "execution_count": 151,
   "id": "01c18c17",
   "metadata": {
    "execution": {
     "iopub.execute_input": "2022-06-20T14:46:43.192155Z",
     "iopub.status.busy": "2022-06-20T14:46:43.190909Z",
     "iopub.status.idle": "2022-06-20T14:46:43.372373Z",
     "shell.execute_reply": "2022-06-20T14:46:43.371292Z"
    },
    "papermill": {
     "duration": 0.306894,
     "end_time": "2022-06-20T14:46:43.374716",
     "exception": false,
     "start_time": "2022-06-20T14:46:43.067822",
     "status": "completed"
    },
    "tags": []
   },
   "outputs": [
    {
     "data": {
      "image/png": "[encoded data removed]",
      "text/plain": [
       "<Figure size 432x288 with 1 Axes>"
      ]
     },
     "metadata": {
      "needs_background": "light"
     },
     "output_type": "display_data"
    }
   ],
   "source": [
    "sns.countplot(df['decade'])\n",
    "plt.xticks(rotation = 'vertical')\n",
    "plt.show()"
   ]
  },
  {
   "cell_type": "markdown",
   "id": "3cdca1b9",
   "metadata": {
    "papermill": {
     "duration": 0.038847,
     "end_time": "2022-06-20T14:46:43.449500",
     "exception": false,
     "start_time": "2022-06-20T14:46:43.410653",
     "status": "completed"
    },
    "tags": []
   },
   "source": [
    "From the above chart movie released in 21s generated more revenue compared to old movies."
   ]
  },
  {
   "cell_type": "code",
   "execution_count": 152,
   "id": "1e171a55",
   "metadata": {
    "execution": {
     "iopub.execute_input": "2022-06-20T14:46:43.521322Z",
     "iopub.status.busy": "2022-06-20T14:46:43.520844Z",
     "iopub.status.idle": "2022-06-20T14:46:43.890427Z",
     "shell.execute_reply": "2022-06-20T14:46:43.889251Z"
    },
    "papermill": {
     "duration": 0.407737,
     "end_time": "2022-06-20T14:46:43.892765",
     "exception": false,
     "start_time": "2022-06-20T14:46:43.485028",
     "status": "completed"
    },
    "tags": []
   },
   "outputs": [
    {
     "data": {
      "text/plain": [
       "<AxesSubplot:xlabel='decade', ylabel='revenue'>"
      ]
     },
     "execution_count": 152,
     "metadata": {},
     "output_type": "execute_result"
    },
    {
     "data": {
      "image/png": "[encoded data removed]",
      "text/plain": [
       "<Figure size 432x288 with 1 Axes>"
      ]
     },
     "metadata": {
      "needs_background": "light"
     },
     "output_type": "display_data"
    }
   ],
   "source": [
    "sns.barplot(x = 'decade' , y = 'revenue' , data = df ) "
   ]
  },
  {
   "cell_type": "markdown",
   "id": "30b5658f",
   "metadata": {
    "papermill": {
     "duration": 0.036303,
     "end_time": "2022-06-20T14:46:43.963975",
     "exception": false,
     "start_time": "2022-06-20T14:46:43.927672",
     "status": "completed"
    },
    "tags": []
   },
   "source": [
    "From this bar graph we can see that 21s century movie is generating more revenue compare to 70s , 80s and older movies."
   ]
  },
  {
   "cell_type": "code",
   "execution_count": 153,
   "id": "df82afe8",
   "metadata": {
    "execution": {
     "iopub.execute_input": "2022-06-20T14:46:44.037227Z",
     "iopub.status.busy": "2022-06-20T14:46:44.035798Z",
     "iopub.status.idle": "2022-06-20T14:46:44.571325Z",
     "shell.execute_reply": "2022-06-20T14:46:44.570196Z"
    },
    "papermill": {
     "duration": 0.574568,
     "end_time": "2022-06-20T14:46:44.573775",
     "exception": false,
     "start_time": "2022-06-20T14:46:43.999207",
     "status": "completed"
    },
    "tags": []
   },
   "outputs": [
    {
     "data": {
      "text/plain": [
       "Text(0.5, 1.0, 'revenue generated per month')"
      ]
     },
     "execution_count": 153,
     "metadata": {},
     "output_type": "execute_result"
    },
    {
     "data": {
      "image/png": "[encoded data removed]",
      "text/plain": [
       "<Figure size 432x288 with 1 Axes>"
      ]
     },
     "metadata": {
      "needs_background": "light"
     },
     "output_type": "display_data"
    }
   ],
   "source": [
    "sns.barplot(x = 'month' , y = 'revenue' , data = df ) \n",
    "#lets replace number by actual month name\n",
    "loc , labels = plt.xticks() \n",
    "loc, labels = loc, [\"Jan\", \"Feb\", \"Mar\", \"Apr\", \"May\", \"Jun\", \"Jul\", \"Aug\", \"Sep\", \"Oct\", \"Nov\", \"Dec\"]\n",
    "plt.xticks(loc, labels,fontsize=10)\n",
    "plt.title('revenue generated per month')"
   ]
  },
  {
   "cell_type": "markdown",
   "id": "5fd9d419",
   "metadata": {
    "papermill": {
     "duration": 0.036629,
     "end_time": "2022-06-20T14:46:44.647263",
     "exception": false,
     "start_time": "2022-06-20T14:46:44.610634",
     "status": "completed"
    },
    "tags": []
   },
   "source": [
    "From the above bar graph we can see that movie released in jun month generating more revenue compared to other month"
   ]
  },
  {
   "cell_type": "code",
   "execution_count": 154,
   "id": "93ff3881",
   "metadata": {
    "execution": {
     "iopub.execute_input": "2022-06-20T14:46:44.722174Z",
     "iopub.status.busy": "2022-06-20T14:46:44.721635Z",
     "iopub.status.idle": "2022-06-20T14:46:45.115578Z",
     "shell.execute_reply": "2022-06-20T14:46:45.114511Z"
    },
    "papermill": {
     "duration": 0.434021,
     "end_time": "2022-06-20T14:46:45.117827",
     "exception": false,
     "start_time": "2022-06-20T14:46:44.683806",
     "status": "completed"
    },
    "tags": []
   },
   "outputs": [
    {
     "data": {
      "text/plain": [
       "Text(0.5, 1.0, 'revenue generated per week')"
      ]
     },
     "execution_count": 154,
     "metadata": {},
     "output_type": "execute_result"
    },
    {
     "data": {
      "image/png": "[encoded data removed]",
      "text/plain": [
       "<Figure size 432x288 with 1 Axes>"
      ]
     },
     "metadata": {
      "needs_background": "light"
     },
     "output_type": "display_data"
    }
   ],
   "source": [
    "# plt.figure(figsize=(20,5));\n",
    "sns.barplot(x = 'weekday' , y = 'revenue' , data = df) \n",
    "loc , labels = plt.xticks()\n",
    "loc , labels = loc ,['Mon' , 'Tue' , 'Wed' , 'Thu' , 'Fri' , 'Sat' , 'Sun']\n",
    "plt.xticks(loc , labels,fontsize=10)\n",
    "plt.title('revenue generated per week')"
   ]
  },
  {
   "cell_type": "markdown",
   "id": "513e9b69",
   "metadata": {
    "papermill": {
     "duration": 0.040305,
     "end_time": "2022-06-20T14:46:48.938258",
     "exception": false,
     "start_time": "2022-06-20T14:46:48.897953",
     "status": "completed"
    },
    "tags": []
   },
   "source": [
    "### Outliers "
   ]
  },
  {
   "cell_type": "code",
   "execution_count": 155,
   "id": "4de597a7",
   "metadata": {
    "execution": {
     "iopub.execute_input": "2022-06-20T14:46:49.023087Z",
     "iopub.status.busy": "2022-06-20T14:46:49.022244Z",
     "iopub.status.idle": "2022-06-20T14:46:49.322796Z",
     "shell.execute_reply": "2022-06-20T14:46:49.321594Z"
    },
    "papermill": {
     "duration": 0.345954,
     "end_time": "2022-06-20T14:46:49.325236",
     "exception": false,
     "start_time": "2022-06-20T14:46:48.979282",
     "status": "completed"
    },
    "scrolled": true,
    "tags": []
   },
   "outputs": [
    {
     "data": {
      "text/plain": [
       "<AxesSubplot:title={'center':'runtime'}, xlabel='runtime'>"
      ]
     },
     "execution_count": 155,
     "metadata": {},
     "output_type": "execute_result"
    },
    {
     "data": {
      "image/png": "[encoded data removed]",
      "text/plain": [
       "<Figure size 720x360 with 3 Axes>"
      ]
     },
     "metadata": {
      "needs_background": "light"
     },
     "output_type": "display_data"
    }
   ],
   "source": [
    "plt.figure(figsize = (10,5)) \n",
    "plt.subplot(1 ,3,1)\n",
    "plt.title('Budget')\n",
    "sns.boxplot(df['budget'])  \n",
    "\n",
    "plt.subplot(1,3,2)\n",
    "plt.title('Revenue') \n",
    "sns.boxplot(df['revenue'])\n",
    "\n",
    "plt.subplot(1,3,3)\n",
    "plt.title('runtime') \n",
    "sns.boxplot(df['runtime'])\n"
   ]
  },
  {
   "cell_type": "code",
   "execution_count": 156,
   "id": "9fb2ac9e",
   "metadata": {
    "execution": {
     "iopub.execute_input": "2022-06-20T14:46:49.409906Z",
     "iopub.status.busy": "2022-06-20T14:46:49.409446Z",
     "iopub.status.idle": "2022-06-20T14:46:49.424991Z",
     "shell.execute_reply": "2022-06-20T14:46:49.423920Z"
    },
    "papermill": {
     "duration": 0.061041,
     "end_time": "2022-06-20T14:46:49.427607",
     "exception": false,
     "start_time": "2022-06-20T14:46:49.366566",
     "status": "completed"
    },
    "tags": []
   },
   "outputs": [],
   "source": [
    "# Finding the IQR For Budget columns\n",
    "dict = {}\n",
    "for col in ['budget' , 'revenue' , 'runtime']:\n",
    "    percentile25 = df[col].quantile(0.25)\n",
    "    percentile75 = df[col].quantile(0.75)\n",
    "    IQR  = percentile75 - percentile25 \n",
    "    upper_limit = percentile75 + 1.5 * IQR \n",
    "    lower_limit = percentile25 - 1.5 * IQR\n",
    "    dict['upper_limit'+ '_' + col] = upper_limit\n",
    "    dict['lower_limit'+ '_' + col] = lower_limit \n"
   ]
  },
  {
   "cell_type": "markdown",
   "id": "8398c26b",
   "metadata": {
    "papermill": {
     "duration": 0.041243,
     "end_time": "2022-06-20T14:46:49.510244",
     "exception": false,
     "start_time": "2022-06-20T14:46:49.469001",
     "status": "completed"
    },
    "tags": []
   },
   "source": [
    "In Above code cell i just created a dictionary to keep upper_limit and lower_limit of budget , revenue , runtime."
   ]
  },
  {
   "cell_type": "code",
   "execution_count": 157,
   "id": "4b8a2805",
   "metadata": {
    "execution": {
     "iopub.execute_input": "2022-06-20T14:46:49.594497Z",
     "iopub.status.busy": "2022-06-20T14:46:49.593569Z",
     "iopub.status.idle": "2022-06-20T14:46:49.601545Z",
     "shell.execute_reply": "2022-06-20T14:46:49.600361Z"
    },
    "papermill": {
     "duration": 0.052502,
     "end_time": "2022-06-20T14:46:49.603491",
     "exception": false,
     "start_time": "2022-06-20T14:46:49.550989",
     "status": "completed"
    },
    "tags": []
   },
   "outputs": [
    {
     "data": {
      "text/plain": [
       "{'upper_limit_budget': 121750000.0,\n",
       " 'lower_limit_budget': -56250000.0,\n",
       " 'upper_limit_revenue': 340489618.5,\n",
       " 'lower_limit_revenue': -176959149.5,\n",
       " 'upper_limit_runtime': 158.5,\n",
       " 'lower_limit_runtime': 58.5}"
      ]
     },
     "execution_count": 157,
     "metadata": {},
     "output_type": "execute_result"
    }
   ],
   "source": [
    "dict "
   ]
  },
  {
   "cell_type": "markdown",
   "id": "5cffe64a",
   "metadata": {
    "papermill": {
     "duration": 0.040989,
     "end_time": "2022-06-20T14:46:49.685059",
     "exception": false,
     "start_time": "2022-06-20T14:46:49.644070",
     "status": "completed"
    },
    "tags": []
   },
   "source": [
    "This scatter plot shows there is relationship exists between budget and revenue."
   ]
  },
  {
   "cell_type": "code",
   "execution_count": 158,
   "id": "29211a36",
   "metadata": {
    "execution": {
     "iopub.execute_input": "2022-06-20T14:46:49.768507Z",
     "iopub.status.busy": "2022-06-20T14:46:49.767784Z",
     "iopub.status.idle": "2022-06-20T14:46:49.778820Z",
     "shell.execute_reply": "2022-06-20T14:46:49.777551Z"
    },
    "papermill": {
     "duration": 0.055424,
     "end_time": "2022-06-20T14:46:49.781379",
     "exception": false,
     "start_time": "2022-06-20T14:46:49.725955",
     "status": "completed"
    },
    "tags": []
   },
   "outputs": [
    {
     "name": "stdout",
     "output_type": "stream",
     "text": [
      "There are total 0 movies data which budget are less than lower limit.\n",
      "There are total 216 movies data which budget are more than upper limit.\n",
      "There are total 0 movies data which revenue are less than lower limit.\n",
      "There are total 285 movies data which revenue are more than upper limit.\n",
      "There are total 2 movies data which runtime are less than lower limit.\n",
      "There are total 97 movies data which runtime are more than upper limit.\n"
     ]
    }
   ],
   "source": [
    "for col in ['budget' , 'revenue' , 'runtime']:\n",
    "    print('There are total {} movies data which {} are less than lower limit.'.format(len(df[df[col] < dict['lower_limit_' + col]] ) , col))\n",
    "    print('There are total {} movies data which {} are more than upper limit.'.format(len(df[df[col] > dict['upper_limit_' + col]] ) , col))"
   ]
  },
  {
   "cell_type": "code",
   "execution_count": 159,
   "id": "c4aca93e",
   "metadata": {
    "execution": {
     "iopub.execute_input": "2022-06-20T14:46:49.867441Z",
     "iopub.status.busy": "2022-06-20T14:46:49.866606Z",
     "iopub.status.idle": "2022-06-20T14:46:49.874406Z",
     "shell.execute_reply": "2022-06-20T14:46:49.873413Z"
    },
    "papermill": {
     "duration": 0.052444,
     "end_time": "2022-06-20T14:46:49.876490",
     "exception": false,
     "start_time": "2022-06-20T14:46:49.824046",
     "status": "completed"
    },
    "tags": []
   },
   "outputs": [
    {
     "data": {
      "text/plain": [
       "216"
      ]
     },
     "execution_count": 159,
     "metadata": {},
     "output_type": "execute_result"
    }
   ],
   "source": [
    "len(df[df['budget'] > dict['upper_limit_budget']])  "
   ]
  },
  {
   "cell_type": "markdown",
   "id": "ee4c5f48",
   "metadata": {
    "papermill": {
     "duration": 0.041039,
     "end_time": "2022-06-20T14:46:49.959397",
     "exception": false,
     "start_time": "2022-06-20T14:46:49.918358",
     "status": "completed"
    },
    "tags": []
   },
   "source": [
    "dict['upper_limit_' + col]  == df['upper_limit_budget']"
   ]
  },
  {
   "cell_type": "markdown",
   "id": "d46dd6d6",
   "metadata": {
    "papermill": {
     "duration": 0.040776,
     "end_time": "2022-06-20T14:46:50.044141",
     "exception": false,
     "start_time": "2022-06-20T14:46:50.003365",
     "status": "completed"
    },
    "tags": []
   },
   "source": [
    "### Capping Budget and Revenue with upper limit and lower limit."
   ]
  },
  {
   "cell_type": "markdown",
   "id": "9b49241b",
   "metadata": {
    "papermill": {
     "duration": 0.04091,
     "end_time": "2022-06-20T14:46:50.126516",
     "exception": false,
     "start_time": "2022-06-20T14:46:50.085606",
     "status": "completed"
    },
    "tags": []
   },
   "source": [
    "np.where(condtion,true,false)"
   ]
  },
  {
   "cell_type": "code",
   "execution_count": 160,
   "id": "33b59dfa",
   "metadata": {
    "execution": {
     "iopub.execute_input": "2022-06-20T14:46:50.210593Z",
     "iopub.status.busy": "2022-06-20T14:46:50.209603Z",
     "iopub.status.idle": "2022-06-20T14:46:50.219143Z",
     "shell.execute_reply": "2022-06-20T14:46:50.218275Z"
    },
    "papermill": {
     "duration": 0.054131,
     "end_time": "2022-06-20T14:46:50.221516",
     "exception": false,
     "start_time": "2022-06-20T14:46:50.167385",
     "status": "completed"
    },
    "tags": []
   },
   "outputs": [],
   "source": [
    "for col in ['budget' , 'revenue' , 'runtime']:\n",
    "    df[col] = np.where(\n",
    "        df[col] > dict['upper_limit_' + col],\n",
    "        dict['upper_limit_' + col],\n",
    "        np.where(\n",
    "            df[col] < dict['lower_limit_' + col],\n",
    "            dict['lower_limit_' + col],\n",
    "            df[col]  \n",
    "        )\n",
    "    )"
   ]
  },
  {
   "cell_type": "code",
   "execution_count": 161,
   "id": "134977df",
   "metadata": {
    "execution": {
     "iopub.execute_input": "2022-06-20T14:46:50.305466Z",
     "iopub.status.busy": "2022-06-20T14:46:50.304606Z",
     "iopub.status.idle": "2022-06-20T14:46:50.618819Z",
     "shell.execute_reply": "2022-06-20T14:46:50.617462Z"
    },
    "papermill": {
     "duration": 0.359891,
     "end_time": "2022-06-20T14:46:50.622243",
     "exception": false,
     "start_time": "2022-06-20T14:46:50.262352",
     "status": "completed"
    },
    "tags": []
   },
   "outputs": [
    {
     "data": {
      "text/plain": [
       "<AxesSubplot:title={'center':'runtime'}, xlabel='runtime'>"
      ]
     },
     "execution_count": 161,
     "metadata": {},
     "output_type": "execute_result"
    },
    {
     "data": {
      "image/png": "[encoded data removed]",
      "text/plain": [
       "<Figure size 720x360 with 3 Axes>"
      ]
     },
     "metadata": {
      "needs_background": "light"
     },
     "output_type": "display_data"
    }
   ],
   "source": [
    "plt.figure(figsize = (10,5)) \n",
    "plt.subplot(1 ,3,1)\n",
    "plt.title('Budget')\n",
    "sns.boxplot(df['budget'])  \n",
    "\n",
    "plt.subplot(1,3,2)\n",
    "plt.title('Revenue') \n",
    "sns.boxplot(df['revenue'])\n",
    "\n",
    "plt.subplot(1,3,3)\n",
    "plt.title('runtime') \n",
    "sns.boxplot(df['runtime'])"
   ]
  },
  {
   "cell_type": "markdown",
   "id": "aa90d06b",
   "metadata": {
    "papermill": {
     "duration": 0.04317,
     "end_time": "2022-06-20T14:46:50.710540",
     "exception": false,
     "start_time": "2022-06-20T14:46:50.667370",
     "status": "completed"
    },
    "tags": []
   },
   "source": [
    "Now you can see outliers are removed."
   ]
  },
  {
   "cell_type": "code",
   "execution_count": 162,
   "id": "85b51f9d",
   "metadata": {},
   "outputs": [],
   "source": [
    "for col in ['budget' , 'revenue' , 'runtime']:\n",
    "    df[col] = np.where(\n",
    "        df[col] > dict['upper_limit_' + col],\n",
    "        dict['upper_limit_' + col],\n",
    "        np.where(\n",
    "            df[col] < dict['lower_limit_' + col],\n",
    "            dict['lower_limit_' + col],\n",
    "            df[col]  \n",
    "        )\n",
    "    )"
   ]
  },
  {
   "cell_type": "code",
   "execution_count": 163,
   "id": "21815d60",
   "metadata": {
    "execution": {
     "iopub.execute_input": "2022-06-20T14:46:50.811189Z",
     "iopub.status.busy": "2022-06-20T14:46:50.810429Z",
     "iopub.status.idle": "2022-06-20T14:46:50.821004Z",
     "shell.execute_reply": "2022-06-20T14:46:50.819733Z"
    },
    "papermill": {
     "duration": 0.065654,
     "end_time": "2022-06-20T14:46:50.823448",
     "exception": false,
     "start_time": "2022-06-20T14:46:50.757794",
     "status": "completed"
    },
    "tags": []
   },
   "outputs": [],
   "source": [
    "df['log_budget'] = np.log1p(df['budget'])\n",
    "df['log_revenue'] = np.log1p(df['revenue'])"
   ]
  },
  {
   "cell_type": "markdown",
   "id": "bbc74009",
   "metadata": {
    "papermill": {
     "duration": 0.040403,
     "end_time": "2022-06-20T14:46:51.517838",
     "exception": false,
     "start_time": "2022-06-20T14:46:51.477435",
     "status": "completed"
    },
    "tags": []
   },
   "source": [
    "### Budget , revenue with original_language "
   ]
  },
  {
   "cell_type": "code",
   "execution_count": 164,
   "id": "e5f02510",
   "metadata": {
    "execution": {
     "iopub.execute_input": "2022-06-20T14:46:52.654993Z",
     "iopub.status.busy": "2022-06-20T14:46:52.654538Z",
     "iopub.status.idle": "2022-06-20T14:46:53.478938Z",
     "shell.execute_reply": "2022-06-20T14:46:53.477841Z"
    },
    "papermill": {
     "duration": 0.872696,
     "end_time": "2022-06-20T14:46:53.481476",
     "exception": false,
     "start_time": "2022-06-20T14:46:52.608780",
     "status": "completed"
    },
    "tags": []
   },
   "outputs": [
    {
     "data": {
      "text/html": [
       "<div>\n",
       "<style scoped>\n",
       "    .dataframe tbody tr th:only-of-type {\n",
       "        vertical-align: middle;\n",
       "    }\n",
       "\n",
       "    .dataframe tbody tr th {\n",
       "        vertical-align: top;\n",
       "    }\n",
       "\n",
       "    .dataframe thead th {\n",
       "        text-align: right;\n",
       "    }\n",
       "</style>\n",
       "<table border=\"1\" class=\"dataframe\">\n",
       "  <thead>\n",
       "    <tr style=\"text-align: right;\">\n",
       "      <th></th>\n",
       "      <th>0</th>\n",
       "      <th>1</th>\n",
       "      <th>2</th>\n",
       "      <th>3</th>\n",
       "      <th>4</th>\n",
       "      <th>5</th>\n",
       "      <th>6</th>\n",
       "    </tr>\n",
       "  </thead>\n",
       "  <tbody>\n",
       "    <tr>\n",
       "      <th>0</th>\n",
       "      <td>Action</td>\n",
       "      <td>Adventure</td>\n",
       "      <td>Fantasy</td>\n",
       "      <td>Science Fiction</td>\n",
       "      <td>NaN</td>\n",
       "      <td>NaN</td>\n",
       "      <td>NaN</td>\n",
       "    </tr>\n",
       "    <tr>\n",
       "      <th>1</th>\n",
       "      <td>Adventure</td>\n",
       "      <td>Fantasy</td>\n",
       "      <td>Action</td>\n",
       "      <td>NaN</td>\n",
       "      <td>NaN</td>\n",
       "      <td>NaN</td>\n",
       "      <td>NaN</td>\n",
       "    </tr>\n",
       "    <tr>\n",
       "      <th>2</th>\n",
       "      <td>Action</td>\n",
       "      <td>Adventure</td>\n",
       "      <td>Crime</td>\n",
       "      <td>NaN</td>\n",
       "      <td>NaN</td>\n",
       "      <td>NaN</td>\n",
       "      <td>NaN</td>\n",
       "    </tr>\n",
       "    <tr>\n",
       "      <th>3</th>\n",
       "      <td>Action</td>\n",
       "      <td>Crime</td>\n",
       "      <td>Drama</td>\n",
       "      <td>Thriller</td>\n",
       "      <td>NaN</td>\n",
       "      <td>NaN</td>\n",
       "      <td>NaN</td>\n",
       "    </tr>\n",
       "    <tr>\n",
       "      <th>4</th>\n",
       "      <td>Action</td>\n",
       "      <td>Adventure</td>\n",
       "      <td>Science Fiction</td>\n",
       "      <td>NaN</td>\n",
       "      <td>NaN</td>\n",
       "      <td>NaN</td>\n",
       "      <td>NaN</td>\n",
       "    </tr>\n",
       "  </tbody>\n",
       "</table>\n",
       "</div>"
      ],
      "text/plain": [
       "           0          1                2                3    4    5    6\n",
       "0     Action  Adventure          Fantasy  Science Fiction  NaN  NaN  NaN\n",
       "1  Adventure    Fantasy           Action              NaN  NaN  NaN  NaN\n",
       "2     Action  Adventure            Crime              NaN  NaN  NaN  NaN\n",
       "3     Action      Crime            Drama         Thriller  NaN  NaN  NaN\n",
       "4     Action  Adventure  Science Fiction              NaN  NaN  NaN  NaN"
      ]
     },
     "execution_count": 164,
     "metadata": {},
     "output_type": "execute_result"
    }
   ],
   "source": [
    "genres_df = df['genres'].apply(pd.Series)\n",
    "genres_df.head()"
   ]
  },
  {
   "cell_type": "markdown",
   "id": "b48b8307",
   "metadata": {
    "papermill": {
     "duration": 0.045098,
     "end_time": "2022-06-20T14:46:53.571652",
     "exception": false,
     "start_time": "2022-06-20T14:46:53.526554",
     "status": "completed"
    },
    "tags": []
   },
   "source": [
    "So now, we have N number of columns (number of distinct genres) for each movie, and non null columns represent each of the movies’ genres."
   ]
  },
  {
   "cell_type": "code",
   "execution_count": 165,
   "id": "f050e988",
   "metadata": {
    "execution": {
     "iopub.execute_input": "2022-06-20T14:46:53.663232Z",
     "iopub.status.busy": "2022-06-20T14:46:53.662691Z",
     "iopub.status.idle": "2022-06-20T14:46:53.676425Z",
     "shell.execute_reply": "2022-06-20T14:46:53.675483Z"
    },
    "papermill": {
     "duration": 0.062564,
     "end_time": "2022-06-20T14:46:53.678684",
     "exception": false,
     "start_time": "2022-06-20T14:46:53.616120",
     "status": "completed"
    },
    "tags": []
   },
   "outputs": [
    {
     "data": {
      "text/plain": [
       "0  0             Action\n",
       "   1          Adventure\n",
       "   2            Fantasy\n",
       "   3    Science Fiction\n",
       "1  0          Adventure\n",
       "   1            Fantasy\n",
       "   2             Action\n",
       "2  0             Action\n",
       "   1          Adventure\n",
       "   2              Crime\n",
       "dtype: object"
      ]
     },
     "execution_count": 165,
     "metadata": {},
     "output_type": "execute_result"
    }
   ],
   "source": [
    "stacked_genres = genres_df.stack()\n",
    "stacked_genres.head(10)"
   ]
  },
  {
   "cell_type": "markdown",
   "id": "cbfc0d16",
   "metadata": {
    "papermill": {
     "duration": 0.04429,
     "end_time": "2022-06-20T14:46:53.768923",
     "exception": false,
     "start_time": "2022-06-20T14:46:53.724633",
     "status": "completed"
    },
    "tags": []
   },
   "source": [
    "So we converted our cleaned list `[Action, Adventure\tFantasy ,Science Fiction]` to 4 rows, each represents only 1 particular genre. We are now ready to convert this to dummies!"
   ]
  },
  {
   "cell_type": "code",
   "execution_count": 166,
   "id": "bdfe81c4",
   "metadata": {
    "execution": {
     "iopub.execute_input": "2022-06-20T14:46:53.924617Z",
     "iopub.status.busy": "2022-06-20T14:46:53.923055Z",
     "iopub.status.idle": "2022-06-20T14:46:53.942404Z",
     "shell.execute_reply": "2022-06-20T14:46:53.941387Z"
    },
    "papermill": {
     "duration": 0.127332,
     "end_time": "2022-06-20T14:46:53.944461",
     "exception": false,
     "start_time": "2022-06-20T14:46:53.817129",
     "status": "completed"
    },
    "tags": []
   },
   "outputs": [
    {
     "data": {
      "text/html": [
       "<div>\n",
       "<style scoped>\n",
       "    .dataframe tbody tr th:only-of-type {\n",
       "        vertical-align: middle;\n",
       "    }\n",
       "\n",
       "    .dataframe tbody tr th {\n",
       "        vertical-align: top;\n",
       "    }\n",
       "\n",
       "    .dataframe thead th {\n",
       "        text-align: right;\n",
       "    }\n",
       "</style>\n",
       "<table border=\"1\" class=\"dataframe\">\n",
       "  <thead>\n",
       "    <tr style=\"text-align: right;\">\n",
       "      <th></th>\n",
       "      <th></th>\n",
       "      <th>Action</th>\n",
       "      <th>Adventure</th>\n",
       "      <th>Animation</th>\n",
       "      <th>Comedy</th>\n",
       "      <th>Crime</th>\n",
       "      <th>Documentary</th>\n",
       "      <th>Drama</th>\n",
       "      <th>Family</th>\n",
       "      <th>Fantasy</th>\n",
       "      <th>Foreign</th>\n",
       "      <th>History</th>\n",
       "      <th>Horror</th>\n",
       "      <th>Music</th>\n",
       "      <th>Mystery</th>\n",
       "      <th>Romance</th>\n",
       "      <th>Science Fiction</th>\n",
       "      <th>Thriller</th>\n",
       "      <th>War</th>\n",
       "      <th>Western</th>\n",
       "    </tr>\n",
       "  </thead>\n",
       "  <tbody>\n",
       "    <tr>\n",
       "      <th rowspan=\"4\" valign=\"top\">0</th>\n",
       "      <th>0</th>\n",
       "      <td>1</td>\n",
       "      <td>0</td>\n",
       "      <td>0</td>\n",
       "      <td>0</td>\n",
       "      <td>0</td>\n",
       "      <td>0</td>\n",
       "      <td>0</td>\n",
       "      <td>0</td>\n",
       "      <td>0</td>\n",
       "      <td>0</td>\n",
       "      <td>0</td>\n",
       "      <td>0</td>\n",
       "      <td>0</td>\n",
       "      <td>0</td>\n",
       "      <td>0</td>\n",
       "      <td>0</td>\n",
       "      <td>0</td>\n",
       "      <td>0</td>\n",
       "      <td>0</td>\n",
       "    </tr>\n",
       "    <tr>\n",
       "      <th>1</th>\n",
       "      <td>0</td>\n",
       "      <td>1</td>\n",
       "      <td>0</td>\n",
       "      <td>0</td>\n",
       "      <td>0</td>\n",
       "      <td>0</td>\n",
       "      <td>0</td>\n",
       "      <td>0</td>\n",
       "      <td>0</td>\n",
       "      <td>0</td>\n",
       "      <td>0</td>\n",
       "      <td>0</td>\n",
       "      <td>0</td>\n",
       "      <td>0</td>\n",
       "      <td>0</td>\n",
       "      <td>0</td>\n",
       "      <td>0</td>\n",
       "      <td>0</td>\n",
       "      <td>0</td>\n",
       "    </tr>\n",
       "    <tr>\n",
       "      <th>2</th>\n",
       "      <td>0</td>\n",
       "      <td>0</td>\n",
       "      <td>0</td>\n",
       "      <td>0</td>\n",
       "      <td>0</td>\n",
       "      <td>0</td>\n",
       "      <td>0</td>\n",
       "      <td>0</td>\n",
       "      <td>1</td>\n",
       "      <td>0</td>\n",
       "      <td>0</td>\n",
       "      <td>0</td>\n",
       "      <td>0</td>\n",
       "      <td>0</td>\n",
       "      <td>0</td>\n",
       "      <td>0</td>\n",
       "      <td>0</td>\n",
       "      <td>0</td>\n",
       "      <td>0</td>\n",
       "    </tr>\n",
       "    <tr>\n",
       "      <th>3</th>\n",
       "      <td>0</td>\n",
       "      <td>0</td>\n",
       "      <td>0</td>\n",
       "      <td>0</td>\n",
       "      <td>0</td>\n",
       "      <td>0</td>\n",
       "      <td>0</td>\n",
       "      <td>0</td>\n",
       "      <td>0</td>\n",
       "      <td>0</td>\n",
       "      <td>0</td>\n",
       "      <td>0</td>\n",
       "      <td>0</td>\n",
       "      <td>0</td>\n",
       "      <td>0</td>\n",
       "      <td>1</td>\n",
       "      <td>0</td>\n",
       "      <td>0</td>\n",
       "      <td>0</td>\n",
       "    </tr>\n",
       "    <tr>\n",
       "      <th>1</th>\n",
       "      <th>0</th>\n",
       "      <td>0</td>\n",
       "      <td>1</td>\n",
       "      <td>0</td>\n",
       "      <td>0</td>\n",
       "      <td>0</td>\n",
       "      <td>0</td>\n",
       "      <td>0</td>\n",
       "      <td>0</td>\n",
       "      <td>0</td>\n",
       "      <td>0</td>\n",
       "      <td>0</td>\n",
       "      <td>0</td>\n",
       "      <td>0</td>\n",
       "      <td>0</td>\n",
       "      <td>0</td>\n",
       "      <td>0</td>\n",
       "      <td>0</td>\n",
       "      <td>0</td>\n",
       "      <td>0</td>\n",
       "    </tr>\n",
       "  </tbody>\n",
       "</table>\n",
       "</div>"
      ],
      "text/plain": [
       "     Action  Adventure  Animation  Comedy  Crime  Documentary  Drama  Family  \\\n",
       "0 0       1          0          0       0      0            0      0       0   \n",
       "  1       0          1          0       0      0            0      0       0   \n",
       "  2       0          0          0       0      0            0      0       0   \n",
       "  3       0          0          0       0      0            0      0       0   \n",
       "1 0       0          1          0       0      0            0      0       0   \n",
       "\n",
       "     Fantasy  Foreign  History  Horror  Music  Mystery  Romance  \\\n",
       "0 0        0        0        0       0      0        0        0   \n",
       "  1        0        0        0       0      0        0        0   \n",
       "  2        1        0        0       0      0        0        0   \n",
       "  3        0        0        0       0      0        0        0   \n",
       "1 0        0        0        0       0      0        0        0   \n",
       "\n",
       "     Science Fiction  Thriller  War  Western  \n",
       "0 0                0         0    0        0  \n",
       "  1                0         0    0        0  \n",
       "  2                0         0    0        0  \n",
       "  3                1         0    0        0  \n",
       "1 0                0         0    0        0  "
      ]
     },
     "execution_count": 166,
     "metadata": {},
     "output_type": "execute_result"
    }
   ],
   "source": [
    "raw_dummies = pd.get_dummies(stacked_genres)\n",
    "raw_dummies.head()"
   ]
  },
  {
   "cell_type": "code",
   "execution_count": 167,
   "id": "645e38e6",
   "metadata": {
    "execution": {
     "iopub.execute_input": "2022-06-20T14:46:54.039472Z",
     "iopub.status.busy": "2022-06-20T14:46:54.038761Z",
     "iopub.status.idle": "2022-06-20T14:46:54.052584Z",
     "shell.execute_reply": "2022-06-20T14:46:54.051449Z"
    },
    "papermill": {
     "duration": 0.065528,
     "end_time": "2022-06-20T14:46:54.054830",
     "exception": false,
     "start_time": "2022-06-20T14:46:53.989302",
     "status": "completed"
    },
    "tags": []
   },
   "outputs": [
    {
     "data": {
      "text/html": [
       "<div>\n",
       "<style scoped>\n",
       "    .dataframe tbody tr th:only-of-type {\n",
       "        vertical-align: middle;\n",
       "    }\n",
       "\n",
       "    .dataframe tbody tr th {\n",
       "        vertical-align: top;\n",
       "    }\n",
       "\n",
       "    .dataframe thead th {\n",
       "        text-align: right;\n",
       "    }\n",
       "</style>\n",
       "<table border=\"1\" class=\"dataframe\">\n",
       "  <thead>\n",
       "    <tr style=\"text-align: right;\">\n",
       "      <th></th>\n",
       "      <th></th>\n",
       "      <th>Action</th>\n",
       "      <th>Adventure</th>\n",
       "      <th>Fantasy</th>\n",
       "      <th>Science Fiction</th>\n",
       "      <th>Comedy</th>\n",
       "    </tr>\n",
       "  </thead>\n",
       "  <tbody>\n",
       "    <tr>\n",
       "      <th rowspan=\"4\" valign=\"top\">0</th>\n",
       "      <th>0</th>\n",
       "      <td>1</td>\n",
       "      <td>0</td>\n",
       "      <td>0</td>\n",
       "      <td>0</td>\n",
       "      <td>0</td>\n",
       "    </tr>\n",
       "    <tr>\n",
       "      <th>1</th>\n",
       "      <td>0</td>\n",
       "      <td>1</td>\n",
       "      <td>0</td>\n",
       "      <td>0</td>\n",
       "      <td>0</td>\n",
       "    </tr>\n",
       "    <tr>\n",
       "      <th>2</th>\n",
       "      <td>0</td>\n",
       "      <td>0</td>\n",
       "      <td>1</td>\n",
       "      <td>0</td>\n",
       "      <td>0</td>\n",
       "    </tr>\n",
       "    <tr>\n",
       "      <th>3</th>\n",
       "      <td>0</td>\n",
       "      <td>0</td>\n",
       "      <td>0</td>\n",
       "      <td>1</td>\n",
       "      <td>0</td>\n",
       "    </tr>\n",
       "    <tr>\n",
       "      <th rowspan=\"3\" valign=\"top\">1</th>\n",
       "      <th>0</th>\n",
       "      <td>0</td>\n",
       "      <td>1</td>\n",
       "      <td>0</td>\n",
       "      <td>0</td>\n",
       "      <td>0</td>\n",
       "    </tr>\n",
       "    <tr>\n",
       "      <th>1</th>\n",
       "      <td>0</td>\n",
       "      <td>0</td>\n",
       "      <td>1</td>\n",
       "      <td>0</td>\n",
       "      <td>0</td>\n",
       "    </tr>\n",
       "    <tr>\n",
       "      <th>2</th>\n",
       "      <td>1</td>\n",
       "      <td>0</td>\n",
       "      <td>0</td>\n",
       "      <td>0</td>\n",
       "      <td>0</td>\n",
       "    </tr>\n",
       "    <tr>\n",
       "      <th rowspan=\"3\" valign=\"top\">2</th>\n",
       "      <th>0</th>\n",
       "      <td>1</td>\n",
       "      <td>0</td>\n",
       "      <td>0</td>\n",
       "      <td>0</td>\n",
       "      <td>0</td>\n",
       "    </tr>\n",
       "    <tr>\n",
       "      <th>1</th>\n",
       "      <td>0</td>\n",
       "      <td>1</td>\n",
       "      <td>0</td>\n",
       "      <td>0</td>\n",
       "      <td>0</td>\n",
       "    </tr>\n",
       "    <tr>\n",
       "      <th>2</th>\n",
       "      <td>0</td>\n",
       "      <td>0</td>\n",
       "      <td>0</td>\n",
       "      <td>0</td>\n",
       "      <td>0</td>\n",
       "    </tr>\n",
       "  </tbody>\n",
       "</table>\n",
       "</div>"
      ],
      "text/plain": [
       "     Action  Adventure  Fantasy  Science Fiction  Comedy\n",
       "0 0       1          0        0                0       0\n",
       "  1       0          1        0                0       0\n",
       "  2       0          0        1                0       0\n",
       "  3       0          0        0                1       0\n",
       "1 0       0          1        0                0       0\n",
       "  1       0          0        1                0       0\n",
       "  2       1          0        0                0       0\n",
       "2 0       1          0        0                0       0\n",
       "  1       0          1        0                0       0\n",
       "  2       0          0        0                0       0"
      ]
     },
     "execution_count": 167,
     "metadata": {},
     "output_type": "execute_result"
    }
   ],
   "source": [
    "raw_dummies[['Action' , 'Adventure'   , 'Fantasy' ,'Science Fiction' , 'Comedy']].head(10)"
   ]
  },
  {
   "cell_type": "markdown",
   "id": "7f99400e",
   "metadata": {
    "papermill": {
     "duration": 0.044805,
     "end_time": "2022-06-20T14:46:54.144505",
     "exception": false,
     "start_time": "2022-06-20T14:46:54.099700",
     "status": "completed"
    },
    "tags": []
   },
   "source": [
    "Here’s how the new DataFrame looks like, for simplicity I only selected a few columns. But in actual DataFrame, we have all the genres.\n",
    "\n",
    "And if you focus on the first 4 rows, you see that Action, Adventure    Fantasy ,Science Fiction columns are 1, and the rest are 0."
   ]
  },
  {
   "cell_type": "markdown",
   "id": "7491ccb0",
   "metadata": {
    "papermill": {
     "duration": 0.045645,
     "end_time": "2022-06-20T14:46:54.236325",
     "exception": false,
     "start_time": "2022-06-20T14:46:54.190680",
     "status": "completed"
    },
    "tags": []
   },
   "source": [
    "we need these dummy columns but we only need one row per movie. So how do we do that?\n",
    "\n",
    "We just aggregate the newly created DataFrame by summing on index level."
   ]
  },
  {
   "cell_type": "code",
   "execution_count": 168,
   "id": "c66f4031",
   "metadata": {
    "execution": {
     "iopub.execute_input": "2022-06-20T14:46:54.330637Z",
     "iopub.status.busy": "2022-06-20T14:46:54.329795Z",
     "iopub.status.idle": "2022-06-20T14:46:54.353310Z",
     "shell.execute_reply": "2022-06-20T14:46:54.352404Z"
    },
    "papermill": {
     "duration": 0.072599,
     "end_time": "2022-06-20T14:46:54.355321",
     "exception": false,
     "start_time": "2022-06-20T14:46:54.282722",
     "status": "completed"
    },
    "tags": []
   },
   "outputs": [
    {
     "data": {
      "text/html": [
       "<div>\n",
       "<style scoped>\n",
       "    .dataframe tbody tr th:only-of-type {\n",
       "        vertical-align: middle;\n",
       "    }\n",
       "\n",
       "    .dataframe tbody tr th {\n",
       "        vertical-align: top;\n",
       "    }\n",
       "\n",
       "    .dataframe thead th {\n",
       "        text-align: right;\n",
       "    }\n",
       "</style>\n",
       "<table border=\"1\" class=\"dataframe\">\n",
       "  <thead>\n",
       "    <tr style=\"text-align: right;\">\n",
       "      <th></th>\n",
       "      <th>Action</th>\n",
       "      <th>Adventure</th>\n",
       "      <th>Animation</th>\n",
       "      <th>Comedy</th>\n",
       "      <th>Crime</th>\n",
       "      <th>Documentary</th>\n",
       "      <th>Drama</th>\n",
       "      <th>Family</th>\n",
       "      <th>Fantasy</th>\n",
       "      <th>Foreign</th>\n",
       "      <th>History</th>\n",
       "      <th>Horror</th>\n",
       "      <th>Music</th>\n",
       "      <th>Mystery</th>\n",
       "      <th>Romance</th>\n",
       "      <th>Science Fiction</th>\n",
       "      <th>Thriller</th>\n",
       "      <th>War</th>\n",
       "      <th>Western</th>\n",
       "    </tr>\n",
       "  </thead>\n",
       "  <tbody>\n",
       "    <tr>\n",
       "      <th>0</th>\n",
       "      <td>1</td>\n",
       "      <td>1</td>\n",
       "      <td>0</td>\n",
       "      <td>0</td>\n",
       "      <td>0</td>\n",
       "      <td>0</td>\n",
       "      <td>0</td>\n",
       "      <td>0</td>\n",
       "      <td>1</td>\n",
       "      <td>0</td>\n",
       "      <td>0</td>\n",
       "      <td>0</td>\n",
       "      <td>0</td>\n",
       "      <td>0</td>\n",
       "      <td>0</td>\n",
       "      <td>1</td>\n",
       "      <td>0</td>\n",
       "      <td>0</td>\n",
       "      <td>0</td>\n",
       "    </tr>\n",
       "    <tr>\n",
       "      <th>1</th>\n",
       "      <td>1</td>\n",
       "      <td>1</td>\n",
       "      <td>0</td>\n",
       "      <td>0</td>\n",
       "      <td>0</td>\n",
       "      <td>0</td>\n",
       "      <td>0</td>\n",
       "      <td>0</td>\n",
       "      <td>1</td>\n",
       "      <td>0</td>\n",
       "      <td>0</td>\n",
       "      <td>0</td>\n",
       "      <td>0</td>\n",
       "      <td>0</td>\n",
       "      <td>0</td>\n",
       "      <td>0</td>\n",
       "      <td>0</td>\n",
       "      <td>0</td>\n",
       "      <td>0</td>\n",
       "    </tr>\n",
       "    <tr>\n",
       "      <th>2</th>\n",
       "      <td>1</td>\n",
       "      <td>1</td>\n",
       "      <td>0</td>\n",
       "      <td>0</td>\n",
       "      <td>1</td>\n",
       "      <td>0</td>\n",
       "      <td>0</td>\n",
       "      <td>0</td>\n",
       "      <td>0</td>\n",
       "      <td>0</td>\n",
       "      <td>0</td>\n",
       "      <td>0</td>\n",
       "      <td>0</td>\n",
       "      <td>0</td>\n",
       "      <td>0</td>\n",
       "      <td>0</td>\n",
       "      <td>0</td>\n",
       "      <td>0</td>\n",
       "      <td>0</td>\n",
       "    </tr>\n",
       "    <tr>\n",
       "      <th>3</th>\n",
       "      <td>1</td>\n",
       "      <td>0</td>\n",
       "      <td>0</td>\n",
       "      <td>0</td>\n",
       "      <td>1</td>\n",
       "      <td>0</td>\n",
       "      <td>1</td>\n",
       "      <td>0</td>\n",
       "      <td>0</td>\n",
       "      <td>0</td>\n",
       "      <td>0</td>\n",
       "      <td>0</td>\n",
       "      <td>0</td>\n",
       "      <td>0</td>\n",
       "      <td>0</td>\n",
       "      <td>0</td>\n",
       "      <td>1</td>\n",
       "      <td>0</td>\n",
       "      <td>0</td>\n",
       "    </tr>\n",
       "    <tr>\n",
       "      <th>4</th>\n",
       "      <td>1</td>\n",
       "      <td>1</td>\n",
       "      <td>0</td>\n",
       "      <td>0</td>\n",
       "      <td>0</td>\n",
       "      <td>0</td>\n",
       "      <td>0</td>\n",
       "      <td>0</td>\n",
       "      <td>0</td>\n",
       "      <td>0</td>\n",
       "      <td>0</td>\n",
       "      <td>0</td>\n",
       "      <td>0</td>\n",
       "      <td>0</td>\n",
       "      <td>0</td>\n",
       "      <td>1</td>\n",
       "      <td>0</td>\n",
       "      <td>0</td>\n",
       "      <td>0</td>\n",
       "    </tr>\n",
       "    <tr>\n",
       "      <th>5</th>\n",
       "      <td>1</td>\n",
       "      <td>1</td>\n",
       "      <td>0</td>\n",
       "      <td>0</td>\n",
       "      <td>0</td>\n",
       "      <td>0</td>\n",
       "      <td>0</td>\n",
       "      <td>0</td>\n",
       "      <td>1</td>\n",
       "      <td>0</td>\n",
       "      <td>0</td>\n",
       "      <td>0</td>\n",
       "      <td>0</td>\n",
       "      <td>0</td>\n",
       "      <td>0</td>\n",
       "      <td>0</td>\n",
       "      <td>0</td>\n",
       "      <td>0</td>\n",
       "      <td>0</td>\n",
       "    </tr>\n",
       "    <tr>\n",
       "      <th>6</th>\n",
       "      <td>0</td>\n",
       "      <td>0</td>\n",
       "      <td>1</td>\n",
       "      <td>0</td>\n",
       "      <td>0</td>\n",
       "      <td>0</td>\n",
       "      <td>0</td>\n",
       "      <td>1</td>\n",
       "      <td>0</td>\n",
       "      <td>0</td>\n",
       "      <td>0</td>\n",
       "      <td>0</td>\n",
       "      <td>0</td>\n",
       "      <td>0</td>\n",
       "      <td>0</td>\n",
       "      <td>0</td>\n",
       "      <td>0</td>\n",
       "      <td>0</td>\n",
       "      <td>0</td>\n",
       "    </tr>\n",
       "    <tr>\n",
       "      <th>7</th>\n",
       "      <td>1</td>\n",
       "      <td>1</td>\n",
       "      <td>0</td>\n",
       "      <td>0</td>\n",
       "      <td>0</td>\n",
       "      <td>0</td>\n",
       "      <td>0</td>\n",
       "      <td>0</td>\n",
       "      <td>0</td>\n",
       "      <td>0</td>\n",
       "      <td>0</td>\n",
       "      <td>0</td>\n",
       "      <td>0</td>\n",
       "      <td>0</td>\n",
       "      <td>0</td>\n",
       "      <td>1</td>\n",
       "      <td>0</td>\n",
       "      <td>0</td>\n",
       "      <td>0</td>\n",
       "    </tr>\n",
       "    <tr>\n",
       "      <th>8</th>\n",
       "      <td>0</td>\n",
       "      <td>1</td>\n",
       "      <td>0</td>\n",
       "      <td>0</td>\n",
       "      <td>0</td>\n",
       "      <td>0</td>\n",
       "      <td>0</td>\n",
       "      <td>1</td>\n",
       "      <td>1</td>\n",
       "      <td>0</td>\n",
       "      <td>0</td>\n",
       "      <td>0</td>\n",
       "      <td>0</td>\n",
       "      <td>0</td>\n",
       "      <td>0</td>\n",
       "      <td>0</td>\n",
       "      <td>0</td>\n",
       "      <td>0</td>\n",
       "      <td>0</td>\n",
       "    </tr>\n",
       "    <tr>\n",
       "      <th>9</th>\n",
       "      <td>1</td>\n",
       "      <td>1</td>\n",
       "      <td>0</td>\n",
       "      <td>0</td>\n",
       "      <td>0</td>\n",
       "      <td>0</td>\n",
       "      <td>0</td>\n",
       "      <td>0</td>\n",
       "      <td>1</td>\n",
       "      <td>0</td>\n",
       "      <td>0</td>\n",
       "      <td>0</td>\n",
       "      <td>0</td>\n",
       "      <td>0</td>\n",
       "      <td>0</td>\n",
       "      <td>0</td>\n",
       "      <td>0</td>\n",
       "      <td>0</td>\n",
       "      <td>0</td>\n",
       "    </tr>\n",
       "  </tbody>\n",
       "</table>\n",
       "</div>"
      ],
      "text/plain": [
       "   Action  Adventure  Animation  Comedy  Crime  Documentary  Drama  Family  \\\n",
       "0       1          1          0       0      0            0      0       0   \n",
       "1       1          1          0       0      0            0      0       0   \n",
       "2       1          1          0       0      1            0      0       0   \n",
       "3       1          0          0       0      1            0      1       0   \n",
       "4       1          1          0       0      0            0      0       0   \n",
       "5       1          1          0       0      0            0      0       0   \n",
       "6       0          0          1       0      0            0      0       1   \n",
       "7       1          1          0       0      0            0      0       0   \n",
       "8       0          1          0       0      0            0      0       1   \n",
       "9       1          1          0       0      0            0      0       0   \n",
       "\n",
       "   Fantasy  Foreign  History  Horror  Music  Mystery  Romance  \\\n",
       "0        1        0        0       0      0        0        0   \n",
       "1        1        0        0       0      0        0        0   \n",
       "2        0        0        0       0      0        0        0   \n",
       "3        0        0        0       0      0        0        0   \n",
       "4        0        0        0       0      0        0        0   \n",
       "5        1        0        0       0      0        0        0   \n",
       "6        0        0        0       0      0        0        0   \n",
       "7        0        0        0       0      0        0        0   \n",
       "8        1        0        0       0      0        0        0   \n",
       "9        1        0        0       0      0        0        0   \n",
       "\n",
       "   Science Fiction  Thriller  War  Western  \n",
       "0                1         0    0        0  \n",
       "1                0         0    0        0  \n",
       "2                0         0    0        0  \n",
       "3                0         1    0        0  \n",
       "4                1         0    0        0  \n",
       "5                0         0    0        0  \n",
       "6                0         0    0        0  \n",
       "7                1         0    0        0  \n",
       "8                0         0    0        0  \n",
       "9                0         0    0        0  "
      ]
     },
     "execution_count": 168,
     "metadata": {},
     "output_type": "execute_result"
    }
   ],
   "source": [
    "genre_dummies = raw_dummies.sum(level=0)\n",
    "genre_dummies.head(10)"
   ]
  },
  {
   "cell_type": "code",
   "execution_count": 169,
   "id": "1ac81236",
   "metadata": {
    "execution": {
     "iopub.execute_input": "2022-06-20T14:46:54.448942Z",
     "iopub.status.busy": "2022-06-20T14:46:54.448313Z",
     "iopub.status.idle": "2022-06-20T14:46:54.453518Z",
     "shell.execute_reply": "2022-06-20T14:46:54.452548Z"
    },
    "papermill": {
     "duration": 0.054472,
     "end_time": "2022-06-20T14:46:54.455426",
     "exception": false,
     "start_time": "2022-06-20T14:46:54.400954",
     "status": "completed"
    },
    "tags": []
   },
   "outputs": [
    {
     "name": "stdout",
     "output_type": "stream",
     "text": [
      "Number of unique genres: 19 \n",
      "Genres: ['Action', 'Adventure', 'Animation', 'Comedy', 'Crime', 'Documentary', 'Drama', 'Family', 'Fantasy', 'Foreign', 'History', 'Horror', 'Music', 'Mystery', 'Romance', 'Science Fiction', 'Thriller', 'War', 'Western']\n"
     ]
    }
   ],
   "source": [
    "unique_genres = genre_dummies.columns.tolist()\n",
    "print('Number of unique genres: {} \\nGenres: {}'.format(len(unique_genres) ,unique_genres ))"
   ]
  },
  {
   "cell_type": "code",
   "execution_count": 170,
   "id": "df52fddd",
   "metadata": {
    "execution": {
     "iopub.execute_input": "2022-06-20T14:46:54.550150Z",
     "iopub.status.busy": "2022-06-20T14:46:54.548816Z",
     "iopub.status.idle": "2022-06-20T14:46:55.685492Z",
     "shell.execute_reply": "2022-06-20T14:46:55.684423Z"
    },
    "papermill": {
     "duration": 1.186258,
     "end_time": "2022-06-20T14:46:55.687826",
     "exception": false,
     "start_time": "2022-06-20T14:46:54.501568",
     "status": "completed"
    },
    "tags": []
   },
   "outputs": [
    {
     "data": {
      "application/vnd.plotly.v1+json": {
       "config": {
        "plotlyServerURL": "https://plot.ly"
       },
       "data": [
        {
         "alignmentgroup": "True",
         "hovertemplate": "genres=%{y}<br>count=%{x}<extra></extra>",
         "legendgroup": "Drama",
         "marker": {
          "color": "#636efa",
          "pattern": {
           "shape": ""
          }
         },
         "name": "Drama",
         "offsetgroup": "Drama",
         "orientation": "h",
         "showlegend": true,
         "textposition": "auto",
         "type": "bar",
         "x": [
          1442
         ],
         "xaxis": "x",
         "y": [
          "Drama"
         ],
         "yaxis": "y"
        },
        {
         "alignmentgroup": "True",
         "hovertemplate": "genres=%{y}<br>count=%{x}<extra></extra>",
         "legendgroup": "Comedy",
         "marker": {
          "color": "#EF553B",
          "pattern": {
           "shape": ""
          }
         },
         "name": "Comedy",
         "offsetgroup": "Comedy",
         "orientation": "h",
         "showlegend": true,
         "textposition": "auto",
         "type": "bar",
         "x": [
          1110
         ],
         "xaxis": "x",
         "y": [
          "Comedy"
         ],
         "yaxis": "y"
        },
        {
         "alignmentgroup": "True",
         "hovertemplate": "genres=%{y}<br>count=%{x}<extra></extra>",
         "legendgroup": "Thriller",
         "marker": {
          "color": "#00cc96",
          "pattern": {
           "shape": ""
          }
         },
         "name": "Thriller",
         "offsetgroup": "Thriller",
         "orientation": "h",
         "showlegend": true,
         "textposition": "auto",
         "type": "bar",
         "x": [
          936
         ],
         "xaxis": "x",
         "y": [
          "Thriller"
         ],
         "yaxis": "y"
        },
        {
         "alignmentgroup": "True",
         "hovertemplate": "genres=%{y}<br>count=%{x}<extra></extra>",
         "legendgroup": "Action",
         "marker": {
          "color": "#ab63fa",
          "pattern": {
           "shape": ""
          }
         },
         "name": "Action",
         "offsetgroup": "Action",
         "orientation": "h",
         "showlegend": true,
         "textposition": "auto",
         "type": "bar",
         "x": [
          920
         ],
         "xaxis": "x",
         "y": [
          "Action"
         ],
         "yaxis": "y"
        },
        {
         "alignmentgroup": "True",
         "hovertemplate": "genres=%{y}<br>count=%{x}<extra></extra>",
         "legendgroup": "Adventure",
         "marker": {
          "color": "#FFA15A",
          "pattern": {
           "shape": ""
          }
         },
         "name": "Adventure",
         "offsetgroup": "Adventure",
         "orientation": "h",
         "showlegend": true,
         "textposition": "auto",
         "type": "bar",
         "x": [
          662
         ],
         "xaxis": "x",
         "y": [
          "Adventure"
         ],
         "yaxis": "y"
        },
        {
         "alignmentgroup": "True",
         "hovertemplate": "genres=%{y}<br>count=%{x}<extra></extra>",
         "legendgroup": "Romance",
         "marker": {
          "color": "#19d3f3",
          "pattern": {
           "shape": ""
          }
         },
         "name": "Romance",
         "offsetgroup": "Romance",
         "orientation": "h",
         "showlegend": true,
         "textposition": "auto",
         "type": "bar",
         "x": [
          575
         ],
         "xaxis": "x",
         "y": [
          "Romance"
         ],
         "yaxis": "y"
        },
        {
         "alignmentgroup": "True",
         "hovertemplate": "genres=%{y}<br>count=%{x}<extra></extra>",
         "legendgroup": "Crime",
         "marker": {
          "color": "#FF6692",
          "pattern": {
           "shape": ""
          }
         },
         "name": "Crime",
         "offsetgroup": "Crime",
         "orientation": "h",
         "showlegend": true,
         "textposition": "auto",
         "type": "bar",
         "x": [
          521
         ],
         "xaxis": "x",
         "y": [
          "Crime"
         ],
         "yaxis": "y"
        },
        {
         "alignmentgroup": "True",
         "hovertemplate": "genres=%{y}<br>count=%{x}<extra></extra>",
         "legendgroup": "Science Fiction",
         "marker": {
          "color": "#B6E880",
          "pattern": {
           "shape": ""
          }
         },
         "name": "Science Fiction",
         "offsetgroup": "Science Fiction",
         "orientation": "h",
         "showlegend": true,
         "textposition": "auto",
         "type": "bar",
         "x": [
          433
         ],
         "xaxis": "x",
         "y": [
          "Science Fiction"
         ],
         "yaxis": "y"
        },
        {
         "alignmentgroup": "True",
         "hovertemplate": "genres=%{y}<br>count=%{x}<extra></extra>",
         "legendgroup": "Family",
         "marker": {
          "color": "#FF97FF",
          "pattern": {
           "shape": ""
          }
         },
         "name": "Family",
         "offsetgroup": "Family",
         "orientation": "h",
         "showlegend": true,
         "textposition": "auto",
         "type": "bar",
         "x": [
          364
         ],
         "xaxis": "x",
         "y": [
          "Family"
         ],
         "yaxis": "y"
        },
        {
         "alignmentgroup": "True",
         "hovertemplate": "genres=%{y}<br>count=%{x}<extra></extra>",
         "legendgroup": "Fantasy",
         "marker": {
          "color": "#FECB52",
          "pattern": {
           "shape": ""
          }
         },
         "name": "Fantasy",
         "offsetgroup": "Fantasy",
         "orientation": "h",
         "showlegend": true,
         "textposition": "auto",
         "type": "bar",
         "x": [
          343
         ],
         "xaxis": "x",
         "y": [
          "Fantasy"
         ],
         "yaxis": "y"
        },
        {
         "alignmentgroup": "True",
         "hovertemplate": "genres=%{y}<br>count=%{x}<extra></extra>",
         "legendgroup": "Horror",
         "marker": {
          "color": "#636efa",
          "pattern": {
           "shape": ""
          }
         },
         "name": "Horror",
         "offsetgroup": "Horror",
         "orientation": "h",
         "showlegend": true,
         "textposition": "auto",
         "type": "bar",
         "x": [
          333
         ],
         "xaxis": "x",
         "y": [
          "Horror"
         ],
         "yaxis": "y"
        },
        {
         "alignmentgroup": "True",
         "hovertemplate": "genres=%{y}<br>count=%{x}<extra></extra>",
         "legendgroup": "Mystery",
         "marker": {
          "color": "#EF553B",
          "pattern": {
           "shape": ""
          }
         },
         "name": "Mystery",
         "offsetgroup": "Mystery",
         "orientation": "h",
         "showlegend": true,
         "textposition": "auto",
         "type": "bar",
         "x": [
          265
         ],
         "xaxis": "x",
         "y": [
          "Mystery"
         ],
         "yaxis": "y"
        },
        {
         "alignmentgroup": "True",
         "hovertemplate": "genres=%{y}<br>count=%{x}<extra></extra>",
         "legendgroup": "Animation",
         "marker": {
          "color": "#00cc96",
          "pattern": {
           "shape": ""
          }
         },
         "name": "Animation",
         "offsetgroup": "Animation",
         "orientation": "h",
         "showlegend": true,
         "textposition": "auto",
         "type": "bar",
         "x": [
          187
         ],
         "xaxis": "x",
         "y": [
          "Animation"
         ],
         "yaxis": "y"
        },
        {
         "alignmentgroup": "True",
         "hovertemplate": "genres=%{y}<br>count=%{x}<extra></extra>",
         "legendgroup": "History",
         "marker": {
          "color": "#ab63fa",
          "pattern": {
           "shape": ""
          }
         },
         "name": "History",
         "offsetgroup": "History",
         "orientation": "h",
         "showlegend": true,
         "textposition": "auto",
         "type": "bar",
         "x": [
          145
         ],
         "xaxis": "x",
         "y": [
          "History"
         ],
         "yaxis": "y"
        },
        {
         "alignmentgroup": "True",
         "hovertemplate": "genres=%{y}<br>count=%{x}<extra></extra>",
         "legendgroup": "War",
         "marker": {
          "color": "#FFA15A",
          "pattern": {
           "shape": ""
          }
         },
         "name": "War",
         "offsetgroup": "War",
         "orientation": "h",
         "showlegend": true,
         "textposition": "auto",
         "type": "bar",
         "x": [
          120
         ],
         "xaxis": "x",
         "y": [
          "War"
         ],
         "yaxis": "y"
        },
        {
         "alignmentgroup": "True",
         "hovertemplate": "genres=%{y}<br>count=%{x}<extra></extra>",
         "legendgroup": "Music",
         "marker": {
          "color": "#19d3f3",
          "pattern": {
           "shape": ""
          }
         },
         "name": "Music",
         "offsetgroup": "Music",
         "orientation": "h",
         "showlegend": true,
         "textposition": "auto",
         "type": "bar",
         "x": [
          111
         ],
         "xaxis": "x",
         "y": [
          "Music"
         ],
         "yaxis": "y"
        },
        {
         "alignmentgroup": "True",
         "hovertemplate": "genres=%{y}<br>count=%{x}<extra></extra>",
         "legendgroup": "Western",
         "marker": {
          "color": "#FF6692",
          "pattern": {
           "shape": ""
          }
         },
         "name": "Western",
         "offsetgroup": "Western",
         "orientation": "h",
         "showlegend": true,
         "textposition": "auto",
         "type": "bar",
         "x": [
          57
         ],
         "xaxis": "x",
         "y": [
          "Western"
         ],
         "yaxis": "y"
        },
        {
         "alignmentgroup": "True",
         "hovertemplate": "genres=%{y}<br>count=%{x}<extra></extra>",
         "legendgroup": "Documentary",
         "marker": {
          "color": "#B6E880",
          "pattern": {
           "shape": ""
          }
         },
         "name": "Documentary",
         "offsetgroup": "Documentary",
         "orientation": "h",
         "showlegend": true,
         "textposition": "auto",
         "type": "bar",
         "x": [
          38
         ],
         "xaxis": "x",
         "y": [
          "Documentary"
         ],
         "yaxis": "y"
        },
        {
         "alignmentgroup": "True",
         "hovertemplate": "genres=%{y}<br>count=%{x}<extra></extra>",
         "legendgroup": "Foreign",
         "marker": {
          "color": "#FF97FF",
          "pattern": {
           "shape": ""
          }
         },
         "name": "Foreign",
         "offsetgroup": "Foreign",
         "orientation": "h",
         "showlegend": true,
         "textposition": "auto",
         "type": "bar",
         "x": [
          4
         ],
         "xaxis": "x",
         "y": [
          "Foreign"
         ],
         "yaxis": "y"
        }
       ],
       "layout": {
        "barmode": "relative",
        "legend": {
         "title": {
          "text": "genres"
         },
         "tracegroupgap": 0
        },
        "margin": {
         "t": 60
        },
        "template": {
         "data": {
          "bar": [
           {
            "error_x": {
             "color": "#2a3f5f"
            },
            "error_y": {
             "color": "#2a3f5f"
            },
            "marker": {
             "line": {
              "color": "#E5ECF6",
              "width": 0.5
             },
             "pattern": {
              "fillmode": "overlay",
              "size": 10,
              "solidity": 0.2
             }
            },
            "type": "bar"
           }
          ],
          "barpolar": [
           {
            "marker": {
             "line": {
              "color": "#E5ECF6",
              "width": 0.5
             },
             "pattern": {
              "fillmode": "overlay",
              "size": 10,
              "solidity": 0.2
             }
            },
            "type": "barpolar"
           }
          ],
          "carpet": [
           {
            "aaxis": {
             "endlinecolor": "#2a3f5f",
             "gridcolor": "white",
             "linecolor": "white",
             "minorgridcolor": "white",
             "startlinecolor": "#2a3f5f"
            },
            "baxis": {
             "endlinecolor": "#2a3f5f",
             "gridcolor": "white",
             "linecolor": "white",
             "minorgridcolor": "white",
             "startlinecolor": "#2a3f5f"
            },
            "type": "carpet"
           }
          ],
          "choropleth": [
           {
            "colorbar": {
             "outlinewidth": 0,
             "ticks": ""
            },
            "type": "choropleth"
           }
          ],
          "contour": [
           {
            "colorbar": {
             "outlinewidth": 0,
             "ticks": ""
            },
            "colorscale": [
             [
              0,
              "#0d0887"
             ],
             [
              0.1111111111111111,
              "#46039f"
             ],
             [
              0.2222222222222222,
              "#7201a8"
             ],
             [
              0.3333333333333333,
              "#9c179e"
             ],
             [
              0.4444444444444444,
              "#bd3786"
             ],
             [
              0.5555555555555556,
              "#d8576b"
             ],
             [
              0.6666666666666666,
              "#ed7953"
             ],
             [
              0.7777777777777778,
              "#fb9f3a"
             ],
             [
              0.8888888888888888,
              "#fdca26"
             ],
             [
              1,
              "#f0f921"
             ]
            ],
            "type": "contour"
           }
          ],
          "contourcarpet": [
           {
            "colorbar": {
             "outlinewidth": 0,
             "ticks": ""
            },
            "type": "contourcarpet"
           }
          ],
          "heatmap": [
           {
            "colorbar": {
             "outlinewidth": 0,
             "ticks": ""
            },
            "colorscale": [
             [
              0,
              "#0d0887"
             ],
             [
              0.1111111111111111,
              "#46039f"
             ],
             [
              0.2222222222222222,
              "#7201a8"
             ],
             [
              0.3333333333333333,
              "#9c179e"
             ],
             [
              0.4444444444444444,
              "#bd3786"
             ],
             [
              0.5555555555555556,
              "#d8576b"
             ],
             [
              0.6666666666666666,
              "#ed7953"
             ],
             [
              0.7777777777777778,
              "#fb9f3a"
             ],
             [
              0.8888888888888888,
              "#fdca26"
             ],
             [
              1,
              "#f0f921"
             ]
            ],
            "type": "heatmap"
           }
          ],
          "heatmapgl": [
           {
            "colorbar": {
             "outlinewidth": 0,
             "ticks": ""
            },
            "colorscale": [
             [
              0,
              "#0d0887"
             ],
             [
              0.1111111111111111,
              "#46039f"
             ],
             [
              0.2222222222222222,
              "#7201a8"
             ],
             [
              0.3333333333333333,
              "#9c179e"
             ],
             [
              0.4444444444444444,
              "#bd3786"
             ],
             [
              0.5555555555555556,
              "#d8576b"
             ],
             [
              0.6666666666666666,
              "#ed7953"
             ],
             [
              0.7777777777777778,
              "#fb9f3a"
             ],
             [
              0.8888888888888888,
              "#fdca26"
             ],
             [
              1,
              "#f0f921"
             ]
            ],
            "type": "heatmapgl"
           }
          ],
          "histogram": [
           {
            "marker": {
             "pattern": {
              "fillmode": "overlay",
              "size": 10,
              "solidity": 0.2
             }
            },
            "type": "histogram"
           }
          ],
          "histogram2d": [
           {
            "colorbar": {
             "outlinewidth": 0,
             "ticks": ""
            },
            "colorscale": [
             [
              0,
              "#0d0887"
             ],
             [
              0.1111111111111111,
              "#46039f"
             ],
             [
              0.2222222222222222,
              "#7201a8"
             ],
             [
              0.3333333333333333,
              "#9c179e"
             ],
             [
              0.4444444444444444,
              "#bd3786"
             ],
             [
              0.5555555555555556,
              "#d8576b"
             ],
             [
              0.6666666666666666,
              "#ed7953"
             ],
             [
              0.7777777777777778,
              "#fb9f3a"
             ],
             [
              0.8888888888888888,
              "#fdca26"
             ],
             [
              1,
              "#f0f921"
             ]
            ],
            "type": "histogram2d"
           }
          ],
          "histogram2dcontour": [
           {
            "colorbar": {
             "outlinewidth": 0,
             "ticks": ""
            },
            "colorscale": [
             [
              0,
              "#0d0887"
             ],
             [
              0.1111111111111111,
              "#46039f"
             ],
             [
              0.2222222222222222,
              "#7201a8"
             ],
             [
              0.3333333333333333,
              "#9c179e"
             ],
             [
              0.4444444444444444,
              "#bd3786"
             ],
             [
              0.5555555555555556,
              "#d8576b"
             ],
             [
              0.6666666666666666,
              "#ed7953"
             ],
             [
              0.7777777777777778,
              "#fb9f3a"
             ],
             [
              0.8888888888888888,
              "#fdca26"
             ],
             [
              1,
              "#f0f921"
             ]
            ],
            "type": "histogram2dcontour"
           }
          ],
          "mesh3d": [
           {
            "colorbar": {
             "outlinewidth": 0,
             "ticks": ""
            },
            "type": "mesh3d"
           }
          ],
          "parcoords": [
           {
            "line": {
             "colorbar": {
              "outlinewidth": 0,
              "ticks": ""
             }
            },
            "type": "parcoords"
           }
          ],
          "pie": [
           {
            "automargin": true,
            "type": "pie"
           }
          ],
          "scatter": [
           {
            "marker": {
             "colorbar": {
              "outlinewidth": 0,
              "ticks": ""
             }
            },
            "type": "scatter"
           }
          ],
          "scatter3d": [
           {
            "line": {
             "colorbar": {
              "outlinewidth": 0,
              "ticks": ""
             }
            },
            "marker": {
             "colorbar": {
              "outlinewidth": 0,
              "ticks": ""
             }
            },
            "type": "scatter3d"
           }
          ],
          "scattercarpet": [
           {
            "marker": {
             "colorbar": {
              "outlinewidth": 0,
              "ticks": ""
             }
            },
            "type": "scattercarpet"
           }
          ],
          "scattergeo": [
           {
            "marker": {
             "colorbar": {
              "outlinewidth": 0,
              "ticks": ""
             }
            },
            "type": "scattergeo"
           }
          ],
          "scattergl": [
           {
            "marker": {
             "colorbar": {
              "outlinewidth": 0,
              "ticks": ""
             }
            },
            "type": "scattergl"
           }
          ],
          "scattermapbox": [
           {
            "marker": {
             "colorbar": {
              "outlinewidth": 0,
              "ticks": ""
             }
            },
            "type": "scattermapbox"
           }
          ],
          "scatterpolar": [
           {
            "marker": {
             "colorbar": {
              "outlinewidth": 0,
              "ticks": ""
             }
            },
            "type": "scatterpolar"
           }
          ],
          "scatterpolargl": [
           {
            "marker": {
             "colorbar": {
              "outlinewidth": 0,
              "ticks": ""
             }
            },
            "type": "scatterpolargl"
           }
          ],
          "scatterternary": [
           {
            "marker": {
             "colorbar": {
              "outlinewidth": 0,
              "ticks": ""
             }
            },
            "type": "scatterternary"
           }
          ],
          "surface": [
           {
            "colorbar": {
             "outlinewidth": 0,
             "ticks": ""
            },
            "colorscale": [
             [
              0,
              "#0d0887"
             ],
             [
              0.1111111111111111,
              "#46039f"
             ],
             [
              0.2222222222222222,
              "#7201a8"
             ],
             [
              0.3333333333333333,
              "#9c179e"
             ],
             [
              0.4444444444444444,
              "#bd3786"
             ],
             [
              0.5555555555555556,
              "#d8576b"
             ],
             [
              0.6666666666666666,
              "#ed7953"
             ],
             [
              0.7777777777777778,
              "#fb9f3a"
             ],
             [
              0.8888888888888888,
              "#fdca26"
             ],
             [
              1,
              "#f0f921"
             ]
            ],
            "type": "surface"
           }
          ],
          "table": [
           {
            "cells": {
             "fill": {
              "color": "#EBF0F8"
             },
             "line": {
              "color": "white"
             }
            },
            "header": {
             "fill": {
              "color": "#C8D4E3"
             },
             "line": {
              "color": "white"
             }
            },
            "type": "table"
           }
          ]
         },
         "layout": {
          "annotationdefaults": {
           "arrowcolor": "#2a3f5f",
           "arrowhead": 0,
           "arrowwidth": 1
          },
          "autotypenumbers": "strict",
          "coloraxis": {
           "colorbar": {
            "outlinewidth": 0,
            "ticks": ""
           }
          },
          "colorscale": {
           "diverging": [
            [
             0,
             "#8e0152"
            ],
            [
             0.1,
             "#c51b7d"
            ],
            [
             0.2,
             "#de77ae"
            ],
            [
             0.3,
             "#f1b6da"
            ],
            [
             0.4,
             "#fde0ef"
            ],
            [
             0.5,
             "#f7f7f7"
            ],
            [
             0.6,
             "#e6f5d0"
            ],
            [
             0.7,
             "#b8e186"
            ],
            [
             0.8,
             "#7fbc41"
            ],
            [
             0.9,
             "#4d9221"
            ],
            [
             1,
             "#276419"
            ]
           ],
           "sequential": [
            [
             0,
             "#0d0887"
            ],
            [
             0.1111111111111111,
             "#46039f"
            ],
            [
             0.2222222222222222,
             "#7201a8"
            ],
            [
             0.3333333333333333,
             "#9c179e"
            ],
            [
             0.4444444444444444,
             "#bd3786"
            ],
            [
             0.5555555555555556,
             "#d8576b"
            ],
            [
             0.6666666666666666,
             "#ed7953"
            ],
            [
             0.7777777777777778,
             "#fb9f3a"
            ],
            [
             0.8888888888888888,
             "#fdca26"
            ],
            [
             1,
             "#f0f921"
            ]
           ],
           "sequentialminus": [
            [
             0,
             "#0d0887"
            ],
            [
             0.1111111111111111,
             "#46039f"
            ],
            [
             0.2222222222222222,
             "#7201a8"
            ],
            [
             0.3333333333333333,
             "#9c179e"
            ],
            [
             0.4444444444444444,
             "#bd3786"
            ],
            [
             0.5555555555555556,
             "#d8576b"
            ],
            [
             0.6666666666666666,
             "#ed7953"
            ],
            [
             0.7777777777777778,
             "#fb9f3a"
            ],
            [
             0.8888888888888888,
             "#fdca26"
            ],
            [
             1,
             "#f0f921"
            ]
           ]
          },
          "colorway": [
           "#636efa",
           "#EF553B",
           "#00cc96",
           "#ab63fa",
           "#FFA15A",
           "#19d3f3",
           "#FF6692",
           "#B6E880",
           "#FF97FF",
           "#FECB52"
          ],
          "font": {
           "color": "#2a3f5f"
          },
          "geo": {
           "bgcolor": "white",
           "lakecolor": "white",
           "landcolor": "#E5ECF6",
           "showlakes": true,
           "showland": true,
           "subunitcolor": "white"
          },
          "hoverlabel": {
           "align": "left"
          },
          "hovermode": "closest",
          "mapbox": {
           "style": "light"
          },
          "paper_bgcolor": "white",
          "plot_bgcolor": "#E5ECF6",
          "polar": {
           "angularaxis": {
            "gridcolor": "white",
            "linecolor": "white",
            "ticks": ""
           },
           "bgcolor": "#E5ECF6",
           "radialaxis": {
            "gridcolor": "white",
            "linecolor": "white",
            "ticks": ""
           }
          },
          "scene": {
           "xaxis": {
            "backgroundcolor": "#E5ECF6",
            "gridcolor": "white",
            "gridwidth": 2,
            "linecolor": "white",
            "showbackground": true,
            "ticks": "",
            "zerolinecolor": "white"
           },
           "yaxis": {
            "backgroundcolor": "#E5ECF6",
            "gridcolor": "white",
            "gridwidth": 2,
            "linecolor": "white",
            "showbackground": true,
            "ticks": "",
            "zerolinecolor": "white"
           },
           "zaxis": {
            "backgroundcolor": "#E5ECF6",
            "gridcolor": "white",
            "gridwidth": 2,
            "linecolor": "white",
            "showbackground": true,
            "ticks": "",
            "zerolinecolor": "white"
           }
          },
          "shapedefaults": {
           "line": {
            "color": "#2a3f5f"
           }
          },
          "ternary": {
           "aaxis": {
            "gridcolor": "white",
            "linecolor": "white",
            "ticks": ""
           },
           "baxis": {
            "gridcolor": "white",
            "linecolor": "white",
            "ticks": ""
           },
           "bgcolor": "#E5ECF6",
           "caxis": {
            "gridcolor": "white",
            "linecolor": "white",
            "ticks": ""
           }
          },
          "title": {
           "x": 0.05
          },
          "xaxis": {
           "automargin": true,
           "gridcolor": "white",
           "linecolor": "white",
           "ticks": "",
           "title": {
            "standoff": 15
           },
           "zerolinecolor": "white",
           "zerolinewidth": 2
          },
          "yaxis": {
           "automargin": true,
           "gridcolor": "white",
           "linecolor": "white",
           "ticks": "",
           "title": {
            "standoff": 15
           },
           "zerolinecolor": "white",
           "zerolinewidth": 2
          }
         }
        },
        "xaxis": {
         "anchor": "y",
         "domain": [
          0,
          1
         ],
         "title": {
          "text": "count"
         }
        },
        "yaxis": {
         "anchor": "x",
         "categoryarray": [
          "Foreign",
          "Documentary",
          "Western",
          "Music",
          "War",
          "History",
          "Animation",
          "Mystery",
          "Horror",
          "Fantasy",
          "Family",
          "Science Fiction",
          "Crime",
          "Romance",
          "Adventure",
          "Action",
          "Thriller",
          "Comedy",
          "Drama"
         ],
         "categoryorder": "array",
         "domain": [
          0,
          1
         ],
         "title": {
          "text": "genres"
         }
        }
       }
      },
      "text/html": [
       "<div>                            <div id=\"35b4ade2-e558-4bba-966b-227451a1fd86\" class=\"plotly-graph-div\" style=\"height:525px; width:100%;\"></div>            <script type=\"text/javascript\">                require([\"plotly\"], function(Plotly) {                    window.PLOTLYENV=window.PLOTLYENV || {};                                    if (document.getElementById(\"35b4ade2-e558-4bba-966b-227451a1fd86\")) {                    Plotly.newPlot(                        \"35b4ade2-e558-4bba-966b-227451a1fd86\",                        [{\"alignmentgroup\":\"True\",\"hovertemplate\":\"genres=%{y}<br>count=%{x}<extra></extra>\",\"legendgroup\":\"Drama\",\"marker\":{\"color\":\"#636efa\",\"pattern\":{\"shape\":\"\"}},\"name\":\"Drama\",\"offsetgroup\":\"Drama\",\"orientation\":\"h\",\"showlegend\":true,\"textposition\":\"auto\",\"x\":[1442],\"xaxis\":\"x\",\"y\":[\"Drama\"],\"yaxis\":\"y\",\"type\":\"bar\"},{\"alignmentgroup\":\"True\",\"hovertemplate\":\"genres=%{y}<br>count=%{x}<extra></extra>\",\"legendgroup\":\"Comedy\",\"marker\":{\"color\":\"#EF553B\",\"pattern\":{\"shape\":\"\"}},\"name\":\"Comedy\",\"offsetgroup\":\"Comedy\",\"orientation\":\"h\",\"showlegend\":true,\"textposition\":\"auto\",\"x\":[1110],\"xaxis\":\"x\",\"y\":[\"Comedy\"],\"yaxis\":\"y\",\"type\":\"bar\"},{\"alignmentgroup\":\"True\",\"hovertemplate\":\"genres=%{y}<br>count=%{x}<extra></extra>\",\"legendgroup\":\"Thriller\",\"marker\":{\"color\":\"#00cc96\",\"pattern\":{\"shape\":\"\"}},\"name\":\"Thriller\",\"offsetgroup\":\"Thriller\",\"orientation\":\"h\",\"showlegend\":true,\"textposition\":\"auto\",\"x\":[936],\"xaxis\":\"x\",\"y\":[\"Thriller\"],\"yaxis\":\"y\",\"type\":\"bar\"},{\"alignmentgroup\":\"True\",\"hovertemplate\":\"genres=%{y}<br>count=%{x}<extra></extra>\",\"legendgroup\":\"Action\",\"marker\":{\"color\":\"#ab63fa\",\"pattern\":{\"shape\":\"\"}},\"name\":\"Action\",\"offsetgroup\":\"Action\",\"orientation\":\"h\",\"showlegend\":true,\"textposition\":\"auto\",\"x\":[920],\"xaxis\":\"x\",\"y\":[\"Action\"],\"yaxis\":\"y\",\"type\":\"bar\"},{\"alignmentgroup\":\"True\",\"hovertemplate\":\"genres=%{y}<br>count=%{x}<extra></extra>\",\"legendgroup\":\"Adventure\",\"marker\":{\"color\":\"#FFA15A\",\"pattern\":{\"shape\":\"\"}},\"name\":\"Adventure\",\"offsetgroup\":\"Adventure\",\"orientation\":\"h\",\"showlegend\":true,\"textposition\":\"auto\",\"x\":[662],\"xaxis\":\"x\",\"y\":[\"Adventure\"],\"yaxis\":\"y\",\"type\":\"bar\"},{\"alignmentgroup\":\"True\",\"hovertemplate\":\"genres=%{y}<br>count=%{x}<extra></extra>\",\"legendgroup\":\"Romance\",\"marker\":{\"color\":\"#19d3f3\",\"pattern\":{\"shape\":\"\"}},\"name\":\"Romance\",\"offsetgroup\":\"Romance\",\"orientation\":\"h\",\"showlegend\":true,\"textposition\":\"auto\",\"x\":[575],\"xaxis\":\"x\",\"y\":[\"Romance\"],\"yaxis\":\"y\",\"type\":\"bar\"},{\"alignmentgroup\":\"True\",\"hovertemplate\":\"genres=%{y}<br>count=%{x}<extra></extra>\",\"legendgroup\":\"Crime\",\"marker\":{\"color\":\"#FF6692\",\"pattern\":{\"shape\":\"\"}},\"name\":\"Crime\",\"offsetgroup\":\"Crime\",\"orientation\":\"h\",\"showlegend\":true,\"textposition\":\"auto\",\"x\":[521],\"xaxis\":\"x\",\"y\":[\"Crime\"],\"yaxis\":\"y\",\"type\":\"bar\"},{\"alignmentgroup\":\"True\",\"hovertemplate\":\"genres=%{y}<br>count=%{x}<extra></extra>\",\"legendgroup\":\"Science Fiction\",\"marker\":{\"color\":\"#B6E880\",\"pattern\":{\"shape\":\"\"}},\"name\":\"Science Fiction\",\"offsetgroup\":\"Science Fiction\",\"orientation\":\"h\",\"showlegend\":true,\"textposition\":\"auto\",\"x\":[433],\"xaxis\":\"x\",\"y\":[\"Science Fiction\"],\"yaxis\":\"y\",\"type\":\"bar\"},{\"alignmentgroup\":\"True\",\"hovertemplate\":\"genres=%{y}<br>count=%{x}<extra></extra>\",\"legendgroup\":\"Family\",\"marker\":{\"color\":\"#FF97FF\",\"pattern\":{\"shape\":\"\"}},\"name\":\"Family\",\"offsetgroup\":\"Family\",\"orientation\":\"h\",\"showlegend\":true,\"textposition\":\"auto\",\"x\":[364],\"xaxis\":\"x\",\"y\":[\"Family\"],\"yaxis\":\"y\",\"type\":\"bar\"},{\"alignmentgroup\":\"True\",\"hovertemplate\":\"genres=%{y}<br>count=%{x}<extra></extra>\",\"legendgroup\":\"Fantasy\",\"marker\":{\"color\":\"#FECB52\",\"pattern\":{\"shape\":\"\"}},\"name\":\"Fantasy\",\"offsetgroup\":\"Fantasy\",\"orientation\":\"h\",\"showlegend\":true,\"textposition\":\"auto\",\"x\":[343],\"xaxis\":\"x\",\"y\":[\"Fantasy\"],\"yaxis\":\"y\",\"type\":\"bar\"},{\"alignmentgroup\":\"True\",\"hovertemplate\":\"genres=%{y}<br>count=%{x}<extra></extra>\",\"legendgroup\":\"Horror\",\"marker\":{\"color\":\"#636efa\",\"pattern\":{\"shape\":\"\"}},\"name\":\"Horror\",\"offsetgroup\":\"Horror\",\"orientation\":\"h\",\"showlegend\":true,\"textposition\":\"auto\",\"x\":[333],\"xaxis\":\"x\",\"y\":[\"Horror\"],\"yaxis\":\"y\",\"type\":\"bar\"},{\"alignmentgroup\":\"True\",\"hovertemplate\":\"genres=%{y}<br>count=%{x}<extra></extra>\",\"legendgroup\":\"Mystery\",\"marker\":{\"color\":\"#EF553B\",\"pattern\":{\"shape\":\"\"}},\"name\":\"Mystery\",\"offsetgroup\":\"Mystery\",\"orientation\":\"h\",\"showlegend\":true,\"textposition\":\"auto\",\"x\":[265],\"xaxis\":\"x\",\"y\":[\"Mystery\"],\"yaxis\":\"y\",\"type\":\"bar\"},{\"alignmentgroup\":\"True\",\"hovertemplate\":\"genres=%{y}<br>count=%{x}<extra></extra>\",\"legendgroup\":\"Animation\",\"marker\":{\"color\":\"#00cc96\",\"pattern\":{\"shape\":\"\"}},\"name\":\"Animation\",\"offsetgroup\":\"Animation\",\"orientation\":\"h\",\"showlegend\":true,\"textposition\":\"auto\",\"x\":[187],\"xaxis\":\"x\",\"y\":[\"Animation\"],\"yaxis\":\"y\",\"type\":\"bar\"},{\"alignmentgroup\":\"True\",\"hovertemplate\":\"genres=%{y}<br>count=%{x}<extra></extra>\",\"legendgroup\":\"History\",\"marker\":{\"color\":\"#ab63fa\",\"pattern\":{\"shape\":\"\"}},\"name\":\"History\",\"offsetgroup\":\"History\",\"orientation\":\"h\",\"showlegend\":true,\"textposition\":\"auto\",\"x\":[145],\"xaxis\":\"x\",\"y\":[\"History\"],\"yaxis\":\"y\",\"type\":\"bar\"},{\"alignmentgroup\":\"True\",\"hovertemplate\":\"genres=%{y}<br>count=%{x}<extra></extra>\",\"legendgroup\":\"War\",\"marker\":{\"color\":\"#FFA15A\",\"pattern\":{\"shape\":\"\"}},\"name\":\"War\",\"offsetgroup\":\"War\",\"orientation\":\"h\",\"showlegend\":true,\"textposition\":\"auto\",\"x\":[120],\"xaxis\":\"x\",\"y\":[\"War\"],\"yaxis\":\"y\",\"type\":\"bar\"},{\"alignmentgroup\":\"True\",\"hovertemplate\":\"genres=%{y}<br>count=%{x}<extra></extra>\",\"legendgroup\":\"Music\",\"marker\":{\"color\":\"#19d3f3\",\"pattern\":{\"shape\":\"\"}},\"name\":\"Music\",\"offsetgroup\":\"Music\",\"orientation\":\"h\",\"showlegend\":true,\"textposition\":\"auto\",\"x\":[111],\"xaxis\":\"x\",\"y\":[\"Music\"],\"yaxis\":\"y\",\"type\":\"bar\"},{\"alignmentgroup\":\"True\",\"hovertemplate\":\"genres=%{y}<br>count=%{x}<extra></extra>\",\"legendgroup\":\"Western\",\"marker\":{\"color\":\"#FF6692\",\"pattern\":{\"shape\":\"\"}},\"name\":\"Western\",\"offsetgroup\":\"Western\",\"orientation\":\"h\",\"showlegend\":true,\"textposition\":\"auto\",\"x\":[57],\"xaxis\":\"x\",\"y\":[\"Western\"],\"yaxis\":\"y\",\"type\":\"bar\"},{\"alignmentgroup\":\"True\",\"hovertemplate\":\"genres=%{y}<br>count=%{x}<extra></extra>\",\"legendgroup\":\"Documentary\",\"marker\":{\"color\":\"#B6E880\",\"pattern\":{\"shape\":\"\"}},\"name\":\"Documentary\",\"offsetgroup\":\"Documentary\",\"orientation\":\"h\",\"showlegend\":true,\"textposition\":\"auto\",\"x\":[38],\"xaxis\":\"x\",\"y\":[\"Documentary\"],\"yaxis\":\"y\",\"type\":\"bar\"},{\"alignmentgroup\":\"True\",\"hovertemplate\":\"genres=%{y}<br>count=%{x}<extra></extra>\",\"legendgroup\":\"Foreign\",\"marker\":{\"color\":\"#FF97FF\",\"pattern\":{\"shape\":\"\"}},\"name\":\"Foreign\",\"offsetgroup\":\"Foreign\",\"orientation\":\"h\",\"showlegend\":true,\"textposition\":\"auto\",\"x\":[4],\"xaxis\":\"x\",\"y\":[\"Foreign\"],\"yaxis\":\"y\",\"type\":\"bar\"}],                        {\"template\":{\"data\":{\"bar\":[{\"error_x\":{\"color\":\"#2a3f5f\"},\"error_y\":{\"color\":\"#2a3f5f\"},\"marker\":{\"line\":{\"color\":\"#E5ECF6\",\"width\":0.5},\"pattern\":{\"fillmode\":\"overlay\",\"size\":10,\"solidity\":0.2}},\"type\":\"bar\"}],\"barpolar\":[{\"marker\":{\"line\":{\"color\":\"#E5ECF6\",\"width\":0.5},\"pattern\":{\"fillmode\":\"overlay\",\"size\":10,\"solidity\":0.2}},\"type\":\"barpolar\"}],\"carpet\":[{\"aaxis\":{\"endlinecolor\":\"#2a3f5f\",\"gridcolor\":\"white\",\"linecolor\":\"white\",\"minorgridcolor\":\"white\",\"startlinecolor\":\"#2a3f5f\"},\"baxis\":{\"endlinecolor\":\"#2a3f5f\",\"gridcolor\":\"white\",\"linecolor\":\"white\",\"minorgridcolor\":\"white\",\"startlinecolor\":\"#2a3f5f\"},\"type\":\"carpet\"}],\"choropleth\":[{\"colorbar\":{\"outlinewidth\":0,\"ticks\":\"\"},\"type\":\"choropleth\"}],\"contour\":[{\"colorbar\":{\"outlinewidth\":0,\"ticks\":\"\"},\"colorscale\":[[0.0,\"#0d0887\"],[0.1111111111111111,\"#46039f\"],[0.2222222222222222,\"#7201a8\"],[0.3333333333333333,\"#9c179e\"],[0.4444444444444444,\"#bd3786\"],[0.5555555555555556,\"#d8576b\"],[0.6666666666666666,\"#ed7953\"],[0.7777777777777778,\"#fb9f3a\"],[0.8888888888888888,\"#fdca26\"],[1.0,\"#f0f921\"]],\"type\":\"contour\"}],\"contourcarpet\":[{\"colorbar\":{\"outlinewidth\":0,\"ticks\":\"\"},\"type\":\"contourcarpet\"}],\"heatmap\":[{\"colorbar\":{\"outlinewidth\":0,\"ticks\":\"\"},\"colorscale\":[[0.0,\"#0d0887\"],[0.1111111111111111,\"#46039f\"],[0.2222222222222222,\"#7201a8\"],[0.3333333333333333,\"#9c179e\"],[0.4444444444444444,\"#bd3786\"],[0.5555555555555556,\"#d8576b\"],[0.6666666666666666,\"#ed7953\"],[0.7777777777777778,\"#fb9f3a\"],[0.8888888888888888,\"#fdca26\"],[1.0,\"#f0f921\"]],\"type\":\"heatmap\"}],\"heatmapgl\":[{\"colorbar\":{\"outlinewidth\":0,\"ticks\":\"\"},\"colorscale\":[[0.0,\"#0d0887\"],[0.1111111111111111,\"#46039f\"],[0.2222222222222222,\"#7201a8\"],[0.3333333333333333,\"#9c179e\"],[0.4444444444444444,\"#bd3786\"],[0.5555555555555556,\"#d8576b\"],[0.6666666666666666,\"#ed7953\"],[0.7777777777777778,\"#fb9f3a\"],[0.8888888888888888,\"#fdca26\"],[1.0,\"#f0f921\"]],\"type\":\"heatmapgl\"}],\"histogram\":[{\"marker\":{\"pattern\":{\"fillmode\":\"overlay\",\"size\":10,\"solidity\":0.2}},\"type\":\"histogram\"}],\"histogram2d\":[{\"colorbar\":{\"outlinewidth\":0,\"ticks\":\"\"},\"colorscale\":[[0.0,\"#0d0887\"],[0.1111111111111111,\"#46039f\"],[0.2222222222222222,\"#7201a8\"],[0.3333333333333333,\"#9c179e\"],[0.4444444444444444,\"#bd3786\"],[0.5555555555555556,\"#d8576b\"],[0.6666666666666666,\"#ed7953\"],[0.7777777777777778,\"#fb9f3a\"],[0.8888888888888888,\"#fdca26\"],[1.0,\"#f0f921\"]],\"type\":\"histogram2d\"}],\"histogram2dcontour\":[{\"colorbar\":{\"outlinewidth\":0,\"ticks\":\"\"},\"colorscale\":[[0.0,\"#0d0887\"],[0.1111111111111111,\"#46039f\"],[0.2222222222222222,\"#7201a8\"],[0.3333333333333333,\"#9c179e\"],[0.4444444444444444,\"#bd3786\"],[0.5555555555555556,\"#d8576b\"],[0.6666666666666666,\"#ed7953\"],[0.7777777777777778,\"#fb9f3a\"],[0.8888888888888888,\"#fdca26\"],[1.0,\"#f0f921\"]],\"type\":\"histogram2dcontour\"}],\"mesh3d\":[{\"colorbar\":{\"outlinewidth\":0,\"ticks\":\"\"},\"type\":\"mesh3d\"}],\"parcoords\":[{\"line\":{\"colorbar\":{\"outlinewidth\":0,\"ticks\":\"\"}},\"type\":\"parcoords\"}],\"pie\":[{\"automargin\":true,\"type\":\"pie\"}],\"scatter\":[{\"marker\":{\"colorbar\":{\"outlinewidth\":0,\"ticks\":\"\"}},\"type\":\"scatter\"}],\"scatter3d\":[{\"line\":{\"colorbar\":{\"outlinewidth\":0,\"ticks\":\"\"}},\"marker\":{\"colorbar\":{\"outlinewidth\":0,\"ticks\":\"\"}},\"type\":\"scatter3d\"}],\"scattercarpet\":[{\"marker\":{\"colorbar\":{\"outlinewidth\":0,\"ticks\":\"\"}},\"type\":\"scattercarpet\"}],\"scattergeo\":[{\"marker\":{\"colorbar\":{\"outlinewidth\":0,\"ticks\":\"\"}},\"type\":\"scattergeo\"}],\"scattergl\":[{\"marker\":{\"colorbar\":{\"outlinewidth\":0,\"ticks\":\"\"}},\"type\":\"scattergl\"}],\"scattermapbox\":[{\"marker\":{\"colorbar\":{\"outlinewidth\":0,\"ticks\":\"\"}},\"type\":\"scattermapbox\"}],\"scatterpolar\":[{\"marker\":{\"colorbar\":{\"outlinewidth\":0,\"ticks\":\"\"}},\"type\":\"scatterpolar\"}],\"scatterpolargl\":[{\"marker\":{\"colorbar\":{\"outlinewidth\":0,\"ticks\":\"\"}},\"type\":\"scatterpolargl\"}],\"scatterternary\":[{\"marker\":{\"colorbar\":{\"outlinewidth\":0,\"ticks\":\"\"}},\"type\":\"scatterternary\"}],\"surface\":[{\"colorbar\":{\"outlinewidth\":0,\"ticks\":\"\"},\"colorscale\":[[0.0,\"#0d0887\"],[0.1111111111111111,\"#46039f\"],[0.2222222222222222,\"#7201a8\"],[0.3333333333333333,\"#9c179e\"],[0.4444444444444444,\"#bd3786\"],[0.5555555555555556,\"#d8576b\"],[0.6666666666666666,\"#ed7953\"],[0.7777777777777778,\"#fb9f3a\"],[0.8888888888888888,\"#fdca26\"],[1.0,\"#f0f921\"]],\"type\":\"surface\"}],\"table\":[{\"cells\":{\"fill\":{\"color\":\"#EBF0F8\"},\"line\":{\"color\":\"white\"}},\"header\":{\"fill\":{\"color\":\"#C8D4E3\"},\"line\":{\"color\":\"white\"}},\"type\":\"table\"}]},\"layout\":{\"annotationdefaults\":{\"arrowcolor\":\"#2a3f5f\",\"arrowhead\":0,\"arrowwidth\":1},\"autotypenumbers\":\"strict\",\"coloraxis\":{\"colorbar\":{\"outlinewidth\":0,\"ticks\":\"\"}},\"colorscale\":{\"diverging\":[[0,\"#8e0152\"],[0.1,\"#c51b7d\"],[0.2,\"#de77ae\"],[0.3,\"#f1b6da\"],[0.4,\"#fde0ef\"],[0.5,\"#f7f7f7\"],[0.6,\"#e6f5d0\"],[0.7,\"#b8e186\"],[0.8,\"#7fbc41\"],[0.9,\"#4d9221\"],[1,\"#276419\"]],\"sequential\":[[0.0,\"#0d0887\"],[0.1111111111111111,\"#46039f\"],[0.2222222222222222,\"#7201a8\"],[0.3333333333333333,\"#9c179e\"],[0.4444444444444444,\"#bd3786\"],[0.5555555555555556,\"#d8576b\"],[0.6666666666666666,\"#ed7953\"],[0.7777777777777778,\"#fb9f3a\"],[0.8888888888888888,\"#fdca26\"],[1.0,\"#f0f921\"]],\"sequentialminus\":[[0.0,\"#0d0887\"],[0.1111111111111111,\"#46039f\"],[0.2222222222222222,\"#7201a8\"],[0.3333333333333333,\"#9c179e\"],[0.4444444444444444,\"#bd3786\"],[0.5555555555555556,\"#d8576b\"],[0.6666666666666666,\"#ed7953\"],[0.7777777777777778,\"#fb9f3a\"],[0.8888888888888888,\"#fdca26\"],[1.0,\"#f0f921\"]]},\"colorway\":[\"#636efa\",\"#EF553B\",\"#00cc96\",\"#ab63fa\",\"#FFA15A\",\"#19d3f3\",\"#FF6692\",\"#B6E880\",\"#FF97FF\",\"#FECB52\"],\"font\":{\"color\":\"#2a3f5f\"},\"geo\":{\"bgcolor\":\"white\",\"lakecolor\":\"white\",\"landcolor\":\"#E5ECF6\",\"showlakes\":true,\"showland\":true,\"subunitcolor\":\"white\"},\"hoverlabel\":{\"align\":\"left\"},\"hovermode\":\"closest\",\"mapbox\":{\"style\":\"light\"},\"paper_bgcolor\":\"white\",\"plot_bgcolor\":\"#E5ECF6\",\"polar\":{\"angularaxis\":{\"gridcolor\":\"white\",\"linecolor\":\"white\",\"ticks\":\"\"},\"bgcolor\":\"#E5ECF6\",\"radialaxis\":{\"gridcolor\":\"white\",\"linecolor\":\"white\",\"ticks\":\"\"}},\"scene\":{\"xaxis\":{\"backgroundcolor\":\"#E5ECF6\",\"gridcolor\":\"white\",\"gridwidth\":2,\"linecolor\":\"white\",\"showbackground\":true,\"ticks\":\"\",\"zerolinecolor\":\"white\"},\"yaxis\":{\"backgroundcolor\":\"#E5ECF6\",\"gridcolor\":\"white\",\"gridwidth\":2,\"linecolor\":\"white\",\"showbackground\":true,\"ticks\":\"\",\"zerolinecolor\":\"white\"},\"zaxis\":{\"backgroundcolor\":\"#E5ECF6\",\"gridcolor\":\"white\",\"gridwidth\":2,\"linecolor\":\"white\",\"showbackground\":true,\"ticks\":\"\",\"zerolinecolor\":\"white\"}},\"shapedefaults\":{\"line\":{\"color\":\"#2a3f5f\"}},\"ternary\":{\"aaxis\":{\"gridcolor\":\"white\",\"linecolor\":\"white\",\"ticks\":\"\"},\"baxis\":{\"gridcolor\":\"white\",\"linecolor\":\"white\",\"ticks\":\"\"},\"bgcolor\":\"#E5ECF6\",\"caxis\":{\"gridcolor\":\"white\",\"linecolor\":\"white\",\"ticks\":\"\"}},\"title\":{\"x\":0.05},\"xaxis\":{\"automargin\":true,\"gridcolor\":\"white\",\"linecolor\":\"white\",\"ticks\":\"\",\"title\":{\"standoff\":15},\"zerolinecolor\":\"white\",\"zerolinewidth\":2},\"yaxis\":{\"automargin\":true,\"gridcolor\":\"white\",\"linecolor\":\"white\",\"ticks\":\"\",\"title\":{\"standoff\":15},\"zerolinecolor\":\"white\",\"zerolinewidth\":2}}},\"xaxis\":{\"anchor\":\"y\",\"domain\":[0.0,1.0],\"title\":{\"text\":\"count\"}},\"yaxis\":{\"anchor\":\"x\",\"domain\":[0.0,1.0],\"title\":{\"text\":\"genres\"},\"categoryorder\":\"array\",\"categoryarray\":[\"Foreign\",\"Documentary\",\"Western\",\"Music\",\"War\",\"History\",\"Animation\",\"Mystery\",\"Horror\",\"Fantasy\",\"Family\",\"Science Fiction\",\"Crime\",\"Romance\",\"Adventure\",\"Action\",\"Thriller\",\"Comedy\",\"Drama\"]},\"legend\":{\"title\":{\"text\":\"genres\"},\"tracegroupgap\":0},\"margin\":{\"t\":60},\"barmode\":\"relative\"},                        {\"responsive\": true}                    ).then(function(){\n",
       "                            \n",
       "var gd = document.getElementById('35b4ade2-e558-4bba-966b-227451a1fd86');\n",
       "var x = new MutationObserver(function (mutations, observer) {{\n",
       "        var display = window.getComputedStyle(gd).display;\n",
       "        if (!display || display === 'none') {{\n",
       "            console.log([gd, 'removed!']);\n",
       "            Plotly.purge(gd);\n",
       "            observer.disconnect();\n",
       "        }}\n",
       "}});\n",
       "\n",
       "// Listen for the removal of the full notebook cells\n",
       "var notebookContainer = gd.closest('#notebook-container');\n",
       "if (notebookContainer) {{\n",
       "    x.observe(notebookContainer, {childList: true});\n",
       "}}\n",
       "\n",
       "// Listen for the clearing of the current output cell\n",
       "var outputEl = gd.closest('.output');\n",
       "if (outputEl) {{\n",
       "    x.observe(outputEl, {childList: true});\n",
       "}}\n",
       "\n",
       "                        })                };                });            </script>        </div>"
      ]
     },
     "metadata": {},
     "output_type": "display_data"
    }
   ],
   "source": [
    "popular_genres = genre_dummies.sum().sort_values(ascending = False).reset_index()\n",
    "popular_genres.columns = ['genres' , 'count']\n",
    "popular_genres\n",
    "px.bar(data_frame = popular_genres , x = 'count' ,  y = 'genres'  , color = 'genres' )"
   ]
  },
  {
   "cell_type": "markdown",
   "id": "68a4c44e",
   "metadata": {
    "papermill": {
     "duration": 0.047102,
     "end_time": "2022-06-20T14:46:55.783686",
     "exception": false,
     "start_time": "2022-06-20T14:46:55.736584",
     "status": "completed"
    },
    "tags": []
   },
   "source": [
    "We can see that , from above bar graph  Drama is most popular and foreign  is least popular."
   ]
  },
  {
   "cell_type": "markdown",
   "id": "c9298543",
   "metadata": {
    "papermill": {
     "duration": 0.046545,
     "end_time": "2022-06-20T14:46:59.386414",
     "exception": false,
     "start_time": "2022-06-20T14:46:59.339869",
     "status": "completed"
    },
    "tags": []
   },
   "source": [
    "# Model 1"
   ]
  },
  {
   "cell_type": "markdown",
   "id": "54201aa1",
   "metadata": {
    "papermill": {
     "duration": 0.046637,
     "end_time": "2022-06-20T14:46:59.480759",
     "exception": false,
     "start_time": "2022-06-20T14:46:59.434122",
     "status": "completed"
    },
    "tags": []
   },
   "source": [
    "## Content Based Movie Recommender System "
   ]
  },
  {
   "cell_type": "code",
   "execution_count": 171,
   "id": "85a0adb8",
   "metadata": {
    "execution": {
     "iopub.execute_input": "2022-06-20T14:46:59.576958Z",
     "iopub.status.busy": "2022-06-20T14:46:59.576498Z",
     "iopub.status.idle": "2022-06-20T14:46:59.582343Z",
     "shell.execute_reply": "2022-06-20T14:46:59.581074Z"
    },
    "papermill": {
     "duration": 0.056702,
     "end_time": "2022-06-20T14:46:59.584505",
     "exception": false,
     "start_time": "2022-06-20T14:46:59.527803",
     "status": "completed"
    },
    "tags": []
   },
   "outputs": [],
   "source": [
    "def remove_white_spaces(x):\n",
    "    l= []\n",
    "    for i in x: \n",
    "        l.append(i.replace(\" \",\"\"))\n",
    "    return l "
   ]
  },
  {
   "cell_type": "markdown",
   "id": "f4dc4af0",
   "metadata": {
    "papermill": {
     "duration": 0.05122,
     "end_time": "2022-06-20T14:46:59.683184",
     "exception": false,
     "start_time": "2022-06-20T14:46:59.631964",
     "status": "completed"
    },
    "tags": []
   },
   "source": [
    "Working of remove_white_spaces function:\n",
    "\n",
    "remove_white_spaces([' Action' , ' Rakesh' , ' Kumar'])  -->>  return ['Action' , 'Rakesh' , 'Kumar']"
   ]
  },
  {
   "cell_type": "code",
   "execution_count": 172,
   "id": "88965e06",
   "metadata": {
    "execution": {
     "iopub.execute_input": "2022-06-20T14:46:59.780530Z",
     "iopub.status.busy": "2022-06-20T14:46:59.779154Z",
     "iopub.status.idle": "2022-06-20T14:46:59.816363Z",
     "shell.execute_reply": "2022-06-20T14:46:59.814922Z"
    },
    "papermill": {
     "duration": 0.088253,
     "end_time": "2022-06-20T14:46:59.818858",
     "exception": false,
     "start_time": "2022-06-20T14:46:59.730605",
     "status": "completed"
    },
    "tags": []
   },
   "outputs": [],
   "source": [
    "df['cast'] = df['cast'].apply(remove_white_spaces)\n",
    "df['Director'] = df['Director'].str.split(',').apply(remove_white_spaces)\n",
    "df['genres'] = df['genres'].apply(remove_white_spaces)\n",
    "df['keywords'] = df['keywords'].apply(remove_white_spaces)"
   ]
  },
  {
   "cell_type": "code",
   "execution_count": 173,
   "id": "2619610f",
   "metadata": {
    "execution": {
     "iopub.execute_input": "2022-06-20T14:46:59.916257Z",
     "iopub.status.busy": "2022-06-20T14:46:59.915493Z",
     "iopub.status.idle": "2022-06-20T14:46:59.943424Z",
     "shell.execute_reply": "2022-06-20T14:46:59.942601Z"
    },
    "papermill": {
     "duration": 0.079177,
     "end_time": "2022-06-20T14:46:59.945924",
     "exception": false,
     "start_time": "2022-06-20T14:46:59.866747",
     "status": "completed"
    },
    "tags": []
   },
   "outputs": [],
   "source": [
    "df['overview'] = df['overview'].apply(lambda x:x.split())"
   ]
  },
  {
   "cell_type": "code",
   "execution_count": 174,
   "id": "fe1e81b3",
   "metadata": {
    "execution": {
     "iopub.execute_input": "2022-06-20T14:47:00.043977Z",
     "iopub.status.busy": "2022-06-20T14:47:00.043278Z",
     "iopub.status.idle": "2022-06-20T14:47:00.108375Z",
     "shell.execute_reply": "2022-06-20T14:47:00.107287Z"
    },
    "papermill": {
     "duration": 0.117968,
     "end_time": "2022-06-20T14:47:00.110982",
     "exception": false,
     "start_time": "2022-06-20T14:46:59.993014",
     "status": "completed"
    },
    "tags": []
   },
   "outputs": [],
   "source": [
    "df['info'] = df['overview'] + df['keywords'] + df['genres'] + df['cast'] + df['Director'] "
   ]
  },
  {
   "cell_type": "code",
   "execution_count": 175,
   "id": "c0b14ea9",
   "metadata": {
    "execution": {
     "iopub.execute_input": "2022-06-20T14:47:00.207006Z",
     "iopub.status.busy": "2022-06-20T14:47:00.205887Z",
     "iopub.status.idle": "2022-06-20T14:47:00.224464Z",
     "shell.execute_reply": "2022-06-20T14:47:00.223449Z"
    },
    "papermill": {
     "duration": 0.069001,
     "end_time": "2022-06-20T14:47:00.226871",
     "exception": false,
     "start_time": "2022-06-20T14:47:00.157870",
     "status": "completed"
    },
    "tags": []
   },
   "outputs": [],
   "source": [
    "df['info'] = df['info'].apply(lambda x: \" \".join(x))"
   ]
  },
  {
   "cell_type": "code",
   "execution_count": 176,
   "id": "3d5ddaf4",
   "metadata": {
    "execution": {
     "iopub.execute_input": "2022-06-20T14:47:00.322488Z",
     "iopub.status.busy": "2022-06-20T14:47:00.321981Z",
     "iopub.status.idle": "2022-06-20T14:47:00.329074Z",
     "shell.execute_reply": "2022-06-20T14:47:00.328365Z"
    },
    "papermill": {
     "duration": 0.057558,
     "end_time": "2022-06-20T14:47:00.331045",
     "exception": false,
     "start_time": "2022-06-20T14:47:00.273487",
     "status": "completed"
    },
    "tags": []
   },
   "outputs": [
    {
     "data": {
      "text/plain": [
       "0    In the 22nd century, a paraplegic Marine is di...\n",
       "1    Captain Barbossa, long believed to be dead, ha...\n",
       "Name: info, dtype: object"
      ]
     },
     "execution_count": 176,
     "metadata": {},
     "output_type": "execute_result"
    }
   ],
   "source": [
    "df['info'][0:2]"
   ]
  },
  {
   "cell_type": "markdown",
   "id": "5a7e56b3",
   "metadata": {
    "papermill": {
     "duration": 0.047724,
     "end_time": "2022-06-20T14:47:00.425301",
     "exception": false,
     "start_time": "2022-06-20T14:47:00.377577",
     "status": "completed"
    },
    "tags": []
   },
   "source": [
    "## For movie recommendation system i will only select title , movie_id  and info columns "
   ]
  },
  {
   "cell_type": "code",
   "execution_count": 177,
   "id": "515b2aba",
   "metadata": {
    "execution": {
     "iopub.execute_input": "2022-06-20T14:47:00.526293Z",
     "iopub.status.busy": "2022-06-20T14:47:00.525273Z",
     "iopub.status.idle": "2022-06-20T14:47:00.541339Z",
     "shell.execute_reply": "2022-06-20T14:47:00.540219Z"
    },
    "papermill": {
     "duration": 0.06839,
     "end_time": "2022-06-20T14:47:00.543753",
     "exception": false,
     "start_time": "2022-06-20T14:47:00.475363",
     "status": "completed"
    },
    "tags": []
   },
   "outputs": [
    {
     "data": {
      "text/html": [
       "<div>\n",
       "<style scoped>\n",
       "    .dataframe tbody tr th:only-of-type {\n",
       "        vertical-align: middle;\n",
       "    }\n",
       "\n",
       "    .dataframe tbody tr th {\n",
       "        vertical-align: top;\n",
       "    }\n",
       "\n",
       "    .dataframe thead th {\n",
       "        text-align: right;\n",
       "    }\n",
       "</style>\n",
       "<table border=\"1\" class=\"dataframe\">\n",
       "  <thead>\n",
       "    <tr style=\"text-align: right;\">\n",
       "      <th></th>\n",
       "      <th>movie_id</th>\n",
       "      <th>title</th>\n",
       "      <th>info</th>\n",
       "    </tr>\n",
       "  </thead>\n",
       "  <tbody>\n",
       "    <tr>\n",
       "      <th>0</th>\n",
       "      <td>19995</td>\n",
       "      <td>Avatar</td>\n",
       "      <td>In the 22nd century, a paraplegic Marine is di...</td>\n",
       "    </tr>\n",
       "    <tr>\n",
       "      <th>1</th>\n",
       "      <td>285</td>\n",
       "      <td>Pirates of the Caribbean: At World's End</td>\n",
       "      <td>Captain Barbossa, long believed to be dead, ha...</td>\n",
       "    </tr>\n",
       "    <tr>\n",
       "      <th>2</th>\n",
       "      <td>206647</td>\n",
       "      <td>Spectre</td>\n",
       "      <td>A cryptic message from Bond’s past sends him o...</td>\n",
       "    </tr>\n",
       "    <tr>\n",
       "      <th>3</th>\n",
       "      <td>49026</td>\n",
       "      <td>The Dark Knight Rises</td>\n",
       "      <td>Following the death of District Attorney Harve...</td>\n",
       "    </tr>\n",
       "    <tr>\n",
       "      <th>4</th>\n",
       "      <td>49529</td>\n",
       "      <td>John Carter</td>\n",
       "      <td>John Carter is a war-weary, former military ca...</td>\n",
       "    </tr>\n",
       "  </tbody>\n",
       "</table>\n",
       "</div>"
      ],
      "text/plain": [
       "   movie_id                                     title  \\\n",
       "0     19995                                    Avatar   \n",
       "1       285  Pirates of the Caribbean: At World's End   \n",
       "2    206647                                   Spectre   \n",
       "3     49026                     The Dark Knight Rises   \n",
       "4     49529                               John Carter   \n",
       "\n",
       "                                                info  \n",
       "0  In the 22nd century, a paraplegic Marine is di...  \n",
       "1  Captain Barbossa, long believed to be dead, ha...  \n",
       "2  A cryptic message from Bond’s past sends him o...  \n",
       "3  Following the death of District Attorney Harve...  \n",
       "4  John Carter is a war-weary, former military ca...  "
      ]
     },
     "execution_count": 177,
     "metadata": {},
     "output_type": "execute_result"
    }
   ],
   "source": [
    "movie_recommend_df = df[['movie_id' , 'title' , 'info']]\n",
    "movie_recommend_df.head()"
   ]
  },
  {
   "cell_type": "code",
   "execution_count": 178,
   "id": "39b89131",
   "metadata": {
    "execution": {
     "iopub.execute_input": "2022-06-20T14:47:00.640592Z",
     "iopub.status.busy": "2022-06-20T14:47:00.639732Z",
     "iopub.status.idle": "2022-06-20T14:47:00.813696Z",
     "shell.execute_reply": "2022-06-20T14:47:00.812625Z"
    },
    "papermill": {
     "duration": 0.224865,
     "end_time": "2022-06-20T14:47:00.816182",
     "exception": false,
     "start_time": "2022-06-20T14:47:00.591317",
     "status": "completed"
    },
    "tags": []
   },
   "outputs": [],
   "source": [
    "from sklearn.feature_extraction.text import CountVectorizer\n",
    "cv = CountVectorizer(max_features=5000,stop_words='english')"
   ]
  },
  {
   "cell_type": "code",
   "execution_count": 179,
   "id": "7b90e29b",
   "metadata": {
    "execution": {
     "iopub.execute_input": "2022-06-20T14:47:00.915198Z",
     "iopub.status.busy": "2022-06-20T14:47:00.914361Z",
     "iopub.status.idle": "2022-06-20T14:47:01.317650Z",
     "shell.execute_reply": "2022-06-20T14:47:01.316477Z"
    },
    "papermill": {
     "duration": 0.455497,
     "end_time": "2022-06-20T14:47:01.320478",
     "exception": false,
     "start_time": "2022-06-20T14:47:00.864981",
     "status": "completed"
    },
    "tags": []
   },
   "outputs": [],
   "source": [
    "vector = cv.fit_transform(movie_recommend_df['info']).toarray()"
   ]
  },
  {
   "cell_type": "code",
   "execution_count": 180,
   "id": "13da48cf",
   "metadata": {
    "execution": {
     "iopub.execute_input": "2022-06-20T14:47:01.417045Z",
     "iopub.status.busy": "2022-06-20T14:47:01.416182Z",
     "iopub.status.idle": "2022-06-20T14:47:01.422951Z",
     "shell.execute_reply": "2022-06-20T14:47:01.422161Z"
    },
    "papermill": {
     "duration": 0.057619,
     "end_time": "2022-06-20T14:47:01.424974",
     "exception": false,
     "start_time": "2022-06-20T14:47:01.367355",
     "status": "completed"
    },
    "tags": []
   },
   "outputs": [
    {
     "data": {
      "text/plain": [
       "(3230, 5000)"
      ]
     },
     "execution_count": 180,
     "metadata": {},
     "output_type": "execute_result"
    }
   ],
   "source": [
    "vector.shape "
   ]
  },
  {
   "cell_type": "code",
   "execution_count": 181,
   "id": "09ccdaab",
   "metadata": {
    "execution": {
     "iopub.execute_input": "2022-06-20T14:47:01.521327Z",
     "iopub.status.busy": "2022-06-20T14:47:01.520470Z",
     "iopub.status.idle": "2022-06-20T14:47:02.669815Z",
     "shell.execute_reply": "2022-06-20T14:47:02.668332Z"
    },
    "papermill": {
     "duration": 1.201858,
     "end_time": "2022-06-20T14:47:02.673680",
     "exception": false,
     "start_time": "2022-06-20T14:47:01.471822",
     "status": "completed"
    },
    "tags": []
   },
   "outputs": [],
   "source": [
    "from sklearn.metrics.pairwise import cosine_similarity\n",
    "similarity = cosine_similarity(vector) "
   ]
  },
  {
   "cell_type": "code",
   "execution_count": 182,
   "id": "ea1da496",
   "metadata": {
    "execution": {
     "iopub.execute_input": "2022-06-20T14:47:02.792976Z",
     "iopub.status.busy": "2022-06-20T14:47:02.792465Z",
     "iopub.status.idle": "2022-06-20T14:47:02.799334Z",
     "shell.execute_reply": "2022-06-20T14:47:02.798162Z"
    },
    "papermill": {
     "duration": 0.058097,
     "end_time": "2022-06-20T14:47:02.801489",
     "exception": false,
     "start_time": "2022-06-20T14:47:02.743392",
     "status": "completed"
    },
    "tags": []
   },
   "outputs": [],
   "source": [
    "def recommend(movie):\n",
    "    index = movie_recommend_df[movie_recommend_df['title'] == movie].index[0]\n",
    "    distances = sorted(list(enumerate(similarity[index])),reverse=True,key = lambda x: x[1])\n",
    "    for i in distances[1:6]:\n",
    "        print(movie_recommend_df.iloc[i[0]].title)\n",
    "        \n"
   ]
  },
  {
   "cell_type": "code",
   "execution_count": 183,
   "id": "460e7dfe",
   "metadata": {
    "execution": {
     "iopub.execute_input": "2022-06-20T14:47:02.899494Z",
     "iopub.status.busy": "2022-06-20T14:47:02.898715Z",
     "iopub.status.idle": "2022-06-20T14:47:02.909128Z",
     "shell.execute_reply": "2022-06-20T14:47:02.908316Z"
    },
    "papermill": {
     "duration": 0.061623,
     "end_time": "2022-06-20T14:47:02.911758",
     "exception": false,
     "start_time": "2022-06-20T14:47:02.850135",
     "status": "completed"
    },
    "tags": []
   },
   "outputs": [
    {
     "name": "stdout",
     "output_type": "stream",
     "text": [
      "The Dark Knight\n",
      "Batman\n",
      "Batman Begins\n",
      "Batman Returns\n",
      "Batman\n"
     ]
    }
   ],
   "source": [
    "recommend('The Dark Knight Rises') "
   ]
  },
  {
   "cell_type": "code",
   "execution_count": 184,
   "id": "4c445f07",
   "metadata": {
    "execution": {
     "iopub.execute_input": "2022-06-20T14:47:03.010228Z",
     "iopub.status.busy": "2022-06-20T14:47:03.009229Z",
     "iopub.status.idle": "2022-06-20T14:47:03.020606Z",
     "shell.execute_reply": "2022-06-20T14:47:03.019438Z"
    },
    "papermill": {
     "duration": 0.063138,
     "end_time": "2022-06-20T14:47:03.022943",
     "exception": false,
     "start_time": "2022-06-20T14:47:02.959805",
     "status": "completed"
    },
    "tags": []
   },
   "outputs": [
    {
     "name": "stdout",
     "output_type": "stream",
     "text": [
      "Spider-Man 2\n",
      "Spider-Man\n",
      "The Amazing Spider-Man 2\n",
      "The Amazing Spider-Man\n",
      "Arachnophobia\n"
     ]
    }
   ],
   "source": [
    "recommend('Spider-Man 3')  "
   ]
  },
  {
   "cell_type": "code",
   "execution_count": 185,
   "id": "68066f44",
   "metadata": {
    "execution": {
     "iopub.execute_input": "2022-06-20T14:47:03.124172Z",
     "iopub.status.busy": "2022-06-20T14:47:03.123325Z",
     "iopub.status.idle": "2022-06-20T14:47:03.134281Z",
     "shell.execute_reply": "2022-06-20T14:47:03.132532Z"
    },
    "papermill": {
     "duration": 0.063234,
     "end_time": "2022-06-20T14:47:03.136749",
     "exception": false,
     "start_time": "2022-06-20T14:47:03.073515",
     "status": "completed"
    },
    "tags": []
   },
   "outputs": [
    {
     "name": "stdout",
     "output_type": "stream",
     "text": [
      "Pirates of the Caribbean: Dead Man's Chest\n",
      "Pirates of the Caribbean: The Curse of the Black Pearl\n",
      "Pirates of the Caribbean: On Stranger Tides\n",
      "20,000 Leagues Under the Sea\n",
      "Puss in Boots\n"
     ]
    }
   ],
   "source": [
    "recommend(\"Pirates of the Caribbean: At World's End\")"
   ]
  }
 ],
 "metadata": {
  "kernelspec": {
   "display_name": "Python 3 (ipykernel)",
   "language": "python",
   "name": "python3"
  },
  "language_info": {
   "codemirror_mode": {
    "name": "ipython",
    "version": 3
   },
   "file_extension": ".py",
   "mimetype": "text/x-python",
   "name": "python",
   "nbconvert_exporter": "python",
   "pygments_lexer": "ipython3",
   "version": "3.9.12"
  },
  "papermill": {
   "default_parameters": {},
   "duration": 62.488097,
   "end_time": "2022-06-20T14:47:18.643486",
   "environment_variables": {},
   "exception": null,
   "input_path": "__notebook__.ipynb",
   "output_path": "__notebook__.ipynb",
   "parameters": {},
   "start_time": "2022-06-20T14:46:16.155389",
   "version": "2.3.4"
  }
 },
 "nbformat": 4,
 "nbformat_minor": 5
}
